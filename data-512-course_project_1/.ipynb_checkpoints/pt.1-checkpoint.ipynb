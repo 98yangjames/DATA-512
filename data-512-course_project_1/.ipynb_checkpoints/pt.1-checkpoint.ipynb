{
 "cells": [
  {
   "cell_type": "markdown",
   "id": "32bc3d9b",
   "metadata": {},
   "source": [
    "# 1. Data Cleaning\n",
    "\n",
    "This notebook cleans, filtes, and aggregates the data to focus on the county I'm investigating the county of Bergen in New Jersey."
   ]
  },
  {
   "cell_type": "code",
   "execution_count": 104,
   "id": "daa40377",
   "metadata": {},
   "outputs": [],
   "source": [
    "# Imports\n",
    "import pandas as pd"
   ]
  },
  {
   "cell_type": "markdown",
   "id": "e33bbe8d",
   "metadata": {},
   "source": [
    "## Get Data from Source"
   ]
  },
  {
   "cell_type": "code",
   "execution_count": 105,
   "id": "d538b3f3",
   "metadata": {},
   "outputs": [
    {
     "data": {
      "text/html": [
       "<div>\n",
       "<style scoped>\n",
       "    .dataframe tbody tr th:only-of-type {\n",
       "        vertical-align: middle;\n",
       "    }\n",
       "\n",
       "    .dataframe tbody tr th {\n",
       "        vertical-align: top;\n",
       "    }\n",
       "\n",
       "    .dataframe thead th {\n",
       "        text-align: right;\n",
       "    }\n",
       "</style>\n",
       "<table border=\"1\" class=\"dataframe\">\n",
       "  <thead>\n",
       "    <tr style=\"text-align: right;\">\n",
       "      <th></th>\n",
       "      <th>COUNTYFP</th>\n",
       "      <th>NEVER</th>\n",
       "      <th>RARELY</th>\n",
       "      <th>SOMETIMES</th>\n",
       "      <th>FREQUENTLY</th>\n",
       "      <th>ALWAYS</th>\n",
       "    </tr>\n",
       "  </thead>\n",
       "  <tbody>\n",
       "    <tr>\n",
       "      <th>0</th>\n",
       "      <td>1001</td>\n",
       "      <td>0.053</td>\n",
       "      <td>0.074</td>\n",
       "      <td>0.134</td>\n",
       "      <td>0.295</td>\n",
       "      <td>0.444</td>\n",
       "    </tr>\n",
       "    <tr>\n",
       "      <th>1</th>\n",
       "      <td>1003</td>\n",
       "      <td>0.083</td>\n",
       "      <td>0.059</td>\n",
       "      <td>0.098</td>\n",
       "      <td>0.323</td>\n",
       "      <td>0.436</td>\n",
       "    </tr>\n",
       "    <tr>\n",
       "      <th>2</th>\n",
       "      <td>1005</td>\n",
       "      <td>0.067</td>\n",
       "      <td>0.121</td>\n",
       "      <td>0.120</td>\n",
       "      <td>0.201</td>\n",
       "      <td>0.491</td>\n",
       "    </tr>\n",
       "    <tr>\n",
       "      <th>3</th>\n",
       "      <td>1007</td>\n",
       "      <td>0.020</td>\n",
       "      <td>0.034</td>\n",
       "      <td>0.096</td>\n",
       "      <td>0.278</td>\n",
       "      <td>0.572</td>\n",
       "    </tr>\n",
       "    <tr>\n",
       "      <th>4</th>\n",
       "      <td>1009</td>\n",
       "      <td>0.053</td>\n",
       "      <td>0.114</td>\n",
       "      <td>0.180</td>\n",
       "      <td>0.194</td>\n",
       "      <td>0.459</td>\n",
       "    </tr>\n",
       "    <tr>\n",
       "      <th>...</th>\n",
       "      <td>...</td>\n",
       "      <td>...</td>\n",
       "      <td>...</td>\n",
       "      <td>...</td>\n",
       "      <td>...</td>\n",
       "      <td>...</td>\n",
       "    </tr>\n",
       "    <tr>\n",
       "      <th>3137</th>\n",
       "      <td>56037</td>\n",
       "      <td>0.061</td>\n",
       "      <td>0.295</td>\n",
       "      <td>0.230</td>\n",
       "      <td>0.146</td>\n",
       "      <td>0.268</td>\n",
       "    </tr>\n",
       "    <tr>\n",
       "      <th>3138</th>\n",
       "      <td>56039</td>\n",
       "      <td>0.095</td>\n",
       "      <td>0.157</td>\n",
       "      <td>0.160</td>\n",
       "      <td>0.247</td>\n",
       "      <td>0.340</td>\n",
       "    </tr>\n",
       "    <tr>\n",
       "      <th>3139</th>\n",
       "      <td>56041</td>\n",
       "      <td>0.098</td>\n",
       "      <td>0.278</td>\n",
       "      <td>0.154</td>\n",
       "      <td>0.207</td>\n",
       "      <td>0.264</td>\n",
       "    </tr>\n",
       "    <tr>\n",
       "      <th>3140</th>\n",
       "      <td>56043</td>\n",
       "      <td>0.204</td>\n",
       "      <td>0.155</td>\n",
       "      <td>0.069</td>\n",
       "      <td>0.285</td>\n",
       "      <td>0.287</td>\n",
       "    </tr>\n",
       "    <tr>\n",
       "      <th>3141</th>\n",
       "      <td>56045</td>\n",
       "      <td>0.142</td>\n",
       "      <td>0.129</td>\n",
       "      <td>0.148</td>\n",
       "      <td>0.207</td>\n",
       "      <td>0.374</td>\n",
       "    </tr>\n",
       "  </tbody>\n",
       "</table>\n",
       "<p>3142 rows × 6 columns</p>\n",
       "</div>"
      ],
      "text/plain": [
       "      COUNTYFP  NEVER  RARELY  SOMETIMES  FREQUENTLY  ALWAYS\n",
       "0         1001  0.053   0.074      0.134       0.295   0.444\n",
       "1         1003  0.083   0.059      0.098       0.323   0.436\n",
       "2         1005  0.067   0.121      0.120       0.201   0.491\n",
       "3         1007  0.020   0.034      0.096       0.278   0.572\n",
       "4         1009  0.053   0.114      0.180       0.194   0.459\n",
       "...        ...    ...     ...        ...         ...     ...\n",
       "3137     56037  0.061   0.295      0.230       0.146   0.268\n",
       "3138     56039  0.095   0.157      0.160       0.247   0.340\n",
       "3139     56041  0.098   0.278      0.154       0.207   0.264\n",
       "3140     56043  0.204   0.155      0.069       0.285   0.287\n",
       "3141     56045  0.142   0.129      0.148       0.207   0.374\n",
       "\n",
       "[3142 rows x 6 columns]"
      ]
     },
     "execution_count": 105,
     "metadata": {},
     "output_type": "execute_result"
    }
   ],
   "source": [
    "compliance_df = pd.read_csv('mask-use-by-county.csv')\n",
    "compliance_df"
   ]
  },
  {
   "cell_type": "code",
   "execution_count": 106,
   "id": "43c458c9",
   "metadata": {
    "scrolled": true
   },
   "outputs": [
    {
     "data": {
      "text/html": [
       "<div>\n",
       "<style scoped>\n",
       "    .dataframe tbody tr th:only-of-type {\n",
       "        vertical-align: middle;\n",
       "    }\n",
       "\n",
       "    .dataframe tbody tr th {\n",
       "        vertical-align: top;\n",
       "    }\n",
       "\n",
       "    .dataframe thead th {\n",
       "        text-align: right;\n",
       "    }\n",
       "</style>\n",
       "<table border=\"1\" class=\"dataframe\">\n",
       "  <thead>\n",
       "    <tr style=\"text-align: right;\">\n",
       "      <th></th>\n",
       "      <th>State_Tribe_Territory</th>\n",
       "      <th>County_Name</th>\n",
       "      <th>FIPS_State</th>\n",
       "      <th>FIPS_County</th>\n",
       "      <th>date</th>\n",
       "      <th>order_code</th>\n",
       "      <th>Face_Masks_Required_in_Public</th>\n",
       "      <th>Source_of_Action</th>\n",
       "      <th>URL</th>\n",
       "      <th>Citation</th>\n",
       "    </tr>\n",
       "  </thead>\n",
       "  <tbody>\n",
       "    <tr>\n",
       "      <th>0</th>\n",
       "      <td>AL</td>\n",
       "      <td>Autauga County</td>\n",
       "      <td>1</td>\n",
       "      <td>1</td>\n",
       "      <td>4/10/2020</td>\n",
       "      <td>2</td>\n",
       "      <td>NaN</td>\n",
       "      <td>NaN</td>\n",
       "      <td>NaN</td>\n",
       "      <td>NaN</td>\n",
       "    </tr>\n",
       "    <tr>\n",
       "      <th>1</th>\n",
       "      <td>AL</td>\n",
       "      <td>Autauga County</td>\n",
       "      <td>1</td>\n",
       "      <td>1</td>\n",
       "      <td>4/11/2020</td>\n",
       "      <td>2</td>\n",
       "      <td>NaN</td>\n",
       "      <td>NaN</td>\n",
       "      <td>NaN</td>\n",
       "      <td>NaN</td>\n",
       "    </tr>\n",
       "    <tr>\n",
       "      <th>2</th>\n",
       "      <td>AL</td>\n",
       "      <td>Autauga County</td>\n",
       "      <td>1</td>\n",
       "      <td>1</td>\n",
       "      <td>4/12/2020</td>\n",
       "      <td>2</td>\n",
       "      <td>NaN</td>\n",
       "      <td>NaN</td>\n",
       "      <td>NaN</td>\n",
       "      <td>NaN</td>\n",
       "    </tr>\n",
       "    <tr>\n",
       "      <th>3</th>\n",
       "      <td>AL</td>\n",
       "      <td>Autauga County</td>\n",
       "      <td>1</td>\n",
       "      <td>1</td>\n",
       "      <td>4/13/2020</td>\n",
       "      <td>2</td>\n",
       "      <td>NaN</td>\n",
       "      <td>NaN</td>\n",
       "      <td>NaN</td>\n",
       "      <td>NaN</td>\n",
       "    </tr>\n",
       "    <tr>\n",
       "      <th>4</th>\n",
       "      <td>AL</td>\n",
       "      <td>Autauga County</td>\n",
       "      <td>1</td>\n",
       "      <td>1</td>\n",
       "      <td>4/14/2020</td>\n",
       "      <td>2</td>\n",
       "      <td>NaN</td>\n",
       "      <td>NaN</td>\n",
       "      <td>NaN</td>\n",
       "      <td>NaN</td>\n",
       "    </tr>\n",
       "    <tr>\n",
       "      <th>...</th>\n",
       "      <td>...</td>\n",
       "      <td>...</td>\n",
       "      <td>...</td>\n",
       "      <td>...</td>\n",
       "      <td>...</td>\n",
       "      <td>...</td>\n",
       "      <td>...</td>\n",
       "      <td>...</td>\n",
       "      <td>...</td>\n",
       "      <td>...</td>\n",
       "    </tr>\n",
       "    <tr>\n",
       "      <th>1593864</th>\n",
       "      <td>VI</td>\n",
       "      <td>St. Thomas Island</td>\n",
       "      <td>78</td>\n",
       "      <td>30</td>\n",
       "      <td>8/11/2021</td>\n",
       "      <td>1</td>\n",
       "      <td>Yes</td>\n",
       "      <td>Official</td>\n",
       "      <td>NaN</td>\n",
       "      <td>V.I. Twenty-Seventh Supp. Exec. Order (Aug. 6,...</td>\n",
       "    </tr>\n",
       "    <tr>\n",
       "      <th>1593865</th>\n",
       "      <td>VI</td>\n",
       "      <td>St. Thomas Island</td>\n",
       "      <td>78</td>\n",
       "      <td>30</td>\n",
       "      <td>8/12/2021</td>\n",
       "      <td>1</td>\n",
       "      <td>Yes</td>\n",
       "      <td>Official</td>\n",
       "      <td>NaN</td>\n",
       "      <td>V.I. Twenty-Seventh Supp. Exec. Order (Aug. 6,...</td>\n",
       "    </tr>\n",
       "    <tr>\n",
       "      <th>1593866</th>\n",
       "      <td>VI</td>\n",
       "      <td>St. Thomas Island</td>\n",
       "      <td>78</td>\n",
       "      <td>30</td>\n",
       "      <td>8/13/2021</td>\n",
       "      <td>1</td>\n",
       "      <td>Yes</td>\n",
       "      <td>Official</td>\n",
       "      <td>NaN</td>\n",
       "      <td>V.I. Twenty-Seventh Supp. Exec. Order (Aug. 6,...</td>\n",
       "    </tr>\n",
       "    <tr>\n",
       "      <th>1593867</th>\n",
       "      <td>VI</td>\n",
       "      <td>St. Thomas Island</td>\n",
       "      <td>78</td>\n",
       "      <td>30</td>\n",
       "      <td>8/14/2021</td>\n",
       "      <td>1</td>\n",
       "      <td>Yes</td>\n",
       "      <td>Official</td>\n",
       "      <td>NaN</td>\n",
       "      <td>V.I. Twenty-Seventh Supp. Exec. Order (Aug. 6,...</td>\n",
       "    </tr>\n",
       "    <tr>\n",
       "      <th>1593868</th>\n",
       "      <td>VI</td>\n",
       "      <td>St. Thomas Island</td>\n",
       "      <td>78</td>\n",
       "      <td>30</td>\n",
       "      <td>8/15/2021</td>\n",
       "      <td>1</td>\n",
       "      <td>Yes</td>\n",
       "      <td>Official</td>\n",
       "      <td>NaN</td>\n",
       "      <td>V.I. Twenty-Seventh Supp. Exec. Order (Aug. 6,...</td>\n",
       "    </tr>\n",
       "  </tbody>\n",
       "</table>\n",
       "<p>1593869 rows × 10 columns</p>\n",
       "</div>"
      ],
      "text/plain": [
       "        State_Tribe_Territory        County_Name  FIPS_State  FIPS_County  \\\n",
       "0                          AL     Autauga County           1            1   \n",
       "1                          AL     Autauga County           1            1   \n",
       "2                          AL     Autauga County           1            1   \n",
       "3                          AL     Autauga County           1            1   \n",
       "4                          AL     Autauga County           1            1   \n",
       "...                       ...                ...         ...          ...   \n",
       "1593864                    VI  St. Thomas Island          78           30   \n",
       "1593865                    VI  St. Thomas Island          78           30   \n",
       "1593866                    VI  St. Thomas Island          78           30   \n",
       "1593867                    VI  St. Thomas Island          78           30   \n",
       "1593868                    VI  St. Thomas Island          78           30   \n",
       "\n",
       "              date  order_code Face_Masks_Required_in_Public Source_of_Action  \\\n",
       "0        4/10/2020           2                           NaN              NaN   \n",
       "1        4/11/2020           2                           NaN              NaN   \n",
       "2        4/12/2020           2                           NaN              NaN   \n",
       "3        4/13/2020           2                           NaN              NaN   \n",
       "4        4/14/2020           2                           NaN              NaN   \n",
       "...            ...         ...                           ...              ...   \n",
       "1593864  8/11/2021           1                           Yes         Official   \n",
       "1593865  8/12/2021           1                           Yes         Official   \n",
       "1593866  8/13/2021           1                           Yes         Official   \n",
       "1593867  8/14/2021           1                           Yes         Official   \n",
       "1593868  8/15/2021           1                           Yes         Official   \n",
       "\n",
       "         URL                                           Citation  \n",
       "0        NaN                                                NaN  \n",
       "1        NaN                                                NaN  \n",
       "2        NaN                                                NaN  \n",
       "3        NaN                                                NaN  \n",
       "4        NaN                                                NaN  \n",
       "...      ...                                                ...  \n",
       "1593864  NaN  V.I. Twenty-Seventh Supp. Exec. Order (Aug. 6,...  \n",
       "1593865  NaN  V.I. Twenty-Seventh Supp. Exec. Order (Aug. 6,...  \n",
       "1593866  NaN  V.I. Twenty-Seventh Supp. Exec. Order (Aug. 6,...  \n",
       "1593867  NaN  V.I. Twenty-Seventh Supp. Exec. Order (Aug. 6,...  \n",
       "1593868  NaN  V.I. Twenty-Seventh Supp. Exec. Order (Aug. 6,...  \n",
       "\n",
       "[1593869 rows x 10 columns]"
      ]
     },
     "execution_count": 106,
     "metadata": {},
     "output_type": "execute_result"
    }
   ],
   "source": [
    "mandate_df = pd.read_csv('U.S._State_and_Territorial_Public_Mask_Mandates_From_April_10__2020_through_August_15__2021_by_County_by_Day.csv')\n",
    "mandate_df"
   ]
  },
  {
   "cell_type": "code",
   "execution_count": 107,
   "id": "08a72e19",
   "metadata": {},
   "outputs": [
    {
     "data": {
      "text/html": [
       "<div>\n",
       "<style scoped>\n",
       "    .dataframe tbody tr th:only-of-type {\n",
       "        vertical-align: middle;\n",
       "    }\n",
       "\n",
       "    .dataframe tbody tr th {\n",
       "        vertical-align: top;\n",
       "    }\n",
       "\n",
       "    .dataframe thead th {\n",
       "        text-align: right;\n",
       "    }\n",
       "</style>\n",
       "<table border=\"1\" class=\"dataframe\">\n",
       "  <thead>\n",
       "    <tr style=\"text-align: right;\">\n",
       "      <th></th>\n",
       "      <th>Province_State</th>\n",
       "      <th>Admin2</th>\n",
       "      <th>UID</th>\n",
       "      <th>iso2</th>\n",
       "      <th>iso3</th>\n",
       "      <th>code3</th>\n",
       "      <th>FIPS</th>\n",
       "      <th>Country_Region</th>\n",
       "      <th>Lat</th>\n",
       "      <th>Long_</th>\n",
       "      <th>...</th>\n",
       "      <th>10/22/22</th>\n",
       "      <th>10/23/22</th>\n",
       "      <th>10/24/22</th>\n",
       "      <th>10/25/22</th>\n",
       "      <th>10/26/22</th>\n",
       "      <th>10/27/22</th>\n",
       "      <th>10/28/22</th>\n",
       "      <th>10/29/22</th>\n",
       "      <th>10/30/22</th>\n",
       "      <th>10/31/22</th>\n",
       "    </tr>\n",
       "  </thead>\n",
       "  <tbody>\n",
       "    <tr>\n",
       "      <th>0</th>\n",
       "      <td>Alabama</td>\n",
       "      <td>Autauga</td>\n",
       "      <td>84001001</td>\n",
       "      <td>US</td>\n",
       "      <td>USA</td>\n",
       "      <td>840</td>\n",
       "      <td>1001.0</td>\n",
       "      <td>US</td>\n",
       "      <td>32.539527</td>\n",
       "      <td>-86.644082</td>\n",
       "      <td>...</td>\n",
       "      <td>18480</td>\n",
       "      <td>18480</td>\n",
       "      <td>18480</td>\n",
       "      <td>18480</td>\n",
       "      <td>18480</td>\n",
       "      <td>18511</td>\n",
       "      <td>18511</td>\n",
       "      <td>18511</td>\n",
       "      <td>18511</td>\n",
       "      <td>18511</td>\n",
       "    </tr>\n",
       "    <tr>\n",
       "      <th>1</th>\n",
       "      <td>Alabama</td>\n",
       "      <td>Baldwin</td>\n",
       "      <td>84001003</td>\n",
       "      <td>US</td>\n",
       "      <td>USA</td>\n",
       "      <td>840</td>\n",
       "      <td>1003.0</td>\n",
       "      <td>US</td>\n",
       "      <td>30.727750</td>\n",
       "      <td>-87.722071</td>\n",
       "      <td>...</td>\n",
       "      <td>65895</td>\n",
       "      <td>65895</td>\n",
       "      <td>65895</td>\n",
       "      <td>65895</td>\n",
       "      <td>65895</td>\n",
       "      <td>65973</td>\n",
       "      <td>65973</td>\n",
       "      <td>65973</td>\n",
       "      <td>65973</td>\n",
       "      <td>65973</td>\n",
       "    </tr>\n",
       "    <tr>\n",
       "      <th>2</th>\n",
       "      <td>Alabama</td>\n",
       "      <td>Barbour</td>\n",
       "      <td>84001005</td>\n",
       "      <td>US</td>\n",
       "      <td>USA</td>\n",
       "      <td>840</td>\n",
       "      <td>1005.0</td>\n",
       "      <td>US</td>\n",
       "      <td>31.868263</td>\n",
       "      <td>-85.387129</td>\n",
       "      <td>...</td>\n",
       "      <td>6926</td>\n",
       "      <td>6926</td>\n",
       "      <td>6926</td>\n",
       "      <td>6926</td>\n",
       "      <td>6926</td>\n",
       "      <td>6930</td>\n",
       "      <td>6930</td>\n",
       "      <td>6930</td>\n",
       "      <td>6930</td>\n",
       "      <td>6930</td>\n",
       "    </tr>\n",
       "    <tr>\n",
       "      <th>3</th>\n",
       "      <td>Alabama</td>\n",
       "      <td>Bibb</td>\n",
       "      <td>84001007</td>\n",
       "      <td>US</td>\n",
       "      <td>USA</td>\n",
       "      <td>840</td>\n",
       "      <td>1007.0</td>\n",
       "      <td>US</td>\n",
       "      <td>32.996421</td>\n",
       "      <td>-87.125115</td>\n",
       "      <td>...</td>\n",
       "      <td>7560</td>\n",
       "      <td>7560</td>\n",
       "      <td>7560</td>\n",
       "      <td>7560</td>\n",
       "      <td>7560</td>\n",
       "      <td>7575</td>\n",
       "      <td>7575</td>\n",
       "      <td>7575</td>\n",
       "      <td>7575</td>\n",
       "      <td>7575</td>\n",
       "    </tr>\n",
       "    <tr>\n",
       "      <th>4</th>\n",
       "      <td>Alabama</td>\n",
       "      <td>Blount</td>\n",
       "      <td>84001009</td>\n",
       "      <td>US</td>\n",
       "      <td>USA</td>\n",
       "      <td>840</td>\n",
       "      <td>1009.0</td>\n",
       "      <td>US</td>\n",
       "      <td>33.982109</td>\n",
       "      <td>-86.567906</td>\n",
       "      <td>...</td>\n",
       "      <td>17286</td>\n",
       "      <td>17286</td>\n",
       "      <td>17286</td>\n",
       "      <td>17286</td>\n",
       "      <td>17286</td>\n",
       "      <td>17320</td>\n",
       "      <td>17320</td>\n",
       "      <td>17320</td>\n",
       "      <td>17320</td>\n",
       "      <td>17320</td>\n",
       "    </tr>\n",
       "    <tr>\n",
       "      <th>...</th>\n",
       "      <td>...</td>\n",
       "      <td>...</td>\n",
       "      <td>...</td>\n",
       "      <td>...</td>\n",
       "      <td>...</td>\n",
       "      <td>...</td>\n",
       "      <td>...</td>\n",
       "      <td>...</td>\n",
       "      <td>...</td>\n",
       "      <td>...</td>\n",
       "      <td>...</td>\n",
       "      <td>...</td>\n",
       "      <td>...</td>\n",
       "      <td>...</td>\n",
       "      <td>...</td>\n",
       "      <td>...</td>\n",
       "      <td>...</td>\n",
       "      <td>...</td>\n",
       "      <td>...</td>\n",
       "      <td>...</td>\n",
       "      <td>...</td>\n",
       "    </tr>\n",
       "    <tr>\n",
       "      <th>3337</th>\n",
       "      <td>Wyoming</td>\n",
       "      <td>Teton</td>\n",
       "      <td>84056039</td>\n",
       "      <td>US</td>\n",
       "      <td>USA</td>\n",
       "      <td>840</td>\n",
       "      <td>56039.0</td>\n",
       "      <td>US</td>\n",
       "      <td>43.935225</td>\n",
       "      <td>-110.589080</td>\n",
       "      <td>...</td>\n",
       "      <td>11800</td>\n",
       "      <td>11800</td>\n",
       "      <td>11800</td>\n",
       "      <td>11814</td>\n",
       "      <td>11814</td>\n",
       "      <td>11814</td>\n",
       "      <td>11814</td>\n",
       "      <td>11814</td>\n",
       "      <td>11814</td>\n",
       "      <td>11814</td>\n",
       "    </tr>\n",
       "    <tr>\n",
       "      <th>3338</th>\n",
       "      <td>Wyoming</td>\n",
       "      <td>Uinta</td>\n",
       "      <td>84056041</td>\n",
       "      <td>US</td>\n",
       "      <td>USA</td>\n",
       "      <td>840</td>\n",
       "      <td>56041.0</td>\n",
       "      <td>US</td>\n",
       "      <td>41.287818</td>\n",
       "      <td>-110.547578</td>\n",
       "      <td>...</td>\n",
       "      <td>6176</td>\n",
       "      <td>6176</td>\n",
       "      <td>6176</td>\n",
       "      <td>6186</td>\n",
       "      <td>6186</td>\n",
       "      <td>6186</td>\n",
       "      <td>6186</td>\n",
       "      <td>6186</td>\n",
       "      <td>6186</td>\n",
       "      <td>6186</td>\n",
       "    </tr>\n",
       "    <tr>\n",
       "      <th>3339</th>\n",
       "      <td>Wyoming</td>\n",
       "      <td>Unassigned</td>\n",
       "      <td>84090056</td>\n",
       "      <td>US</td>\n",
       "      <td>USA</td>\n",
       "      <td>840</td>\n",
       "      <td>90056.0</td>\n",
       "      <td>US</td>\n",
       "      <td>0.000000</td>\n",
       "      <td>0.000000</td>\n",
       "      <td>...</td>\n",
       "      <td>0</td>\n",
       "      <td>0</td>\n",
       "      <td>0</td>\n",
       "      <td>0</td>\n",
       "      <td>0</td>\n",
       "      <td>0</td>\n",
       "      <td>0</td>\n",
       "      <td>0</td>\n",
       "      <td>0</td>\n",
       "      <td>0</td>\n",
       "    </tr>\n",
       "    <tr>\n",
       "      <th>3340</th>\n",
       "      <td>Wyoming</td>\n",
       "      <td>Washakie</td>\n",
       "      <td>84056043</td>\n",
       "      <td>US</td>\n",
       "      <td>USA</td>\n",
       "      <td>840</td>\n",
       "      <td>56043.0</td>\n",
       "      <td>US</td>\n",
       "      <td>43.904516</td>\n",
       "      <td>-107.680187</td>\n",
       "      <td>...</td>\n",
       "      <td>2669</td>\n",
       "      <td>2669</td>\n",
       "      <td>2669</td>\n",
       "      <td>2672</td>\n",
       "      <td>2672</td>\n",
       "      <td>2672</td>\n",
       "      <td>2672</td>\n",
       "      <td>2672</td>\n",
       "      <td>2672</td>\n",
       "      <td>2672</td>\n",
       "    </tr>\n",
       "    <tr>\n",
       "      <th>3341</th>\n",
       "      <td>Wyoming</td>\n",
       "      <td>Weston</td>\n",
       "      <td>84056045</td>\n",
       "      <td>US</td>\n",
       "      <td>USA</td>\n",
       "      <td>840</td>\n",
       "      <td>56045.0</td>\n",
       "      <td>US</td>\n",
       "      <td>43.839612</td>\n",
       "      <td>-104.567488</td>\n",
       "      <td>...</td>\n",
       "      <td>1821</td>\n",
       "      <td>1821</td>\n",
       "      <td>1821</td>\n",
       "      <td>1828</td>\n",
       "      <td>1828</td>\n",
       "      <td>1828</td>\n",
       "      <td>1828</td>\n",
       "      <td>1828</td>\n",
       "      <td>1828</td>\n",
       "      <td>1828</td>\n",
       "    </tr>\n",
       "  </tbody>\n",
       "</table>\n",
       "<p>3342 rows × 1025 columns</p>\n",
       "</div>"
      ],
      "text/plain": [
       "     Province_State      Admin2       UID iso2 iso3  code3     FIPS  \\\n",
       "0           Alabama     Autauga  84001001   US  USA    840   1001.0   \n",
       "1           Alabama     Baldwin  84001003   US  USA    840   1003.0   \n",
       "2           Alabama     Barbour  84001005   US  USA    840   1005.0   \n",
       "3           Alabama        Bibb  84001007   US  USA    840   1007.0   \n",
       "4           Alabama      Blount  84001009   US  USA    840   1009.0   \n",
       "...             ...         ...       ...  ...  ...    ...      ...   \n",
       "3337        Wyoming       Teton  84056039   US  USA    840  56039.0   \n",
       "3338        Wyoming       Uinta  84056041   US  USA    840  56041.0   \n",
       "3339        Wyoming  Unassigned  84090056   US  USA    840  90056.0   \n",
       "3340        Wyoming    Washakie  84056043   US  USA    840  56043.0   \n",
       "3341        Wyoming      Weston  84056045   US  USA    840  56045.0   \n",
       "\n",
       "     Country_Region        Lat       Long_  ... 10/22/22  10/23/22  10/24/22  \\\n",
       "0                US  32.539527  -86.644082  ...    18480     18480     18480   \n",
       "1                US  30.727750  -87.722071  ...    65895     65895     65895   \n",
       "2                US  31.868263  -85.387129  ...     6926      6926      6926   \n",
       "3                US  32.996421  -87.125115  ...     7560      7560      7560   \n",
       "4                US  33.982109  -86.567906  ...    17286     17286     17286   \n",
       "...             ...        ...         ...  ...      ...       ...       ...   \n",
       "3337             US  43.935225 -110.589080  ...    11800     11800     11800   \n",
       "3338             US  41.287818 -110.547578  ...     6176      6176      6176   \n",
       "3339             US   0.000000    0.000000  ...        0         0         0   \n",
       "3340             US  43.904516 -107.680187  ...     2669      2669      2669   \n",
       "3341             US  43.839612 -104.567488  ...     1821      1821      1821   \n",
       "\n",
       "      10/25/22  10/26/22  10/27/22  10/28/22  10/29/22  10/30/22  10/31/22  \n",
       "0        18480     18480     18511     18511     18511     18511     18511  \n",
       "1        65895     65895     65973     65973     65973     65973     65973  \n",
       "2         6926      6926      6930      6930      6930      6930      6930  \n",
       "3         7560      7560      7575      7575      7575      7575      7575  \n",
       "4        17286     17286     17320     17320     17320     17320     17320  \n",
       "...        ...       ...       ...       ...       ...       ...       ...  \n",
       "3337     11814     11814     11814     11814     11814     11814     11814  \n",
       "3338      6186      6186      6186      6186      6186      6186      6186  \n",
       "3339         0         0         0         0         0         0         0  \n",
       "3340      2672      2672      2672      2672      2672      2672      2672  \n",
       "3341      1828      1828      1828      1828      1828      1828      1828  \n",
       "\n",
       "[3342 rows x 1025 columns]"
      ]
     },
     "execution_count": 107,
     "metadata": {},
     "output_type": "execute_result"
    }
   ],
   "source": [
    "cases_df = pd.read_csv('RAW_us_confirmed_cases.csv')\n",
    "cases_df"
   ]
  },
  {
   "cell_type": "markdown",
   "id": "a379194d",
   "metadata": {},
   "source": [
    "## Filter\n",
    "\n",
    "We filter the data down to data for New Jersey, Bergen county. Just filtering the dataframes to represent the proper assigned location."
   ]
  },
  {
   "cell_type": "code",
   "execution_count": 108,
   "id": "0ceb538d",
   "metadata": {},
   "outputs": [],
   "source": [
    "state = \"New Jersey\"\n",
    "county = \"Bergen\""
   ]
  },
  {
   "cell_type": "code",
   "execution_count": 110,
   "id": "c8a2d314",
   "metadata": {},
   "outputs": [
    {
     "data": {
      "text/html": [
       "<div>\n",
       "<style scoped>\n",
       "    .dataframe tbody tr th:only-of-type {\n",
       "        vertical-align: middle;\n",
       "    }\n",
       "\n",
       "    .dataframe tbody tr th {\n",
       "        vertical-align: top;\n",
       "    }\n",
       "\n",
       "    .dataframe thead th {\n",
       "        text-align: right;\n",
       "    }\n",
       "</style>\n",
       "<table border=\"1\" class=\"dataframe\">\n",
       "  <thead>\n",
       "    <tr style=\"text-align: right;\">\n",
       "      <th></th>\n",
       "      <th>date</th>\n",
       "      <th>1845</th>\n",
       "    </tr>\n",
       "  </thead>\n",
       "  <tbody>\n",
       "    <tr>\n",
       "      <th>0</th>\n",
       "      <td>1/22/20</td>\n",
       "      <td>0</td>\n",
       "    </tr>\n",
       "    <tr>\n",
       "      <th>1</th>\n",
       "      <td>1/23/20</td>\n",
       "      <td>0</td>\n",
       "    </tr>\n",
       "    <tr>\n",
       "      <th>2</th>\n",
       "      <td>1/24/20</td>\n",
       "      <td>0</td>\n",
       "    </tr>\n",
       "    <tr>\n",
       "      <th>3</th>\n",
       "      <td>1/25/20</td>\n",
       "      <td>0</td>\n",
       "    </tr>\n",
       "    <tr>\n",
       "      <th>4</th>\n",
       "      <td>1/26/20</td>\n",
       "      <td>0</td>\n",
       "    </tr>\n",
       "    <tr>\n",
       "      <th>...</th>\n",
       "      <td>...</td>\n",
       "      <td>...</td>\n",
       "    </tr>\n",
       "    <tr>\n",
       "      <th>1009</th>\n",
       "      <td>10/27/22</td>\n",
       "      <td>294344</td>\n",
       "    </tr>\n",
       "    <tr>\n",
       "      <th>1010</th>\n",
       "      <td>10/28/22</td>\n",
       "      <td>294617</td>\n",
       "    </tr>\n",
       "    <tr>\n",
       "      <th>1011</th>\n",
       "      <td>10/29/22</td>\n",
       "      <td>295078</td>\n",
       "    </tr>\n",
       "    <tr>\n",
       "      <th>1012</th>\n",
       "      <td>10/30/22</td>\n",
       "      <td>295078</td>\n",
       "    </tr>\n",
       "    <tr>\n",
       "      <th>1013</th>\n",
       "      <td>10/31/22</td>\n",
       "      <td>295360</td>\n",
       "    </tr>\n",
       "  </tbody>\n",
       "</table>\n",
       "<p>1014 rows × 2 columns</p>\n",
       "</div>"
      ],
      "text/plain": [
       "          date    1845\n",
       "0      1/22/20       0\n",
       "1      1/23/20       0\n",
       "2      1/24/20       0\n",
       "3      1/25/20       0\n",
       "4      1/26/20       0\n",
       "...        ...     ...\n",
       "1009  10/27/22  294344\n",
       "1010  10/28/22  294617\n",
       "1011  10/29/22  295078\n",
       "1012  10/30/22  295078\n",
       "1013  10/31/22  295360\n",
       "\n",
       "[1014 rows x 2 columns]"
      ]
     },
     "execution_count": 110,
     "metadata": {},
     "output_type": "execute_result"
    }
   ],
   "source": [
    "new_jersey_cases_df = cases_df[(cases_df['Province_State'] == state) & (cases_df['Admin2'] == county)].T.iloc[11:].reset_index().rename(columns={'index':'date', 'confirmed cases':'confirmed_cases'})\n",
    "new_jersey_cases_df"
   ]
  },
  {
   "cell_type": "code",
   "execution_count": 111,
   "id": "40f1e2d3",
   "metadata": {
    "scrolled": true
   },
   "outputs": [
    {
     "data": {
      "text/html": [
       "<div>\n",
       "<style scoped>\n",
       "    .dataframe tbody tr th:only-of-type {\n",
       "        vertical-align: middle;\n",
       "    }\n",
       "\n",
       "    .dataframe tbody tr th {\n",
       "        vertical-align: top;\n",
       "    }\n",
       "\n",
       "    .dataframe thead th {\n",
       "        text-align: right;\n",
       "    }\n",
       "</style>\n",
       "<table border=\"1\" class=\"dataframe\">\n",
       "  <thead>\n",
       "    <tr style=\"text-align: right;\">\n",
       "      <th></th>\n",
       "      <th>index</th>\n",
       "      <th>State_Tribe_Territory</th>\n",
       "      <th>County_Name</th>\n",
       "      <th>FIPS_State</th>\n",
       "      <th>FIPS_County</th>\n",
       "      <th>date</th>\n",
       "      <th>order_code</th>\n",
       "      <th>Face_Masks_Required_in_Public</th>\n",
       "      <th>Source_of_Action</th>\n",
       "      <th>URL</th>\n",
       "      <th>Citation</th>\n",
       "    </tr>\n",
       "  </thead>\n",
       "  <tbody>\n",
       "    <tr>\n",
       "      <th>0</th>\n",
       "      <td>472151</td>\n",
       "      <td>NJ</td>\n",
       "      <td>Bergen County</td>\n",
       "      <td>34</td>\n",
       "      <td>3</td>\n",
       "      <td>4/10/2020</td>\n",
       "      <td>1</td>\n",
       "      <td>Yes</td>\n",
       "      <td>Official</td>\n",
       "      <td>https://nj.gov/infobank/eo/056murphy/pdf/EO-12...</td>\n",
       "      <td>N.J. Exec. Order No. 122 (Apr. 8, 2020)</td>\n",
       "    </tr>\n",
       "    <tr>\n",
       "      <th>1</th>\n",
       "      <td>472152</td>\n",
       "      <td>NJ</td>\n",
       "      <td>Bergen County</td>\n",
       "      <td>34</td>\n",
       "      <td>3</td>\n",
       "      <td>4/11/2020</td>\n",
       "      <td>1</td>\n",
       "      <td>Yes</td>\n",
       "      <td>Official</td>\n",
       "      <td>https://nj.gov/infobank/eo/056murphy/pdf/EO-12...</td>\n",
       "      <td>N.J. Exec. Order No. 122 (Apr. 8, 2020)</td>\n",
       "    </tr>\n",
       "    <tr>\n",
       "      <th>2</th>\n",
       "      <td>472153</td>\n",
       "      <td>NJ</td>\n",
       "      <td>Bergen County</td>\n",
       "      <td>34</td>\n",
       "      <td>3</td>\n",
       "      <td>4/12/2020</td>\n",
       "      <td>1</td>\n",
       "      <td>Yes</td>\n",
       "      <td>Official</td>\n",
       "      <td>https://nj.gov/infobank/eo/056murphy/pdf/EO-12...</td>\n",
       "      <td>N.J. Exec. Order No. 122 (Apr. 8, 2020)</td>\n",
       "    </tr>\n",
       "    <tr>\n",
       "      <th>3</th>\n",
       "      <td>472154</td>\n",
       "      <td>NJ</td>\n",
       "      <td>Bergen County</td>\n",
       "      <td>34</td>\n",
       "      <td>3</td>\n",
       "      <td>4/13/2020</td>\n",
       "      <td>1</td>\n",
       "      <td>Yes</td>\n",
       "      <td>Official</td>\n",
       "      <td>https://nj.gov/infobank/eo/056murphy/pdf/EO-12...</td>\n",
       "      <td>N.J. Exec. Order No.125 (Apr. 11, 2020)</td>\n",
       "    </tr>\n",
       "    <tr>\n",
       "      <th>4</th>\n",
       "      <td>472155</td>\n",
       "      <td>NJ</td>\n",
       "      <td>Bergen County</td>\n",
       "      <td>34</td>\n",
       "      <td>3</td>\n",
       "      <td>4/14/2020</td>\n",
       "      <td>1</td>\n",
       "      <td>Yes</td>\n",
       "      <td>Official</td>\n",
       "      <td>https://nj.gov/infobank/eo/056murphy/pdf/EO-12...</td>\n",
       "      <td>N.J. Exec. Order No.125 (Apr. 11, 2020)</td>\n",
       "    </tr>\n",
       "    <tr>\n",
       "      <th>...</th>\n",
       "      <td>...</td>\n",
       "      <td>...</td>\n",
       "      <td>...</td>\n",
       "      <td>...</td>\n",
       "      <td>...</td>\n",
       "      <td>...</td>\n",
       "      <td>...</td>\n",
       "      <td>...</td>\n",
       "      <td>...</td>\n",
       "      <td>...</td>\n",
       "      <td>...</td>\n",
       "    </tr>\n",
       "    <tr>\n",
       "      <th>488</th>\n",
       "      <td>1263228</td>\n",
       "      <td>NJ</td>\n",
       "      <td>Bergen County</td>\n",
       "      <td>34</td>\n",
       "      <td>3</td>\n",
       "      <td>8/11/2021</td>\n",
       "      <td>2</td>\n",
       "      <td>No</td>\n",
       "      <td>Official</td>\n",
       "      <td>https://nj.gov/infobank/eo/056murphy/pdf/EO-25...</td>\n",
       "      <td>N.J. Exec. Order No. 252 (Aug. 6, 2021)</td>\n",
       "    </tr>\n",
       "    <tr>\n",
       "      <th>489</th>\n",
       "      <td>1263229</td>\n",
       "      <td>NJ</td>\n",
       "      <td>Bergen County</td>\n",
       "      <td>34</td>\n",
       "      <td>3</td>\n",
       "      <td>8/12/2021</td>\n",
       "      <td>2</td>\n",
       "      <td>No</td>\n",
       "      <td>Official</td>\n",
       "      <td>https://nj.gov/infobank/eo/056murphy/pdf/EO-25...</td>\n",
       "      <td>N.J. Exec. Order No. 252 (Aug. 6, 2021)</td>\n",
       "    </tr>\n",
       "    <tr>\n",
       "      <th>490</th>\n",
       "      <td>1263230</td>\n",
       "      <td>NJ</td>\n",
       "      <td>Bergen County</td>\n",
       "      <td>34</td>\n",
       "      <td>3</td>\n",
       "      <td>8/13/2021</td>\n",
       "      <td>2</td>\n",
       "      <td>No</td>\n",
       "      <td>Official</td>\n",
       "      <td>https://nj.gov/infobank/eo/056murphy/pdf/EO-25...</td>\n",
       "      <td>N.J. Exec. Order No. 252 (Aug. 6, 2021)</td>\n",
       "    </tr>\n",
       "    <tr>\n",
       "      <th>491</th>\n",
       "      <td>1263231</td>\n",
       "      <td>NJ</td>\n",
       "      <td>Bergen County</td>\n",
       "      <td>34</td>\n",
       "      <td>3</td>\n",
       "      <td>8/14/2021</td>\n",
       "      <td>2</td>\n",
       "      <td>No</td>\n",
       "      <td>Official</td>\n",
       "      <td>https://nj.gov/infobank/eo/056murphy/pdf/EO-25...</td>\n",
       "      <td>N.J. Exec. Order No. 252 (Aug. 6, 2021)</td>\n",
       "    </tr>\n",
       "    <tr>\n",
       "      <th>492</th>\n",
       "      <td>1263232</td>\n",
       "      <td>NJ</td>\n",
       "      <td>Bergen County</td>\n",
       "      <td>34</td>\n",
       "      <td>3</td>\n",
       "      <td>8/15/2021</td>\n",
       "      <td>2</td>\n",
       "      <td>No</td>\n",
       "      <td>Official</td>\n",
       "      <td>https://nj.gov/infobank/eo/056murphy/pdf/EO-25...</td>\n",
       "      <td>N.J. Exec. Order No. 252 (Aug. 6, 2021)</td>\n",
       "    </tr>\n",
       "  </tbody>\n",
       "</table>\n",
       "<p>493 rows × 11 columns</p>\n",
       "</div>"
      ],
      "text/plain": [
       "       index State_Tribe_Territory    County_Name  FIPS_State  FIPS_County  \\\n",
       "0     472151                    NJ  Bergen County          34            3   \n",
       "1     472152                    NJ  Bergen County          34            3   \n",
       "2     472153                    NJ  Bergen County          34            3   \n",
       "3     472154                    NJ  Bergen County          34            3   \n",
       "4     472155                    NJ  Bergen County          34            3   \n",
       "..       ...                   ...            ...         ...          ...   \n",
       "488  1263228                    NJ  Bergen County          34            3   \n",
       "489  1263229                    NJ  Bergen County          34            3   \n",
       "490  1263230                    NJ  Bergen County          34            3   \n",
       "491  1263231                    NJ  Bergen County          34            3   \n",
       "492  1263232                    NJ  Bergen County          34            3   \n",
       "\n",
       "          date  order_code Face_Masks_Required_in_Public Source_of_Action  \\\n",
       "0    4/10/2020           1                           Yes         Official   \n",
       "1    4/11/2020           1                           Yes         Official   \n",
       "2    4/12/2020           1                           Yes         Official   \n",
       "3    4/13/2020           1                           Yes         Official   \n",
       "4    4/14/2020           1                           Yes         Official   \n",
       "..         ...         ...                           ...              ...   \n",
       "488  8/11/2021           2                            No         Official   \n",
       "489  8/12/2021           2                            No         Official   \n",
       "490  8/13/2021           2                            No         Official   \n",
       "491  8/14/2021           2                            No         Official   \n",
       "492  8/15/2021           2                            No         Official   \n",
       "\n",
       "                                                   URL  \\\n",
       "0    https://nj.gov/infobank/eo/056murphy/pdf/EO-12...   \n",
       "1    https://nj.gov/infobank/eo/056murphy/pdf/EO-12...   \n",
       "2    https://nj.gov/infobank/eo/056murphy/pdf/EO-12...   \n",
       "3    https://nj.gov/infobank/eo/056murphy/pdf/EO-12...   \n",
       "4    https://nj.gov/infobank/eo/056murphy/pdf/EO-12...   \n",
       "..                                                 ...   \n",
       "488  https://nj.gov/infobank/eo/056murphy/pdf/EO-25...   \n",
       "489  https://nj.gov/infobank/eo/056murphy/pdf/EO-25...   \n",
       "490  https://nj.gov/infobank/eo/056murphy/pdf/EO-25...   \n",
       "491  https://nj.gov/infobank/eo/056murphy/pdf/EO-25...   \n",
       "492  https://nj.gov/infobank/eo/056murphy/pdf/EO-25...   \n",
       "\n",
       "                                    Citation  \n",
       "0    N.J. Exec. Order No. 122 (Apr. 8, 2020)  \n",
       "1    N.J. Exec. Order No. 122 (Apr. 8, 2020)  \n",
       "2    N.J. Exec. Order No. 122 (Apr. 8, 2020)  \n",
       "3    N.J. Exec. Order No.125 (Apr. 11, 2020)  \n",
       "4    N.J. Exec. Order No.125 (Apr. 11, 2020)  \n",
       "..                                       ...  \n",
       "488  N.J. Exec. Order No. 252 (Aug. 6, 2021)  \n",
       "489  N.J. Exec. Order No. 252 (Aug. 6, 2021)  \n",
       "490  N.J. Exec. Order No. 252 (Aug. 6, 2021)  \n",
       "491  N.J. Exec. Order No. 252 (Aug. 6, 2021)  \n",
       "492  N.J. Exec. Order No. 252 (Aug. 6, 2021)  \n",
       "\n",
       "[493 rows x 11 columns]"
      ]
     },
     "execution_count": 111,
     "metadata": {},
     "output_type": "execute_result"
    }
   ],
   "source": [
    "new_jersey_mandate_df = mandate_df[(mandate_df['County_Name'] == 'Bergen County') & (mandate_df['State_Tribe_Territory'] == 'NJ')].reset_index()\n",
    "new_jersey_mandate_df"
   ]
  },
  {
   "cell_type": "code",
   "execution_count": 112,
   "id": "c442e30b",
   "metadata": {},
   "outputs": [
    {
     "data": {
      "text/html": [
       "<div>\n",
       "<style scoped>\n",
       "    .dataframe tbody tr th:only-of-type {\n",
       "        vertical-align: middle;\n",
       "    }\n",
       "\n",
       "    .dataframe tbody tr th {\n",
       "        vertical-align: top;\n",
       "    }\n",
       "\n",
       "    .dataframe thead th {\n",
       "        text-align: right;\n",
       "    }\n",
       "</style>\n",
       "<table border=\"1\" class=\"dataframe\">\n",
       "  <thead>\n",
       "    <tr style=\"text-align: right;\">\n",
       "      <th></th>\n",
       "      <th>index</th>\n",
       "      <th>COUNTYFP</th>\n",
       "      <th>NEVER</th>\n",
       "      <th>RARELY</th>\n",
       "      <th>SOMETIMES</th>\n",
       "      <th>FREQUENTLY</th>\n",
       "      <th>ALWAYS</th>\n",
       "    </tr>\n",
       "  </thead>\n",
       "  <tbody>\n",
       "    <tr>\n",
       "      <th>0</th>\n",
       "      <td>1775</td>\n",
       "      <td>34003</td>\n",
       "      <td>0.02</td>\n",
       "      <td>0.014</td>\n",
       "      <td>0.053</td>\n",
       "      <td>0.151</td>\n",
       "      <td>0.762</td>\n",
       "    </tr>\n",
       "  </tbody>\n",
       "</table>\n",
       "</div>"
      ],
      "text/plain": [
       "   index  COUNTYFP  NEVER  RARELY  SOMETIMES  FREQUENTLY  ALWAYS\n",
       "0   1775     34003   0.02   0.014      0.053       0.151   0.762"
      ]
     },
     "execution_count": 112,
     "metadata": {},
     "output_type": "execute_result"
    }
   ],
   "source": [
    "new_jersey_compliance_df = compliance_df[compliance_df['COUNTYFP'] == 34003].reset_index()\n",
    "new_jersey_compliance_df"
   ]
  },
  {
   "cell_type": "markdown",
   "id": "df25fb95",
   "metadata": {},
   "source": [
    "# Clean the data\n",
    "\n",
    "For this section, we had to convert the object to a date in the columns and ensure that the fp was directed towards the correct state/county (new jersey, bergen). Drop a few irrelevant columns.\n"
   ]
  },
  {
   "cell_type": "code",
   "execution_count": 113,
   "id": "30b4b8bd",
   "metadata": {},
   "outputs": [
    {
     "data": {
      "text/html": [
       "<div>\n",
       "<style scoped>\n",
       "    .dataframe tbody tr th:only-of-type {\n",
       "        vertical-align: middle;\n",
       "    }\n",
       "\n",
       "    .dataframe tbody tr th {\n",
       "        vertical-align: top;\n",
       "    }\n",
       "\n",
       "    .dataframe thead th {\n",
       "        text-align: right;\n",
       "    }\n",
       "</style>\n",
       "<table border=\"1\" class=\"dataframe\">\n",
       "  <thead>\n",
       "    <tr style=\"text-align: right;\">\n",
       "      <th></th>\n",
       "      <th>date</th>\n",
       "      <th>order_code</th>\n",
       "      <th>Face_Masks_Required_in_Public</th>\n",
       "      <th>Source_of_Action</th>\n",
       "      <th>Citation</th>\n",
       "      <th>COUNTYFP</th>\n",
       "    </tr>\n",
       "  </thead>\n",
       "  <tbody>\n",
       "    <tr>\n",
       "      <th>0</th>\n",
       "      <td>2020-04-10</td>\n",
       "      <td>1</td>\n",
       "      <td>Yes</td>\n",
       "      <td>Official</td>\n",
       "      <td>N.J. Exec. Order No. 122 (Apr. 8, 2020)</td>\n",
       "      <td>34003</td>\n",
       "    </tr>\n",
       "    <tr>\n",
       "      <th>1</th>\n",
       "      <td>2020-04-11</td>\n",
       "      <td>1</td>\n",
       "      <td>Yes</td>\n",
       "      <td>Official</td>\n",
       "      <td>N.J. Exec. Order No. 122 (Apr. 8, 2020)</td>\n",
       "      <td>34003</td>\n",
       "    </tr>\n",
       "    <tr>\n",
       "      <th>2</th>\n",
       "      <td>2020-04-12</td>\n",
       "      <td>1</td>\n",
       "      <td>Yes</td>\n",
       "      <td>Official</td>\n",
       "      <td>N.J. Exec. Order No. 122 (Apr. 8, 2020)</td>\n",
       "      <td>34003</td>\n",
       "    </tr>\n",
       "    <tr>\n",
       "      <th>3</th>\n",
       "      <td>2020-04-13</td>\n",
       "      <td>1</td>\n",
       "      <td>Yes</td>\n",
       "      <td>Official</td>\n",
       "      <td>N.J. Exec. Order No.125 (Apr. 11, 2020)</td>\n",
       "      <td>34003</td>\n",
       "    </tr>\n",
       "    <tr>\n",
       "      <th>4</th>\n",
       "      <td>2020-04-14</td>\n",
       "      <td>1</td>\n",
       "      <td>Yes</td>\n",
       "      <td>Official</td>\n",
       "      <td>N.J. Exec. Order No.125 (Apr. 11, 2020)</td>\n",
       "      <td>34003</td>\n",
       "    </tr>\n",
       "    <tr>\n",
       "      <th>...</th>\n",
       "      <td>...</td>\n",
       "      <td>...</td>\n",
       "      <td>...</td>\n",
       "      <td>...</td>\n",
       "      <td>...</td>\n",
       "      <td>...</td>\n",
       "    </tr>\n",
       "    <tr>\n",
       "      <th>488</th>\n",
       "      <td>2021-08-11</td>\n",
       "      <td>2</td>\n",
       "      <td>Yes</td>\n",
       "      <td>Official</td>\n",
       "      <td>N.J. Exec. Order No. 252 (Aug. 6, 2021)</td>\n",
       "      <td>34003</td>\n",
       "    </tr>\n",
       "    <tr>\n",
       "      <th>489</th>\n",
       "      <td>2021-08-12</td>\n",
       "      <td>2</td>\n",
       "      <td>Yes</td>\n",
       "      <td>Official</td>\n",
       "      <td>N.J. Exec. Order No. 252 (Aug. 6, 2021)</td>\n",
       "      <td>34003</td>\n",
       "    </tr>\n",
       "    <tr>\n",
       "      <th>490</th>\n",
       "      <td>2021-08-13</td>\n",
       "      <td>2</td>\n",
       "      <td>Yes</td>\n",
       "      <td>Official</td>\n",
       "      <td>N.J. Exec. Order No. 252 (Aug. 6, 2021)</td>\n",
       "      <td>34003</td>\n",
       "    </tr>\n",
       "    <tr>\n",
       "      <th>491</th>\n",
       "      <td>2021-08-14</td>\n",
       "      <td>2</td>\n",
       "      <td>Yes</td>\n",
       "      <td>Official</td>\n",
       "      <td>N.J. Exec. Order No. 252 (Aug. 6, 2021)</td>\n",
       "      <td>34003</td>\n",
       "    </tr>\n",
       "    <tr>\n",
       "      <th>492</th>\n",
       "      <td>2021-08-15</td>\n",
       "      <td>2</td>\n",
       "      <td>Yes</td>\n",
       "      <td>Official</td>\n",
       "      <td>N.J. Exec. Order No. 252 (Aug. 6, 2021)</td>\n",
       "      <td>34003</td>\n",
       "    </tr>\n",
       "  </tbody>\n",
       "</table>\n",
       "<p>493 rows × 6 columns</p>\n",
       "</div>"
      ],
      "text/plain": [
       "          date  order_code Face_Masks_Required_in_Public Source_of_Action  \\\n",
       "0   2020-04-10           1                           Yes         Official   \n",
       "1   2020-04-11           1                           Yes         Official   \n",
       "2   2020-04-12           1                           Yes         Official   \n",
       "3   2020-04-13           1                           Yes         Official   \n",
       "4   2020-04-14           1                           Yes         Official   \n",
       "..         ...         ...                           ...              ...   \n",
       "488 2021-08-11           2                           Yes         Official   \n",
       "489 2021-08-12           2                           Yes         Official   \n",
       "490 2021-08-13           2                           Yes         Official   \n",
       "491 2021-08-14           2                           Yes         Official   \n",
       "492 2021-08-15           2                           Yes         Official   \n",
       "\n",
       "                                    Citation  COUNTYFP  \n",
       "0    N.J. Exec. Order No. 122 (Apr. 8, 2020)     34003  \n",
       "1    N.J. Exec. Order No. 122 (Apr. 8, 2020)     34003  \n",
       "2    N.J. Exec. Order No. 122 (Apr. 8, 2020)     34003  \n",
       "3    N.J. Exec. Order No.125 (Apr. 11, 2020)     34003  \n",
       "4    N.J. Exec. Order No.125 (Apr. 11, 2020)     34003  \n",
       "..                                       ...       ...  \n",
       "488  N.J. Exec. Order No. 252 (Aug. 6, 2021)     34003  \n",
       "489  N.J. Exec. Order No. 252 (Aug. 6, 2021)     34003  \n",
       "490  N.J. Exec. Order No. 252 (Aug. 6, 2021)     34003  \n",
       "491  N.J. Exec. Order No. 252 (Aug. 6, 2021)     34003  \n",
       "492  N.J. Exec. Order No. 252 (Aug. 6, 2021)     34003  \n",
       "\n",
       "[493 rows x 6 columns]"
      ]
     },
     "execution_count": 113,
     "metadata": {},
     "output_type": "execute_result"
    }
   ],
   "source": [
    "new_jersey_mandate_df['Face_Masks_Required_in_Public'] = new_jersey_mandate_df['Face_Masks_Required_in_Public'].apply(lambda x: 'Yes' if isinstance(x, str) else 'No')\n",
    "new_jersey_mandate_df.drop(columns={'index', 'URL', 'County_Name', 'State_Tribe_Territory', 'FIPS_State', 'FIPS_County'}, inplace=True)\n",
    "new_jersey_mandate_df['date'] = pd.to_datetime(new_jersey_mandate_df['date'])\n",
    "new_jersey_mandate_df['COUNTYFP'] = 34003\n",
    "new_jersey_mandate_df"
   ]
  },
  {
   "cell_type": "code",
   "execution_count": 114,
   "id": "f9b77f41",
   "metadata": {},
   "outputs": [
    {
     "data": {
      "text/html": [
       "<div>\n",
       "<style scoped>\n",
       "    .dataframe tbody tr th:only-of-type {\n",
       "        vertical-align: middle;\n",
       "    }\n",
       "\n",
       "    .dataframe tbody tr th {\n",
       "        vertical-align: top;\n",
       "    }\n",
       "\n",
       "    .dataframe thead th {\n",
       "        text-align: right;\n",
       "    }\n",
       "</style>\n",
       "<table border=\"1\" class=\"dataframe\">\n",
       "  <thead>\n",
       "    <tr style=\"text-align: right;\">\n",
       "      <th></th>\n",
       "      <th>date</th>\n",
       "      <th>order_code</th>\n",
       "      <th>Face_Masks_Required_in_Public</th>\n",
       "      <th>Source_of_Action</th>\n",
       "      <th>Citation</th>\n",
       "      <th>COUNTYFP</th>\n",
       "    </tr>\n",
       "  </thead>\n",
       "  <tbody>\n",
       "    <tr>\n",
       "      <th>0</th>\n",
       "      <td>2020-04-10</td>\n",
       "      <td>1</td>\n",
       "      <td>Yes</td>\n",
       "      <td>Official</td>\n",
       "      <td>N.J. Exec. Order No. 122 (Apr. 8, 2020)</td>\n",
       "      <td>34003</td>\n",
       "    </tr>\n",
       "    <tr>\n",
       "      <th>1</th>\n",
       "      <td>2020-04-11</td>\n",
       "      <td>1</td>\n",
       "      <td>Yes</td>\n",
       "      <td>Official</td>\n",
       "      <td>N.J. Exec. Order No. 122 (Apr. 8, 2020)</td>\n",
       "      <td>34003</td>\n",
       "    </tr>\n",
       "    <tr>\n",
       "      <th>2</th>\n",
       "      <td>2020-04-12</td>\n",
       "      <td>1</td>\n",
       "      <td>Yes</td>\n",
       "      <td>Official</td>\n",
       "      <td>N.J. Exec. Order No. 122 (Apr. 8, 2020)</td>\n",
       "      <td>34003</td>\n",
       "    </tr>\n",
       "    <tr>\n",
       "      <th>3</th>\n",
       "      <td>2020-04-13</td>\n",
       "      <td>1</td>\n",
       "      <td>Yes</td>\n",
       "      <td>Official</td>\n",
       "      <td>N.J. Exec. Order No.125 (Apr. 11, 2020)</td>\n",
       "      <td>34003</td>\n",
       "    </tr>\n",
       "    <tr>\n",
       "      <th>4</th>\n",
       "      <td>2020-04-14</td>\n",
       "      <td>1</td>\n",
       "      <td>Yes</td>\n",
       "      <td>Official</td>\n",
       "      <td>N.J. Exec. Order No.125 (Apr. 11, 2020)</td>\n",
       "      <td>34003</td>\n",
       "    </tr>\n",
       "    <tr>\n",
       "      <th>...</th>\n",
       "      <td>...</td>\n",
       "      <td>...</td>\n",
       "      <td>...</td>\n",
       "      <td>...</td>\n",
       "      <td>...</td>\n",
       "      <td>...</td>\n",
       "    </tr>\n",
       "    <tr>\n",
       "      <th>488</th>\n",
       "      <td>2021-08-11</td>\n",
       "      <td>2</td>\n",
       "      <td>Yes</td>\n",
       "      <td>Official</td>\n",
       "      <td>N.J. Exec. Order No. 252 (Aug. 6, 2021)</td>\n",
       "      <td>34003</td>\n",
       "    </tr>\n",
       "    <tr>\n",
       "      <th>489</th>\n",
       "      <td>2021-08-12</td>\n",
       "      <td>2</td>\n",
       "      <td>Yes</td>\n",
       "      <td>Official</td>\n",
       "      <td>N.J. Exec. Order No. 252 (Aug. 6, 2021)</td>\n",
       "      <td>34003</td>\n",
       "    </tr>\n",
       "    <tr>\n",
       "      <th>490</th>\n",
       "      <td>2021-08-13</td>\n",
       "      <td>2</td>\n",
       "      <td>Yes</td>\n",
       "      <td>Official</td>\n",
       "      <td>N.J. Exec. Order No. 252 (Aug. 6, 2021)</td>\n",
       "      <td>34003</td>\n",
       "    </tr>\n",
       "    <tr>\n",
       "      <th>491</th>\n",
       "      <td>2021-08-14</td>\n",
       "      <td>2</td>\n",
       "      <td>Yes</td>\n",
       "      <td>Official</td>\n",
       "      <td>N.J. Exec. Order No. 252 (Aug. 6, 2021)</td>\n",
       "      <td>34003</td>\n",
       "    </tr>\n",
       "    <tr>\n",
       "      <th>492</th>\n",
       "      <td>2021-08-15</td>\n",
       "      <td>2</td>\n",
       "      <td>Yes</td>\n",
       "      <td>Official</td>\n",
       "      <td>N.J. Exec. Order No. 252 (Aug. 6, 2021)</td>\n",
       "      <td>34003</td>\n",
       "    </tr>\n",
       "  </tbody>\n",
       "</table>\n",
       "<p>493 rows × 6 columns</p>\n",
       "</div>"
      ],
      "text/plain": [
       "          date  order_code Face_Masks_Required_in_Public Source_of_Action  \\\n",
       "0   2020-04-10           1                           Yes         Official   \n",
       "1   2020-04-11           1                           Yes         Official   \n",
       "2   2020-04-12           1                           Yes         Official   \n",
       "3   2020-04-13           1                           Yes         Official   \n",
       "4   2020-04-14           1                           Yes         Official   \n",
       "..         ...         ...                           ...              ...   \n",
       "488 2021-08-11           2                           Yes         Official   \n",
       "489 2021-08-12           2                           Yes         Official   \n",
       "490 2021-08-13           2                           Yes         Official   \n",
       "491 2021-08-14           2                           Yes         Official   \n",
       "492 2021-08-15           2                           Yes         Official   \n",
       "\n",
       "                                    Citation  COUNTYFP  \n",
       "0    N.J. Exec. Order No. 122 (Apr. 8, 2020)     34003  \n",
       "1    N.J. Exec. Order No. 122 (Apr. 8, 2020)     34003  \n",
       "2    N.J. Exec. Order No. 122 (Apr. 8, 2020)     34003  \n",
       "3    N.J. Exec. Order No.125 (Apr. 11, 2020)     34003  \n",
       "4    N.J. Exec. Order No.125 (Apr. 11, 2020)     34003  \n",
       "..                                       ...       ...  \n",
       "488  N.J. Exec. Order No. 252 (Aug. 6, 2021)     34003  \n",
       "489  N.J. Exec. Order No. 252 (Aug. 6, 2021)     34003  \n",
       "490  N.J. Exec. Order No. 252 (Aug. 6, 2021)     34003  \n",
       "491  N.J. Exec. Order No. 252 (Aug. 6, 2021)     34003  \n",
       "492  N.J. Exec. Order No. 252 (Aug. 6, 2021)     34003  \n",
       "\n",
       "[493 rows x 6 columns]"
      ]
     },
     "execution_count": 114,
     "metadata": {},
     "output_type": "execute_result"
    }
   ],
   "source": [
    "new_jersey_mandate_df['date'] = pd.to_datetime(new_jersey_mandate_df['date'])\n",
    "new_jersey_mandate_df"
   ]
  },
  {
   "cell_type": "code",
   "execution_count": null,
   "id": "b5333e35",
   "metadata": {},
   "outputs": [],
   "source": [
    "#Get the date and the confirmed cases"
   ]
  },
  {
   "cell_type": "code",
   "execution_count": 115,
   "id": "c4d55ea2",
   "metadata": {},
   "outputs": [
    {
     "data": {
      "text/html": [
       "<div>\n",
       "<style scoped>\n",
       "    .dataframe tbody tr th:only-of-type {\n",
       "        vertical-align: middle;\n",
       "    }\n",
       "\n",
       "    .dataframe tbody tr th {\n",
       "        vertical-align: top;\n",
       "    }\n",
       "\n",
       "    .dataframe thead th {\n",
       "        text-align: right;\n",
       "    }\n",
       "</style>\n",
       "<table border=\"1\" class=\"dataframe\">\n",
       "  <thead>\n",
       "    <tr style=\"text-align: right;\">\n",
       "      <th></th>\n",
       "      <th>date</th>\n",
       "      <th>1845</th>\n",
       "    </tr>\n",
       "  </thead>\n",
       "  <tbody>\n",
       "    <tr>\n",
       "      <th>0</th>\n",
       "      <td>2020-01-22</td>\n",
       "      <td>0</td>\n",
       "    </tr>\n",
       "    <tr>\n",
       "      <th>1</th>\n",
       "      <td>2020-01-23</td>\n",
       "      <td>0</td>\n",
       "    </tr>\n",
       "    <tr>\n",
       "      <th>2</th>\n",
       "      <td>2020-01-24</td>\n",
       "      <td>0</td>\n",
       "    </tr>\n",
       "    <tr>\n",
       "      <th>3</th>\n",
       "      <td>2020-01-25</td>\n",
       "      <td>0</td>\n",
       "    </tr>\n",
       "    <tr>\n",
       "      <th>4</th>\n",
       "      <td>2020-01-26</td>\n",
       "      <td>0</td>\n",
       "    </tr>\n",
       "    <tr>\n",
       "      <th>...</th>\n",
       "      <td>...</td>\n",
       "      <td>...</td>\n",
       "    </tr>\n",
       "    <tr>\n",
       "      <th>1009</th>\n",
       "      <td>2022-10-27</td>\n",
       "      <td>294344</td>\n",
       "    </tr>\n",
       "    <tr>\n",
       "      <th>1010</th>\n",
       "      <td>2022-10-28</td>\n",
       "      <td>294617</td>\n",
       "    </tr>\n",
       "    <tr>\n",
       "      <th>1011</th>\n",
       "      <td>2022-10-29</td>\n",
       "      <td>295078</td>\n",
       "    </tr>\n",
       "    <tr>\n",
       "      <th>1012</th>\n",
       "      <td>2022-10-30</td>\n",
       "      <td>295078</td>\n",
       "    </tr>\n",
       "    <tr>\n",
       "      <th>1013</th>\n",
       "      <td>2022-10-31</td>\n",
       "      <td>295360</td>\n",
       "    </tr>\n",
       "  </tbody>\n",
       "</table>\n",
       "<p>1014 rows × 2 columns</p>\n",
       "</div>"
      ],
      "text/plain": [
       "           date    1845\n",
       "0    2020-01-22       0\n",
       "1    2020-01-23       0\n",
       "2    2020-01-24       0\n",
       "3    2020-01-25       0\n",
       "4    2020-01-26       0\n",
       "...         ...     ...\n",
       "1009 2022-10-27  294344\n",
       "1010 2022-10-28  294617\n",
       "1011 2022-10-29  295078\n",
       "1012 2022-10-30  295078\n",
       "1013 2022-10-31  295360\n",
       "\n",
       "[1014 rows x 2 columns]"
      ]
     },
     "execution_count": 115,
     "metadata": {},
     "output_type": "execute_result"
    }
   ],
   "source": [
    "new_jersey_cases_df['date'] = pd.to_datetime(new_jersey_cases_df['date'])\n",
    "new_jersey_cases_df"
   ]
  },
  {
   "cell_type": "code",
   "execution_count": 124,
   "id": "5a33d103",
   "metadata": {
    "scrolled": true
   },
   "outputs": [
    {
     "data": {
      "text/html": [
       "<div>\n",
       "<style scoped>\n",
       "    .dataframe tbody tr th:only-of-type {\n",
       "        vertical-align: middle;\n",
       "    }\n",
       "\n",
       "    .dataframe tbody tr th {\n",
       "        vertical-align: top;\n",
       "    }\n",
       "\n",
       "    .dataframe thead th {\n",
       "        text-align: right;\n",
       "    }\n",
       "</style>\n",
       "<table border=\"1\" class=\"dataframe\">\n",
       "  <thead>\n",
       "    <tr style=\"text-align: right;\">\n",
       "      <th></th>\n",
       "      <th>date</th>\n",
       "      <th>order_code</th>\n",
       "      <th>Face_Masks_Required_in_Public</th>\n",
       "      <th>Source_of_Action</th>\n",
       "      <th>Citation</th>\n",
       "      <th>COUNTYFP</th>\n",
       "      <th>1845</th>\n",
       "      <th>index</th>\n",
       "      <th>NEVER</th>\n",
       "      <th>RARELY</th>\n",
       "      <th>SOMETIMES</th>\n",
       "      <th>FREQUENTLY</th>\n",
       "      <th>ALWAYS</th>\n",
       "    </tr>\n",
       "  </thead>\n",
       "  <tbody>\n",
       "    <tr>\n",
       "      <th>0</th>\n",
       "      <td>2020-04-10</td>\n",
       "      <td>1</td>\n",
       "      <td>Yes</td>\n",
       "      <td>Official</td>\n",
       "      <td>N.J. Exec. Order No. 122 (Apr. 8, 2020)</td>\n",
       "      <td>34003</td>\n",
       "      <td>8928</td>\n",
       "      <td>1775</td>\n",
       "      <td>0.02</td>\n",
       "      <td>0.014</td>\n",
       "      <td>0.053</td>\n",
       "      <td>0.151</td>\n",
       "      <td>0.762</td>\n",
       "    </tr>\n",
       "    <tr>\n",
       "      <th>1</th>\n",
       "      <td>2020-04-11</td>\n",
       "      <td>1</td>\n",
       "      <td>Yes</td>\n",
       "      <td>Official</td>\n",
       "      <td>N.J. Exec. Order No. 122 (Apr. 8, 2020)</td>\n",
       "      <td>34003</td>\n",
       "      <td>9362</td>\n",
       "      <td>1775</td>\n",
       "      <td>0.02</td>\n",
       "      <td>0.014</td>\n",
       "      <td>0.053</td>\n",
       "      <td>0.151</td>\n",
       "      <td>0.762</td>\n",
       "    </tr>\n",
       "    <tr>\n",
       "      <th>2</th>\n",
       "      <td>2020-04-12</td>\n",
       "      <td>1</td>\n",
       "      <td>Yes</td>\n",
       "      <td>Official</td>\n",
       "      <td>N.J. Exec. Order No. 122 (Apr. 8, 2020)</td>\n",
       "      <td>34003</td>\n",
       "      <td>9784</td>\n",
       "      <td>1775</td>\n",
       "      <td>0.02</td>\n",
       "      <td>0.014</td>\n",
       "      <td>0.053</td>\n",
       "      <td>0.151</td>\n",
       "      <td>0.762</td>\n",
       "    </tr>\n",
       "    <tr>\n",
       "      <th>3</th>\n",
       "      <td>2020-04-13</td>\n",
       "      <td>1</td>\n",
       "      <td>Yes</td>\n",
       "      <td>Official</td>\n",
       "      <td>N.J. Exec. Order No.125 (Apr. 11, 2020)</td>\n",
       "      <td>34003</td>\n",
       "      <td>10092</td>\n",
       "      <td>1775</td>\n",
       "      <td>0.02</td>\n",
       "      <td>0.014</td>\n",
       "      <td>0.053</td>\n",
       "      <td>0.151</td>\n",
       "      <td>0.762</td>\n",
       "    </tr>\n",
       "    <tr>\n",
       "      <th>4</th>\n",
       "      <td>2020-04-14</td>\n",
       "      <td>1</td>\n",
       "      <td>Yes</td>\n",
       "      <td>Official</td>\n",
       "      <td>N.J. Exec. Order No.125 (Apr. 11, 2020)</td>\n",
       "      <td>34003</td>\n",
       "      <td>10426</td>\n",
       "      <td>1775</td>\n",
       "      <td>0.02</td>\n",
       "      <td>0.014</td>\n",
       "      <td>0.053</td>\n",
       "      <td>0.151</td>\n",
       "      <td>0.762</td>\n",
       "    </tr>\n",
       "    <tr>\n",
       "      <th>...</th>\n",
       "      <td>...</td>\n",
       "      <td>...</td>\n",
       "      <td>...</td>\n",
       "      <td>...</td>\n",
       "      <td>...</td>\n",
       "      <td>...</td>\n",
       "      <td>...</td>\n",
       "      <td>...</td>\n",
       "      <td>...</td>\n",
       "      <td>...</td>\n",
       "      <td>...</td>\n",
       "      <td>...</td>\n",
       "      <td>...</td>\n",
       "    </tr>\n",
       "    <tr>\n",
       "      <th>488</th>\n",
       "      <td>2021-08-11</td>\n",
       "      <td>2</td>\n",
       "      <td>Yes</td>\n",
       "      <td>Official</td>\n",
       "      <td>N.J. Exec. Order No. 252 (Aug. 6, 2021)</td>\n",
       "      <td>34003</td>\n",
       "      <td>107878</td>\n",
       "      <td>1775</td>\n",
       "      <td>0.02</td>\n",
       "      <td>0.014</td>\n",
       "      <td>0.053</td>\n",
       "      <td>0.151</td>\n",
       "      <td>0.762</td>\n",
       "    </tr>\n",
       "    <tr>\n",
       "      <th>489</th>\n",
       "      <td>2021-08-12</td>\n",
       "      <td>2</td>\n",
       "      <td>Yes</td>\n",
       "      <td>Official</td>\n",
       "      <td>N.J. Exec. Order No. 252 (Aug. 6, 2021)</td>\n",
       "      <td>34003</td>\n",
       "      <td>108073</td>\n",
       "      <td>1775</td>\n",
       "      <td>0.02</td>\n",
       "      <td>0.014</td>\n",
       "      <td>0.053</td>\n",
       "      <td>0.151</td>\n",
       "      <td>0.762</td>\n",
       "    </tr>\n",
       "    <tr>\n",
       "      <th>490</th>\n",
       "      <td>2021-08-13</td>\n",
       "      <td>2</td>\n",
       "      <td>Yes</td>\n",
       "      <td>Official</td>\n",
       "      <td>N.J. Exec. Order No. 252 (Aug. 6, 2021)</td>\n",
       "      <td>34003</td>\n",
       "      <td>108214</td>\n",
       "      <td>1775</td>\n",
       "      <td>0.02</td>\n",
       "      <td>0.014</td>\n",
       "      <td>0.053</td>\n",
       "      <td>0.151</td>\n",
       "      <td>0.762</td>\n",
       "    </tr>\n",
       "    <tr>\n",
       "      <th>491</th>\n",
       "      <td>2021-08-14</td>\n",
       "      <td>2</td>\n",
       "      <td>Yes</td>\n",
       "      <td>Official</td>\n",
       "      <td>N.J. Exec. Order No. 252 (Aug. 6, 2021)</td>\n",
       "      <td>34003</td>\n",
       "      <td>108434</td>\n",
       "      <td>1775</td>\n",
       "      <td>0.02</td>\n",
       "      <td>0.014</td>\n",
       "      <td>0.053</td>\n",
       "      <td>0.151</td>\n",
       "      <td>0.762</td>\n",
       "    </tr>\n",
       "    <tr>\n",
       "      <th>492</th>\n",
       "      <td>2021-08-15</td>\n",
       "      <td>2</td>\n",
       "      <td>Yes</td>\n",
       "      <td>Official</td>\n",
       "      <td>N.J. Exec. Order No. 252 (Aug. 6, 2021)</td>\n",
       "      <td>34003</td>\n",
       "      <td>108442</td>\n",
       "      <td>1775</td>\n",
       "      <td>0.02</td>\n",
       "      <td>0.014</td>\n",
       "      <td>0.053</td>\n",
       "      <td>0.151</td>\n",
       "      <td>0.762</td>\n",
       "    </tr>\n",
       "  </tbody>\n",
       "</table>\n",
       "<p>493 rows × 13 columns</p>\n",
       "</div>"
      ],
      "text/plain": [
       "          date  order_code Face_Masks_Required_in_Public Source_of_Action  \\\n",
       "0   2020-04-10           1                           Yes         Official   \n",
       "1   2020-04-11           1                           Yes         Official   \n",
       "2   2020-04-12           1                           Yes         Official   \n",
       "3   2020-04-13           1                           Yes         Official   \n",
       "4   2020-04-14           1                           Yes         Official   \n",
       "..         ...         ...                           ...              ...   \n",
       "488 2021-08-11           2                           Yes         Official   \n",
       "489 2021-08-12           2                           Yes         Official   \n",
       "490 2021-08-13           2                           Yes         Official   \n",
       "491 2021-08-14           2                           Yes         Official   \n",
       "492 2021-08-15           2                           Yes         Official   \n",
       "\n",
       "                                    Citation  COUNTYFP    1845  index  NEVER  \\\n",
       "0    N.J. Exec. Order No. 122 (Apr. 8, 2020)     34003    8928   1775   0.02   \n",
       "1    N.J. Exec. Order No. 122 (Apr. 8, 2020)     34003    9362   1775   0.02   \n",
       "2    N.J. Exec. Order No. 122 (Apr. 8, 2020)     34003    9784   1775   0.02   \n",
       "3    N.J. Exec. Order No.125 (Apr. 11, 2020)     34003   10092   1775   0.02   \n",
       "4    N.J. Exec. Order No.125 (Apr. 11, 2020)     34003   10426   1775   0.02   \n",
       "..                                       ...       ...     ...    ...    ...   \n",
       "488  N.J. Exec. Order No. 252 (Aug. 6, 2021)     34003  107878   1775   0.02   \n",
       "489  N.J. Exec. Order No. 252 (Aug. 6, 2021)     34003  108073   1775   0.02   \n",
       "490  N.J. Exec. Order No. 252 (Aug. 6, 2021)     34003  108214   1775   0.02   \n",
       "491  N.J. Exec. Order No. 252 (Aug. 6, 2021)     34003  108434   1775   0.02   \n",
       "492  N.J. Exec. Order No. 252 (Aug. 6, 2021)     34003  108442   1775   0.02   \n",
       "\n",
       "     RARELY  SOMETIMES  FREQUENTLY  ALWAYS  \n",
       "0     0.014      0.053       0.151   0.762  \n",
       "1     0.014      0.053       0.151   0.762  \n",
       "2     0.014      0.053       0.151   0.762  \n",
       "3     0.014      0.053       0.151   0.762  \n",
       "4     0.014      0.053       0.151   0.762  \n",
       "..      ...        ...         ...     ...  \n",
       "488   0.014      0.053       0.151   0.762  \n",
       "489   0.014      0.053       0.151   0.762  \n",
       "490   0.014      0.053       0.151   0.762  \n",
       "491   0.014      0.053       0.151   0.762  \n",
       "492   0.014      0.053       0.151   0.762  \n",
       "\n",
       "[493 rows x 13 columns]"
      ]
     },
     "execution_count": 124,
     "metadata": {},
     "output_type": "execute_result"
    }
   ],
   "source": [
    "new_jersey_out= new_jersey_mandate_df.merge(new_jersey_cases_df, on='date', how='left').merge(new_jersey_compliance_df, on='COUNTYFP')\n",
    "new_jersey_out"
   ]
  },
  {
   "cell_type": "code",
   "execution_count": 131,
   "id": "1e027514",
   "metadata": {},
   "outputs": [],
   "source": [
    "new_jersey_out.to_csv('new_jersey_covid_data.csv', index=False)"
   ]
  },
  {
   "cell_type": "markdown",
   "id": "d05c82c1",
   "metadata": {},
   "source": [
    "# 2. Visualize\n",
    "This section is going to help visualize the data produced above."
   ]
  },
  {
   "cell_type": "code",
   "execution_count": 132,
   "id": "8676f5ac",
   "metadata": {},
   "outputs": [],
   "source": [
    "df = new_jersey_out"
   ]
  },
  {
   "cell_type": "code",
   "execution_count": 133,
   "id": "6617c4b6",
   "metadata": {},
   "outputs": [],
   "source": [
    "import numpy as np\n",
    "import seaborn as sns\n",
    "import matplotlib.dates as mdates\n",
    "import matplotlib.pyplot as plt"
   ]
  },
  {
   "cell_type": "code",
   "execution_count": 141,
   "id": "d9c7d670",
   "metadata": {},
   "outputs": [],
   "source": [
    "df.columns.values[6] = 'confirmed_cases'"
   ]
  },
  {
   "cell_type": "code",
   "execution_count": 145,
   "id": "b4942bd3",
   "metadata": {},
   "outputs": [
    {
     "data": {
      "text/html": [
       "<div>\n",
       "<style scoped>\n",
       "    .dataframe tbody tr th:only-of-type {\n",
       "        vertical-align: middle;\n",
       "    }\n",
       "\n",
       "    .dataframe tbody tr th {\n",
       "        vertical-align: top;\n",
       "    }\n",
       "\n",
       "    .dataframe thead th {\n",
       "        text-align: right;\n",
       "    }\n",
       "</style>\n",
       "<table border=\"1\" class=\"dataframe\">\n",
       "  <thead>\n",
       "    <tr style=\"text-align: right;\">\n",
       "      <th></th>\n",
       "      <th>date</th>\n",
       "      <th>order_code</th>\n",
       "      <th>Face_Masks_Required_in_Public</th>\n",
       "      <th>Source_of_Action</th>\n",
       "      <th>Citation</th>\n",
       "      <th>COUNTYFP</th>\n",
       "      <th>confirmed_cases</th>\n",
       "      <th>index</th>\n",
       "      <th>NEVER</th>\n",
       "      <th>RARELY</th>\n",
       "      <th>SOMETIMES</th>\n",
       "      <th>FREQUENTLY</th>\n",
       "      <th>ALWAYS</th>\n",
       "    </tr>\n",
       "  </thead>\n",
       "  <tbody>\n",
       "    <tr>\n",
       "      <th>0</th>\n",
       "      <td>2020-04-10</td>\n",
       "      <td>1</td>\n",
       "      <td>Yes</td>\n",
       "      <td>Official</td>\n",
       "      <td>N.J. Exec. Order No. 122 (Apr. 8, 2020)</td>\n",
       "      <td>34003</td>\n",
       "      <td>8928</td>\n",
       "      <td>1775</td>\n",
       "      <td>0.02</td>\n",
       "      <td>0.014</td>\n",
       "      <td>0.053</td>\n",
       "      <td>0.151</td>\n",
       "      <td>0.762</td>\n",
       "    </tr>\n",
       "    <tr>\n",
       "      <th>1</th>\n",
       "      <td>2020-04-11</td>\n",
       "      <td>1</td>\n",
       "      <td>Yes</td>\n",
       "      <td>Official</td>\n",
       "      <td>N.J. Exec. Order No. 122 (Apr. 8, 2020)</td>\n",
       "      <td>34003</td>\n",
       "      <td>9362</td>\n",
       "      <td>1775</td>\n",
       "      <td>0.02</td>\n",
       "      <td>0.014</td>\n",
       "      <td>0.053</td>\n",
       "      <td>0.151</td>\n",
       "      <td>0.762</td>\n",
       "    </tr>\n",
       "    <tr>\n",
       "      <th>2</th>\n",
       "      <td>2020-04-12</td>\n",
       "      <td>1</td>\n",
       "      <td>Yes</td>\n",
       "      <td>Official</td>\n",
       "      <td>N.J. Exec. Order No. 122 (Apr. 8, 2020)</td>\n",
       "      <td>34003</td>\n",
       "      <td>9784</td>\n",
       "      <td>1775</td>\n",
       "      <td>0.02</td>\n",
       "      <td>0.014</td>\n",
       "      <td>0.053</td>\n",
       "      <td>0.151</td>\n",
       "      <td>0.762</td>\n",
       "    </tr>\n",
       "    <tr>\n",
       "      <th>3</th>\n",
       "      <td>2020-04-13</td>\n",
       "      <td>1</td>\n",
       "      <td>Yes</td>\n",
       "      <td>Official</td>\n",
       "      <td>N.J. Exec. Order No.125 (Apr. 11, 2020)</td>\n",
       "      <td>34003</td>\n",
       "      <td>10092</td>\n",
       "      <td>1775</td>\n",
       "      <td>0.02</td>\n",
       "      <td>0.014</td>\n",
       "      <td>0.053</td>\n",
       "      <td>0.151</td>\n",
       "      <td>0.762</td>\n",
       "    </tr>\n",
       "    <tr>\n",
       "      <th>4</th>\n",
       "      <td>2020-04-14</td>\n",
       "      <td>1</td>\n",
       "      <td>Yes</td>\n",
       "      <td>Official</td>\n",
       "      <td>N.J. Exec. Order No.125 (Apr. 11, 2020)</td>\n",
       "      <td>34003</td>\n",
       "      <td>10426</td>\n",
       "      <td>1775</td>\n",
       "      <td>0.02</td>\n",
       "      <td>0.014</td>\n",
       "      <td>0.053</td>\n",
       "      <td>0.151</td>\n",
       "      <td>0.762</td>\n",
       "    </tr>\n",
       "    <tr>\n",
       "      <th>...</th>\n",
       "      <td>...</td>\n",
       "      <td>...</td>\n",
       "      <td>...</td>\n",
       "      <td>...</td>\n",
       "      <td>...</td>\n",
       "      <td>...</td>\n",
       "      <td>...</td>\n",
       "      <td>...</td>\n",
       "      <td>...</td>\n",
       "      <td>...</td>\n",
       "      <td>...</td>\n",
       "      <td>...</td>\n",
       "      <td>...</td>\n",
       "    </tr>\n",
       "    <tr>\n",
       "      <th>488</th>\n",
       "      <td>2021-08-11</td>\n",
       "      <td>2</td>\n",
       "      <td>Yes</td>\n",
       "      <td>Official</td>\n",
       "      <td>N.J. Exec. Order No. 252 (Aug. 6, 2021)</td>\n",
       "      <td>34003</td>\n",
       "      <td>107878</td>\n",
       "      <td>1775</td>\n",
       "      <td>0.02</td>\n",
       "      <td>0.014</td>\n",
       "      <td>0.053</td>\n",
       "      <td>0.151</td>\n",
       "      <td>0.762</td>\n",
       "    </tr>\n",
       "    <tr>\n",
       "      <th>489</th>\n",
       "      <td>2021-08-12</td>\n",
       "      <td>2</td>\n",
       "      <td>Yes</td>\n",
       "      <td>Official</td>\n",
       "      <td>N.J. Exec. Order No. 252 (Aug. 6, 2021)</td>\n",
       "      <td>34003</td>\n",
       "      <td>108073</td>\n",
       "      <td>1775</td>\n",
       "      <td>0.02</td>\n",
       "      <td>0.014</td>\n",
       "      <td>0.053</td>\n",
       "      <td>0.151</td>\n",
       "      <td>0.762</td>\n",
       "    </tr>\n",
       "    <tr>\n",
       "      <th>490</th>\n",
       "      <td>2021-08-13</td>\n",
       "      <td>2</td>\n",
       "      <td>Yes</td>\n",
       "      <td>Official</td>\n",
       "      <td>N.J. Exec. Order No. 252 (Aug. 6, 2021)</td>\n",
       "      <td>34003</td>\n",
       "      <td>108214</td>\n",
       "      <td>1775</td>\n",
       "      <td>0.02</td>\n",
       "      <td>0.014</td>\n",
       "      <td>0.053</td>\n",
       "      <td>0.151</td>\n",
       "      <td>0.762</td>\n",
       "    </tr>\n",
       "    <tr>\n",
       "      <th>491</th>\n",
       "      <td>2021-08-14</td>\n",
       "      <td>2</td>\n",
       "      <td>Yes</td>\n",
       "      <td>Official</td>\n",
       "      <td>N.J. Exec. Order No. 252 (Aug. 6, 2021)</td>\n",
       "      <td>34003</td>\n",
       "      <td>108434</td>\n",
       "      <td>1775</td>\n",
       "      <td>0.02</td>\n",
       "      <td>0.014</td>\n",
       "      <td>0.053</td>\n",
       "      <td>0.151</td>\n",
       "      <td>0.762</td>\n",
       "    </tr>\n",
       "    <tr>\n",
       "      <th>492</th>\n",
       "      <td>2021-08-15</td>\n",
       "      <td>2</td>\n",
       "      <td>Yes</td>\n",
       "      <td>Official</td>\n",
       "      <td>N.J. Exec. Order No. 252 (Aug. 6, 2021)</td>\n",
       "      <td>34003</td>\n",
       "      <td>108442</td>\n",
       "      <td>1775</td>\n",
       "      <td>0.02</td>\n",
       "      <td>0.014</td>\n",
       "      <td>0.053</td>\n",
       "      <td>0.151</td>\n",
       "      <td>0.762</td>\n",
       "    </tr>\n",
       "  </tbody>\n",
       "</table>\n",
       "<p>493 rows × 13 columns</p>\n",
       "</div>"
      ],
      "text/plain": [
       "          date  order_code Face_Masks_Required_in_Public Source_of_Action  \\\n",
       "0   2020-04-10           1                           Yes         Official   \n",
       "1   2020-04-11           1                           Yes         Official   \n",
       "2   2020-04-12           1                           Yes         Official   \n",
       "3   2020-04-13           1                           Yes         Official   \n",
       "4   2020-04-14           1                           Yes         Official   \n",
       "..         ...         ...                           ...              ...   \n",
       "488 2021-08-11           2                           Yes         Official   \n",
       "489 2021-08-12           2                           Yes         Official   \n",
       "490 2021-08-13           2                           Yes         Official   \n",
       "491 2021-08-14           2                           Yes         Official   \n",
       "492 2021-08-15           2                           Yes         Official   \n",
       "\n",
       "                                    Citation  COUNTYFP confirmed_cases  index  \\\n",
       "0    N.J. Exec. Order No. 122 (Apr. 8, 2020)     34003            8928   1775   \n",
       "1    N.J. Exec. Order No. 122 (Apr. 8, 2020)     34003            9362   1775   \n",
       "2    N.J. Exec. Order No. 122 (Apr. 8, 2020)     34003            9784   1775   \n",
       "3    N.J. Exec. Order No.125 (Apr. 11, 2020)     34003           10092   1775   \n",
       "4    N.J. Exec. Order No.125 (Apr. 11, 2020)     34003           10426   1775   \n",
       "..                                       ...       ...             ...    ...   \n",
       "488  N.J. Exec. Order No. 252 (Aug. 6, 2021)     34003          107878   1775   \n",
       "489  N.J. Exec. Order No. 252 (Aug. 6, 2021)     34003          108073   1775   \n",
       "490  N.J. Exec. Order No. 252 (Aug. 6, 2021)     34003          108214   1775   \n",
       "491  N.J. Exec. Order No. 252 (Aug. 6, 2021)     34003          108434   1775   \n",
       "492  N.J. Exec. Order No. 252 (Aug. 6, 2021)     34003          108442   1775   \n",
       "\n",
       "     NEVER  RARELY  SOMETIMES  FREQUENTLY  ALWAYS  \n",
       "0     0.02   0.014      0.053       0.151   0.762  \n",
       "1     0.02   0.014      0.053       0.151   0.762  \n",
       "2     0.02   0.014      0.053       0.151   0.762  \n",
       "3     0.02   0.014      0.053       0.151   0.762  \n",
       "4     0.02   0.014      0.053       0.151   0.762  \n",
       "..     ...     ...        ...         ...     ...  \n",
       "488   0.02   0.014      0.053       0.151   0.762  \n",
       "489   0.02   0.014      0.053       0.151   0.762  \n",
       "490   0.02   0.014      0.053       0.151   0.762  \n",
       "491   0.02   0.014      0.053       0.151   0.762  \n",
       "492   0.02   0.014      0.053       0.151   0.762  \n",
       "\n",
       "[493 rows x 13 columns]"
      ]
     },
     "execution_count": 145,
     "metadata": {},
     "output_type": "execute_result"
    }
   ],
   "source": [
    "df"
   ]
  },
  {
   "cell_type": "code",
   "execution_count": 156,
   "id": "0e0e7db2",
   "metadata": {},
   "outputs": [
    {
     "data": {
      "text/plain": [
       "0        8928\n",
       "1        9362\n",
       "2        9784\n",
       "3       10092\n",
       "4       10426\n",
       "        ...  \n",
       "488    107878\n",
       "489    108073\n",
       "490    108214\n",
       "491    108434\n",
       "492    108442\n",
       "Name: confirmed_cases, Length: 493, dtype: object"
      ]
     },
     "execution_count": 156,
     "metadata": {},
     "output_type": "execute_result"
    }
   ],
   "source": [
    "df.iloc[:, 6]"
   ]
  },
  {
   "cell_type": "markdown",
   "id": "9fd4a1d5",
   "metadata": {},
   "source": [
    "# Calculate Rate of Change:\n",
    "\n",
    "We take the slope and calculate the rate of change for each on a 10 date basis."
   ]
  },
  {
   "cell_type": "code",
   "execution_count": 169,
   "id": "9a0b58a7",
   "metadata": {},
   "outputs": [],
   "source": [
    "#Get the confirmed cases and calculate the rate of the change.\n",
    "slope = df.iloc[:, 6] - df.shift(periods=1).iloc[:, 6].fillna(0)\n",
    "rate = slope.rolling(10).mean().fillna(0)"
   ]
  },
  {
   "cell_type": "code",
   "execution_count": 171,
   "id": "f64dc900",
   "metadata": {},
   "outputs": [],
   "source": [
    "df['rate'] = rate"
   ]
  },
  {
   "cell_type": "code",
   "execution_count": 172,
   "id": "12219ff3",
   "metadata": {},
   "outputs": [
    {
     "data": {
      "text/html": [
       "<div>\n",
       "<style scoped>\n",
       "    .dataframe tbody tr th:only-of-type {\n",
       "        vertical-align: middle;\n",
       "    }\n",
       "\n",
       "    .dataframe tbody tr th {\n",
       "        vertical-align: top;\n",
       "    }\n",
       "\n",
       "    .dataframe thead th {\n",
       "        text-align: right;\n",
       "    }\n",
       "</style>\n",
       "<table border=\"1\" class=\"dataframe\">\n",
       "  <thead>\n",
       "    <tr style=\"text-align: right;\">\n",
       "      <th></th>\n",
       "      <th>date</th>\n",
       "      <th>order_code</th>\n",
       "      <th>Face_Masks_Required_in_Public</th>\n",
       "      <th>Source_of_Action</th>\n",
       "      <th>Citation</th>\n",
       "      <th>COUNTYFP</th>\n",
       "      <th>confirmed_cases</th>\n",
       "      <th>index</th>\n",
       "      <th>NEVER</th>\n",
       "      <th>RARELY</th>\n",
       "      <th>SOMETIMES</th>\n",
       "      <th>FREQUENTLY</th>\n",
       "      <th>ALWAYS</th>\n",
       "      <th>rate</th>\n",
       "    </tr>\n",
       "  </thead>\n",
       "  <tbody>\n",
       "    <tr>\n",
       "      <th>0</th>\n",
       "      <td>2020-04-10</td>\n",
       "      <td>1</td>\n",
       "      <td>Yes</td>\n",
       "      <td>Official</td>\n",
       "      <td>N.J. Exec. Order No. 122 (Apr. 8, 2020)</td>\n",
       "      <td>34003</td>\n",
       "      <td>8928</td>\n",
       "      <td>1775</td>\n",
       "      <td>0.02</td>\n",
       "      <td>0.014</td>\n",
       "      <td>0.053</td>\n",
       "      <td>0.151</td>\n",
       "      <td>0.762</td>\n",
       "      <td>0.0</td>\n",
       "    </tr>\n",
       "    <tr>\n",
       "      <th>1</th>\n",
       "      <td>2020-04-11</td>\n",
       "      <td>1</td>\n",
       "      <td>Yes</td>\n",
       "      <td>Official</td>\n",
       "      <td>N.J. Exec. Order No. 122 (Apr. 8, 2020)</td>\n",
       "      <td>34003</td>\n",
       "      <td>9362</td>\n",
       "      <td>1775</td>\n",
       "      <td>0.02</td>\n",
       "      <td>0.014</td>\n",
       "      <td>0.053</td>\n",
       "      <td>0.151</td>\n",
       "      <td>0.762</td>\n",
       "      <td>0.0</td>\n",
       "    </tr>\n",
       "    <tr>\n",
       "      <th>2</th>\n",
       "      <td>2020-04-12</td>\n",
       "      <td>1</td>\n",
       "      <td>Yes</td>\n",
       "      <td>Official</td>\n",
       "      <td>N.J. Exec. Order No. 122 (Apr. 8, 2020)</td>\n",
       "      <td>34003</td>\n",
       "      <td>9784</td>\n",
       "      <td>1775</td>\n",
       "      <td>0.02</td>\n",
       "      <td>0.014</td>\n",
       "      <td>0.053</td>\n",
       "      <td>0.151</td>\n",
       "      <td>0.762</td>\n",
       "      <td>0.0</td>\n",
       "    </tr>\n",
       "    <tr>\n",
       "      <th>3</th>\n",
       "      <td>2020-04-13</td>\n",
       "      <td>1</td>\n",
       "      <td>Yes</td>\n",
       "      <td>Official</td>\n",
       "      <td>N.J. Exec. Order No.125 (Apr. 11, 2020)</td>\n",
       "      <td>34003</td>\n",
       "      <td>10092</td>\n",
       "      <td>1775</td>\n",
       "      <td>0.02</td>\n",
       "      <td>0.014</td>\n",
       "      <td>0.053</td>\n",
       "      <td>0.151</td>\n",
       "      <td>0.762</td>\n",
       "      <td>0.0</td>\n",
       "    </tr>\n",
       "    <tr>\n",
       "      <th>4</th>\n",
       "      <td>2020-04-14</td>\n",
       "      <td>1</td>\n",
       "      <td>Yes</td>\n",
       "      <td>Official</td>\n",
       "      <td>N.J. Exec. Order No.125 (Apr. 11, 2020)</td>\n",
       "      <td>34003</td>\n",
       "      <td>10426</td>\n",
       "      <td>1775</td>\n",
       "      <td>0.02</td>\n",
       "      <td>0.014</td>\n",
       "      <td>0.053</td>\n",
       "      <td>0.151</td>\n",
       "      <td>0.762</td>\n",
       "      <td>0.0</td>\n",
       "    </tr>\n",
       "    <tr>\n",
       "      <th>...</th>\n",
       "      <td>...</td>\n",
       "      <td>...</td>\n",
       "      <td>...</td>\n",
       "      <td>...</td>\n",
       "      <td>...</td>\n",
       "      <td>...</td>\n",
       "      <td>...</td>\n",
       "      <td>...</td>\n",
       "      <td>...</td>\n",
       "      <td>...</td>\n",
       "      <td>...</td>\n",
       "      <td>...</td>\n",
       "      <td>...</td>\n",
       "      <td>...</td>\n",
       "    </tr>\n",
       "    <tr>\n",
       "      <th>488</th>\n",
       "      <td>2021-08-11</td>\n",
       "      <td>2</td>\n",
       "      <td>Yes</td>\n",
       "      <td>Official</td>\n",
       "      <td>N.J. Exec. Order No. 252 (Aug. 6, 2021)</td>\n",
       "      <td>34003</td>\n",
       "      <td>107878</td>\n",
       "      <td>1775</td>\n",
       "      <td>0.02</td>\n",
       "      <td>0.014</td>\n",
       "      <td>0.053</td>\n",
       "      <td>0.151</td>\n",
       "      <td>0.762</td>\n",
       "      <td>118.6</td>\n",
       "    </tr>\n",
       "    <tr>\n",
       "      <th>489</th>\n",
       "      <td>2021-08-12</td>\n",
       "      <td>2</td>\n",
       "      <td>Yes</td>\n",
       "      <td>Official</td>\n",
       "      <td>N.J. Exec. Order No. 252 (Aug. 6, 2021)</td>\n",
       "      <td>34003</td>\n",
       "      <td>108073</td>\n",
       "      <td>1775</td>\n",
       "      <td>0.02</td>\n",
       "      <td>0.014</td>\n",
       "      <td>0.053</td>\n",
       "      <td>0.151</td>\n",
       "      <td>0.762</td>\n",
       "      <td>129.6</td>\n",
       "    </tr>\n",
       "    <tr>\n",
       "      <th>490</th>\n",
       "      <td>2021-08-13</td>\n",
       "      <td>2</td>\n",
       "      <td>Yes</td>\n",
       "      <td>Official</td>\n",
       "      <td>N.J. Exec. Order No. 252 (Aug. 6, 2021)</td>\n",
       "      <td>34003</td>\n",
       "      <td>108214</td>\n",
       "      <td>1775</td>\n",
       "      <td>0.02</td>\n",
       "      <td>0.014</td>\n",
       "      <td>0.053</td>\n",
       "      <td>0.151</td>\n",
       "      <td>0.762</td>\n",
       "      <td>130.8</td>\n",
       "    </tr>\n",
       "    <tr>\n",
       "      <th>491</th>\n",
       "      <td>2021-08-14</td>\n",
       "      <td>2</td>\n",
       "      <td>Yes</td>\n",
       "      <td>Official</td>\n",
       "      <td>N.J. Exec. Order No. 252 (Aug. 6, 2021)</td>\n",
       "      <td>34003</td>\n",
       "      <td>108434</td>\n",
       "      <td>1775</td>\n",
       "      <td>0.02</td>\n",
       "      <td>0.014</td>\n",
       "      <td>0.053</td>\n",
       "      <td>0.151</td>\n",
       "      <td>0.762</td>\n",
       "      <td>142.5</td>\n",
       "    </tr>\n",
       "    <tr>\n",
       "      <th>492</th>\n",
       "      <td>2021-08-15</td>\n",
       "      <td>2</td>\n",
       "      <td>Yes</td>\n",
       "      <td>Official</td>\n",
       "      <td>N.J. Exec. Order No. 252 (Aug. 6, 2021)</td>\n",
       "      <td>34003</td>\n",
       "      <td>108442</td>\n",
       "      <td>1775</td>\n",
       "      <td>0.02</td>\n",
       "      <td>0.014</td>\n",
       "      <td>0.053</td>\n",
       "      <td>0.151</td>\n",
       "      <td>0.762</td>\n",
       "      <td>130.9</td>\n",
       "    </tr>\n",
       "  </tbody>\n",
       "</table>\n",
       "<p>493 rows × 14 columns</p>\n",
       "</div>"
      ],
      "text/plain": [
       "          date  order_code Face_Masks_Required_in_Public Source_of_Action  \\\n",
       "0   2020-04-10           1                           Yes         Official   \n",
       "1   2020-04-11           1                           Yes         Official   \n",
       "2   2020-04-12           1                           Yes         Official   \n",
       "3   2020-04-13           1                           Yes         Official   \n",
       "4   2020-04-14           1                           Yes         Official   \n",
       "..         ...         ...                           ...              ...   \n",
       "488 2021-08-11           2                           Yes         Official   \n",
       "489 2021-08-12           2                           Yes         Official   \n",
       "490 2021-08-13           2                           Yes         Official   \n",
       "491 2021-08-14           2                           Yes         Official   \n",
       "492 2021-08-15           2                           Yes         Official   \n",
       "\n",
       "                                    Citation  COUNTYFP confirmed_cases  index  \\\n",
       "0    N.J. Exec. Order No. 122 (Apr. 8, 2020)     34003            8928   1775   \n",
       "1    N.J. Exec. Order No. 122 (Apr. 8, 2020)     34003            9362   1775   \n",
       "2    N.J. Exec. Order No. 122 (Apr. 8, 2020)     34003            9784   1775   \n",
       "3    N.J. Exec. Order No.125 (Apr. 11, 2020)     34003           10092   1775   \n",
       "4    N.J. Exec. Order No.125 (Apr. 11, 2020)     34003           10426   1775   \n",
       "..                                       ...       ...             ...    ...   \n",
       "488  N.J. Exec. Order No. 252 (Aug. 6, 2021)     34003          107878   1775   \n",
       "489  N.J. Exec. Order No. 252 (Aug. 6, 2021)     34003          108073   1775   \n",
       "490  N.J. Exec. Order No. 252 (Aug. 6, 2021)     34003          108214   1775   \n",
       "491  N.J. Exec. Order No. 252 (Aug. 6, 2021)     34003          108434   1775   \n",
       "492  N.J. Exec. Order No. 252 (Aug. 6, 2021)     34003          108442   1775   \n",
       "\n",
       "     NEVER  RARELY  SOMETIMES  FREQUENTLY  ALWAYS   rate  \n",
       "0     0.02   0.014      0.053       0.151   0.762    0.0  \n",
       "1     0.02   0.014      0.053       0.151   0.762    0.0  \n",
       "2     0.02   0.014      0.053       0.151   0.762    0.0  \n",
       "3     0.02   0.014      0.053       0.151   0.762    0.0  \n",
       "4     0.02   0.014      0.053       0.151   0.762    0.0  \n",
       "..     ...     ...        ...         ...     ...    ...  \n",
       "488   0.02   0.014      0.053       0.151   0.762  118.6  \n",
       "489   0.02   0.014      0.053       0.151   0.762  129.6  \n",
       "490   0.02   0.014      0.053       0.151   0.762  130.8  \n",
       "491   0.02   0.014      0.053       0.151   0.762  142.5  \n",
       "492   0.02   0.014      0.053       0.151   0.762  130.9  \n",
       "\n",
       "[493 rows x 14 columns]"
      ]
     },
     "execution_count": 172,
     "metadata": {},
     "output_type": "execute_result"
    }
   ],
   "source": [
    "df"
   ]
  },
  {
   "cell_type": "markdown",
   "id": "a2c52734",
   "metadata": {},
   "source": [
    "# Task\n",
    "\n",
    "For your county, you should create a time series showing the changes in the derivative function of the rate of infection. Your graph should indicate days where masking policies were in effect (or not) and whether the difference in the derivative function was significant. "
   ]
  },
  {
   "cell_type": "code",
   "execution_count": null,
   "id": "ab8db804",
   "metadata": {},
   "outputs": [],
   "source": []
  },
  {
   "cell_type": "code",
   "execution_count": 183,
   "id": "2a5a26d5",
   "metadata": {},
   "outputs": [
    {
     "data": {
      "application/vnd.plotly.v1+json": {
       "config": {
        "plotlyServerURL": "https://plot.ly"
       },
       "data": [
        {
         "customdata": [
          [
           0
          ],
          [
           0
          ],
          [
           0
          ],
          [
           0
          ],
          [
           0
          ],
          [
           0
          ],
          [
           0
          ],
          [
           0
          ],
          [
           0
          ],
          [
           1263.9
          ],
          [
           408.3
          ],
          [
           399.4
          ],
          [
           390.2
          ],
          [
           395.7
          ],
          [
           393.7
          ],
          [
           389
          ],
          [
           355.6
          ],
          [
           324.1
          ],
          [
           308.8
          ],
          [
           280.7
          ],
          [
           259.9
          ],
          [
           247.6
          ],
          [
           229.1
          ],
          [
           213.9
          ],
          [
           192.6
          ],
          [
           173.1
          ],
          [
           156.4
          ],
          [
           151.6
          ],
          [
           147
          ],
          [
           137
          ],
          [
           133.1
          ],
          [
           121.3
          ],
          [
           113.3
          ],
          [
           98.3
          ],
          [
           81.4
          ],
          [
           75.2
          ],
          [
           74.3
          ],
          [
           76.7
          ],
          [
           76.6
          ],
          [
           73.7
          ],
          [
           61.2
          ],
          [
           57.6
          ],
          [
           58.8
          ],
          [
           54.3
          ],
          [
           74.8
          ],
          [
           72.8
          ],
          [
           74.1
          ],
          [
           68.9
          ],
          [
           73
          ],
          [
           73.1
          ],
          [
           72
          ],
          [
           71.3
          ],
          [
           66.9
          ],
          [
           69.2
          ],
          [
           60
          ],
          [
           53.6
          ],
          [
           52.8
          ],
          [
           49.7
          ],
          [
           37.6
          ],
          [
           34.1
          ],
          [
           38.9
          ],
          [
           42.7
          ],
          [
           44.7
          ],
          [
           43.4
          ],
          [
           45.2
          ],
          [
           43.4
          ],
          [
           40.8
          ],
          [
           43.3
          ],
          [
           44.1
          ],
          [
           43.4
          ],
          [
           41.8
          ],
          [
           35.1
          ],
          [
           31.2
          ],
          [
           31.8
          ],
          [
           29.7
          ],
          [
           31.3
          ],
          [
           35.8
          ],
          [
           40.2
          ],
          [
           38.8
          ],
          [
           44.2
          ],
          [
           44.5
          ],
          [
           46.7
          ],
          [
           47.7
          ],
          [
           48.1
          ],
          [
           50.2
          ],
          [
           50
          ],
          [
           48.9
          ],
          [
           42
          ],
          [
           43.2
          ],
          [
           41.2
          ],
          [
           43
          ],
          [
           43.8
          ],
          [
           43.8
          ],
          [
           42.8
          ],
          [
           39.2
          ],
          [
           38.1
          ],
          [
           34.4
          ],
          [
           34
          ],
          [
           33.7
          ],
          [
           29.3
          ],
          [
           25.4
          ],
          [
           25.4
          ],
          [
           25.5
          ],
          [
           28.3
          ],
          [
           29.7
          ],
          [
           30.8
          ],
          [
           31.4
          ],
          [
           32.7
          ],
          [
           36.3
          ],
          [
           41.3
          ],
          [
           46.6
          ],
          [
           42.9
          ],
          [
           47.3
          ],
          [
           44.3
          ],
          [
           43
          ],
          [
           43.6
          ],
          [
           46.4
          ],
          [
           45.5
          ],
          [
           43.1
          ],
          [
           39.5
          ],
          [
           40
          ],
          [
           42
          ],
          [
           39
          ],
          [
           40.9
          ],
          [
           42
          ],
          [
           42.8
          ],
          [
           48.8
          ],
          [
           52.1
          ],
          [
           56.3
          ],
          [
           62.1
          ],
          [
           58.9
          ],
          [
           55.1
          ],
          [
           47.2
          ],
          [
           45
          ],
          [
           44.6
          ],
          [
           41.2
          ],
          [
           32.6
          ],
          [
           31.1
          ],
          [
           27.9
          ],
          [
           21.4
          ],
          [
           20.8
          ],
          [
           24.9
          ],
          [
           32.6
          ],
          [
           35.2
          ],
          [
           38.7
          ],
          [
           40.7
          ],
          [
           40.9
          ],
          [
           39.2
          ],
          [
           35.1
          ],
          [
           36.2
          ],
          [
           37.1
          ],
          [
           35.8
          ],
          [
           35.1
          ],
          [
           32.8
          ],
          [
           29.5
          ],
          [
           28.1
          ],
          [
           28.3
          ],
          [
           28.3
          ],
          [
           28.9
          ],
          [
           29
          ],
          [
           32.1
          ],
          [
           32
          ],
          [
           31.6
          ],
          [
           31.6
          ],
          [
           31.7
          ],
          [
           36.3
          ],
          [
           35.6
          ],
          [
           36.1
          ],
          [
           38
          ],
          [
           38.2
          ],
          [
           36.7
          ],
          [
           37.7
          ],
          [
           39
          ],
          [
           41.3
          ],
          [
           44.7
          ],
          [
           44.3
          ],
          [
           47.6
          ],
          [
           48.2
          ],
          [
           49.8
          ],
          [
           52.5
          ],
          [
           53.8
          ],
          [
           58.6
          ],
          [
           62.6
          ],
          [
           66
          ],
          [
           65.8
          ],
          [
           66.1
          ],
          [
           70.8
          ],
          [
           74.8
          ],
          [
           83.2
          ],
          [
           86.1
          ],
          [
           89
          ],
          [
           91.5
          ],
          [
           96.9
          ],
          [
           102
          ],
          [
           109.2
          ],
          [
           116.1
          ],
          [
           115.9
          ],
          [
           125.9
          ],
          [
           127
          ],
          [
           133.3
          ],
          [
           141.7
          ],
          [
           143.1
          ],
          [
           146.3
          ],
          [
           156.6
          ],
          [
           158.4
          ],
          [
           164.7
          ],
          [
           172.8
          ],
          [
           176.8
          ],
          [
           187.8
          ],
          [
           187.7
          ],
          [
           196.7
          ],
          [
           220.6
          ],
          [
           229.4
          ],
          [
           225.8
          ],
          [
           246.4
          ],
          [
           263.5
          ],
          [
           289.6
          ],
          [
           306.5
          ],
          [
           324.1
          ],
          [
           353.4
          ],
          [
           353
          ],
          [
           363.8
          ],
          [
           385.7
          ],
          [
           415.7
          ],
          [
           418.9
          ],
          [
           430.4
          ],
          [
           430.2
          ],
          [
           435.6
          ],
          [
           434.7
          ],
          [
           430
          ],
          [
           449.6
          ],
          [
           462.3
          ],
          [
           440.3
          ],
          [
           446.8
          ],
          [
           444.6
          ],
          [
           452
          ],
          [
           454
          ],
          [
           468
          ],
          [
           494.2
          ],
          [
           514.1
          ],
          [
           528.8
          ],
          [
           511.4
          ],
          [
           531
          ],
          [
           511.4
          ],
          [
           526.4
          ],
          [
           506.4
          ],
          [
           516.7
          ],
          [
           499.8
          ],
          [
           478.9
          ],
          [
           458.8
          ],
          [
           448.5
          ],
          [
           445.7
          ],
          [
           446.8
          ],
          [
           451.8
          ],
          [
           441.6
          ],
          [
           438.9
          ],
          [
           424.2
          ],
          [
           435.6
          ],
          [
           438.9
          ],
          [
           446.5
          ],
          [
           431.9
          ],
          [
           418.6
          ],
          [
           407.3
          ],
          [
           405.1
          ],
          [
           412.4
          ],
          [
           438.6
          ],
          [
           447.5
          ],
          [
           442.8
          ],
          [
           428.3
          ],
          [
           409.8
          ],
          [
           427.6
          ],
          [
           462.3
          ],
          [
           487.5
          ],
          [
           498.8
          ],
          [
           502
          ],
          [
           493.2
          ],
          [
           478.6
          ],
          [
           465.1
          ],
          [
           503.8
          ],
          [
           549.7
          ],
          [
           554.7
          ],
          [
           547
          ],
          [
           535.2
          ],
          [
           512.4
          ],
          [
           507.9
          ],
          [
           515.2
          ],
          [
           529.2
          ],
          [
           529.9
          ],
          [
           520.9
          ],
          [
           494.2
          ],
          [
           470.6
          ],
          [
           462.4
          ],
          [
           463.4
          ],
          [
           486.5
          ],
          [
           484.9
          ],
          [
           479.4
          ],
          [
           470.2
          ],
          [
           470.1
          ],
          [
           434.9
          ],
          [
           409
          ],
          [
           415.2
          ],
          [
           419.9
          ],
          [
           418.5
          ],
          [
           410.1
          ],
          [
           389.1
          ],
          [
           369
          ],
          [
           372.5
          ],
          [
           376.4
          ],
          [
           384
          ],
          [
           403.1
          ],
          [
           387.8
          ],
          [
           352
          ],
          [
           355.4
          ],
          [
           350.3
          ],
          [
           361
          ],
          [
           360
          ],
          [
           349.3
          ],
          [
           331.6
          ],
          [
           331
          ],
          [
           331.3
          ],
          [
           344
          ],
          [
           377.2
          ],
          [
           378.5
          ],
          [
           383.6
          ],
          [
           371.8
          ],
          [
           391.4
          ],
          [
           397.4
          ],
          [
           426.2
          ],
          [
           427
          ],
          [
           431.8
          ],
          [
           414.8
          ],
          [
           400
          ],
          [
           374.3
          ],
          [
           383.5
          ],
          [
           399.8
          ],
          [
           399.7
          ],
          [
           404.3
          ],
          [
           392.9
          ],
          [
           393.1
          ],
          [
           379.8
          ],
          [
           406.8
          ],
          [
           423.4
          ],
          [
           443.9
          ],
          [
           446.1
          ],
          [
           457.1
          ],
          [
           443
          ],
          [
           434.2
          ],
          [
           446.8
          ],
          [
           453.6
          ],
          [
           456.8
          ],
          [
           482.8
          ],
          [
           489.8
          ],
          [
           496.2
          ],
          [
           479
          ],
          [
           481.2
          ],
          [
           502.1
          ],
          [
           519.1
          ],
          [
           519.9
          ],
          [
           525.9
          ],
          [
           526.4
          ],
          [
           486.3
          ],
          [
           465.9
          ],
          [
           465.1
          ],
          [
           469.1
          ],
          [
           454.8
          ],
          [
           435.4
          ],
          [
           414.3
          ],
          [
           386.4
          ],
          [
           369
          ],
          [
           369.2
          ],
          [
           371.6
          ],
          [
           375.5
          ],
          [
           360.1
          ],
          [
           341.6
          ],
          [
           319.4
          ],
          [
           307.1
          ],
          [
           307.1
          ],
          [
           313.1
          ],
          [
           303.2
          ],
          [
           294.2
          ],
          [
           272.7
          ],
          [
           233
          ],
          [
           214.9
          ],
          [
           211.1
          ],
          [
           216.6
          ],
          [
           207.5
          ],
          [
           188.5
          ],
          [
           165.6
          ],
          [
           150.7
          ],
          [
           132.3
          ],
          [
           246.8
          ],
          [
           286.7
          ],
          [
           275.7
          ],
          [
           265.9
          ],
          [
           248.8
          ],
          [
           236.4
          ],
          [
           228.8
          ],
          [
           229.6
          ],
          [
           225.5
          ],
          [
           223
          ],
          [
           102.5
          ],
          [
           67
          ],
          [
           63.3
          ],
          [
           57.8
          ],
          [
           55.8
          ],
          [
           54.6
          ],
          [
           55.7
          ],
          [
           49.9
          ],
          [
           48
          ],
          [
           44.1
          ],
          [
           39.8
          ],
          [
           39
          ],
          [
           38
          ],
          [
           37.5
          ],
          [
           35.3
          ],
          [
           33.9
          ],
          [
           29
          ],
          [
           27.7
          ],
          [
           26.5
          ],
          [
           24.7
          ],
          [
           21.4
          ],
          [
           22.7
          ],
          [
           21.4
          ],
          [
           20.3
          ],
          [
           20.2
          ],
          [
           21.2
          ],
          [
           22.1
          ],
          [
           23.8
          ],
          [
           22.1
          ],
          [
           25.2
          ],
          [
           25.9
          ],
          [
           24.1
          ],
          [
           24.3
          ],
          [
           24.4
          ],
          [
           25.3
          ],
          [
           24.5
          ],
          [
           23.5
          ],
          [
           21.2
          ],
          [
           24.3
          ],
          [
           23.8
          ],
          [
           26.1
          ],
          [
           25
          ],
          [
           25.1
          ],
          [
           25.5
          ],
          [
           24.1
          ],
          [
           26.1
          ],
          [
           28.5
          ],
          [
           30.8
          ],
          [
           30.5
          ],
          [
           28.9
          ],
          [
           25.1
          ],
          [
           23.5
          ],
          [
           22.3
          ],
          [
           22.1
          ],
          [
           23.8
          ],
          [
           22.6
          ],
          [
           20.7
          ],
          [
           20.7
          ],
          [
           19.3
          ],
          [
           21
          ],
          [
           25.2
          ],
          [
           28.9
          ],
          [
           32.6
          ],
          [
           35.6
          ],
          [
           35.8
          ],
          [
           36.6
          ],
          [
           39.2
          ],
          [
           41.2
          ],
          [
           48.6
          ],
          [
           54.5
          ],
          [
           58.4
          ],
          [
           60.3
          ],
          [
           62.5
          ],
          [
           65.3
          ],
          [
           72.2
          ],
          [
           81.4
          ],
          [
           87.8
          ],
          [
           94.1
          ],
          [
           95.7
          ],
          [
           94.2
          ],
          [
           98.4
          ],
          [
           102.2
          ],
          [
           107.4
          ],
          [
           113.1
          ],
          [
           114.1
          ],
          [
           111
          ],
          [
           106
          ],
          [
           113.5
          ],
          [
           118.6
          ],
          [
           129.6
          ],
          [
           130.8
          ],
          [
           142.5
          ],
          [
           130.9
          ]
         ],
         "hovertemplate": "date: %{x}<br>confirmed cases: %{y}<br>average increase/decrease: %{customdata[0]}",
         "legendgroup": "",
         "marker": {
          "color": [
           0,
           0,
           0,
           0,
           0,
           0,
           0,
           0,
           0,
           1263.9,
           408.3,
           399.4,
           390.2,
           395.7,
           393.7,
           389,
           355.6,
           324.1,
           308.8,
           280.7,
           259.9,
           247.6,
           229.1,
           213.9,
           192.6,
           173.1,
           156.4,
           151.6,
           147,
           137,
           133.1,
           121.3,
           113.3,
           98.3,
           81.4,
           75.2,
           74.3,
           76.7,
           76.6,
           73.7,
           61.2,
           57.6,
           58.8,
           54.3,
           74.8,
           72.8,
           74.1,
           68.9,
           73,
           73.1,
           72,
           71.3,
           66.9,
           69.2,
           60,
           53.6,
           52.8,
           49.7,
           37.6,
           34.1,
           38.9,
           42.7,
           44.7,
           43.4,
           45.2,
           43.4,
           40.8,
           43.3,
           44.1,
           43.4,
           41.8,
           35.1,
           31.2,
           31.8,
           29.7,
           31.3,
           35.8,
           40.2,
           38.8,
           44.2,
           44.5,
           46.7,
           47.7,
           48.1,
           50.2,
           50,
           48.9,
           42,
           43.2,
           41.2,
           43,
           43.8,
           43.8,
           42.8,
           39.2,
           38.1,
           34.4,
           34,
           33.7,
           29.3,
           25.4,
           25.4,
           25.5,
           28.3,
           29.7,
           30.8,
           31.4,
           32.7,
           36.3,
           41.3,
           46.6,
           42.9,
           47.3,
           44.3,
           43,
           43.6,
           46.4,
           45.5,
           43.1,
           39.5,
           40,
           42,
           39,
           40.9,
           42,
           42.8,
           48.8,
           52.1,
           56.3,
           62.1,
           58.9,
           55.1,
           47.2,
           45,
           44.6,
           41.2,
           32.6,
           31.1,
           27.9,
           21.4,
           20.8,
           24.9,
           32.6,
           35.2,
           38.7,
           40.7,
           40.9,
           39.2,
           35.1,
           36.2,
           37.1,
           35.8,
           35.1,
           32.8,
           29.5,
           28.1,
           28.3,
           28.3,
           28.9,
           29,
           32.1,
           32,
           31.6,
           31.6,
           31.7,
           36.3,
           35.6,
           36.1,
           38,
           38.2,
           36.7,
           37.7,
           39,
           41.3,
           44.7,
           44.3,
           47.6,
           48.2,
           49.8,
           52.5,
           53.8,
           58.6,
           62.6,
           66,
           65.8,
           66.1,
           70.8,
           74.8,
           83.2,
           86.1,
           89,
           91.5,
           96.9,
           102,
           109.2,
           116.1,
           115.9,
           125.9,
           127,
           133.3,
           141.7,
           143.1,
           146.3,
           156.6,
           158.4,
           164.7,
           172.8,
           176.8,
           187.8,
           187.7,
           196.7,
           220.6,
           229.4,
           225.8,
           246.4,
           263.5,
           289.6,
           306.5,
           324.1,
           353.4,
           353,
           363.8,
           385.7,
           415.7,
           418.9,
           430.4,
           430.2,
           435.6,
           434.7,
           430,
           449.6,
           462.3,
           440.3,
           446.8,
           444.6,
           452,
           454,
           468,
           494.2,
           514.1,
           528.8,
           511.4,
           531,
           511.4,
           526.4,
           506.4,
           516.7,
           499.8,
           478.9,
           458.8,
           448.5,
           445.7,
           446.8,
           451.8,
           441.6,
           438.9,
           424.2,
           435.6,
           438.9,
           446.5,
           431.9,
           418.6,
           407.3,
           405.1,
           412.4,
           438.6,
           447.5,
           442.8,
           428.3,
           409.8,
           427.6,
           462.3,
           487.5,
           498.8,
           502,
           493.2,
           478.6,
           465.1,
           503.8,
           549.7,
           554.7,
           547,
           535.2,
           512.4,
           507.9,
           515.2,
           529.2,
           529.9,
           520.9,
           494.2,
           470.6,
           462.4,
           463.4,
           486.5,
           484.9,
           479.4,
           470.2,
           470.1,
           434.9,
           409,
           415.2,
           419.9,
           418.5,
           410.1,
           389.1,
           369,
           372.5,
           376.4,
           384,
           403.1,
           387.8,
           352,
           355.4,
           350.3,
           361,
           360,
           349.3,
           331.6,
           331,
           331.3,
           344,
           377.2,
           378.5,
           383.6,
           371.8,
           391.4,
           397.4,
           426.2,
           427,
           431.8,
           414.8,
           400,
           374.3,
           383.5,
           399.8,
           399.7,
           404.3,
           392.9,
           393.1,
           379.8,
           406.8,
           423.4,
           443.9,
           446.1,
           457.1,
           443,
           434.2,
           446.8,
           453.6,
           456.8,
           482.8,
           489.8,
           496.2,
           479,
           481.2,
           502.1,
           519.1,
           519.9,
           525.9,
           526.4,
           486.3,
           465.9,
           465.1,
           469.1,
           454.8,
           435.4,
           414.3,
           386.4,
           369,
           369.2,
           371.6,
           375.5,
           360.1,
           341.6,
           319.4,
           307.1,
           307.1,
           313.1,
           303.2,
           294.2,
           272.7,
           233,
           214.9,
           211.1,
           216.6,
           207.5,
           188.5,
           165.6,
           150.7,
           132.3,
           246.8,
           286.7,
           275.7,
           265.9,
           248.8,
           236.4,
           228.8,
           229.6,
           225.5,
           223,
           102.5,
           67,
           63.3,
           57.8,
           55.8,
           54.6,
           55.7,
           49.9,
           48,
           44.1,
           39.8,
           39,
           38,
           37.5,
           35.3,
           33.9,
           29,
           27.7,
           26.5,
           24.7,
           21.4,
           22.7,
           21.4,
           20.3,
           20.2,
           21.2,
           22.1,
           23.8,
           22.1,
           25.2,
           25.9,
           24.1,
           24.3,
           24.4,
           25.3,
           24.5,
           23.5,
           21.2,
           24.3,
           23.8,
           26.1,
           25,
           25.1,
           25.5,
           24.1,
           26.1,
           28.5,
           30.8,
           30.5,
           28.9,
           25.1,
           23.5,
           22.3,
           22.1,
           23.8,
           22.6,
           20.7,
           20.7,
           19.3,
           21,
           25.2,
           28.9,
           32.6,
           35.6,
           35.8,
           36.6,
           39.2,
           41.2,
           48.6,
           54.5,
           58.4,
           60.3,
           62.5,
           65.3,
           72.2,
           81.4,
           87.8,
           94.1,
           95.7,
           94.2,
           98.4,
           102.2,
           107.4,
           113.1,
           114.1,
           111,
           106,
           113.5,
           118.6,
           129.6,
           130.8,
           142.5,
           130.9
          ],
          "coloraxis": "coloraxis",
          "symbol": "circle"
         },
         "mode": "markers",
         "name": "",
         "orientation": "v",
         "showlegend": false,
         "type": "scatter",
         "x": [
          "2020-04-10T00:00:00",
          "2020-04-11T00:00:00",
          "2020-04-12T00:00:00",
          "2020-04-13T00:00:00",
          "2020-04-14T00:00:00",
          "2020-04-15T00:00:00",
          "2020-04-16T00:00:00",
          "2020-04-17T00:00:00",
          "2020-04-18T00:00:00",
          "2020-04-19T00:00:00",
          "2020-04-20T00:00:00",
          "2020-04-21T00:00:00",
          "2020-04-22T00:00:00",
          "2020-04-23T00:00:00",
          "2020-04-24T00:00:00",
          "2020-04-25T00:00:00",
          "2020-04-26T00:00:00",
          "2020-04-27T00:00:00",
          "2020-04-28T00:00:00",
          "2020-04-29T00:00:00",
          "2020-04-30T00:00:00",
          "2020-05-01T00:00:00",
          "2020-05-02T00:00:00",
          "2020-05-03T00:00:00",
          "2020-05-04T00:00:00",
          "2020-05-05T00:00:00",
          "2020-05-06T00:00:00",
          "2020-05-07T00:00:00",
          "2020-05-08T00:00:00",
          "2020-05-09T00:00:00",
          "2020-05-10T00:00:00",
          "2020-05-11T00:00:00",
          "2020-05-12T00:00:00",
          "2020-05-13T00:00:00",
          "2020-05-14T00:00:00",
          "2020-05-15T00:00:00",
          "2020-05-16T00:00:00",
          "2020-05-17T00:00:00",
          "2020-05-18T00:00:00",
          "2020-05-19T00:00:00",
          "2020-05-20T00:00:00",
          "2020-05-21T00:00:00",
          "2020-05-22T00:00:00",
          "2020-05-23T00:00:00",
          "2020-05-24T00:00:00",
          "2020-05-25T00:00:00",
          "2020-05-26T00:00:00",
          "2020-05-27T00:00:00",
          "2020-05-28T00:00:00",
          "2020-05-29T00:00:00",
          "2020-05-30T00:00:00",
          "2020-05-31T00:00:00",
          "2020-06-01T00:00:00",
          "2020-06-02T00:00:00",
          "2020-06-03T00:00:00",
          "2020-06-04T00:00:00",
          "2020-06-05T00:00:00",
          "2020-06-06T00:00:00",
          "2020-06-07T00:00:00",
          "2020-06-08T00:00:00",
          "2020-06-09T00:00:00",
          "2020-06-10T00:00:00",
          "2020-06-11T00:00:00",
          "2020-06-12T00:00:00",
          "2020-06-13T00:00:00",
          "2020-06-14T00:00:00",
          "2020-06-15T00:00:00",
          "2020-06-16T00:00:00",
          "2020-06-17T00:00:00",
          "2020-06-18T00:00:00",
          "2020-06-19T00:00:00",
          "2020-06-20T00:00:00",
          "2020-06-21T00:00:00",
          "2020-06-22T00:00:00",
          "2020-06-23T00:00:00",
          "2020-06-24T00:00:00",
          "2020-06-25T00:00:00",
          "2020-06-26T00:00:00",
          "2020-06-27T00:00:00",
          "2020-06-28T00:00:00",
          "2020-06-29T00:00:00",
          "2020-06-30T00:00:00",
          "2020-07-01T00:00:00",
          "2020-07-02T00:00:00",
          "2020-07-03T00:00:00",
          "2020-07-04T00:00:00",
          "2020-07-05T00:00:00",
          "2020-07-06T00:00:00",
          "2020-07-07T00:00:00",
          "2020-07-08T00:00:00",
          "2020-07-09T00:00:00",
          "2020-07-10T00:00:00",
          "2020-07-11T00:00:00",
          "2020-07-12T00:00:00",
          "2020-07-13T00:00:00",
          "2020-07-14T00:00:00",
          "2020-07-15T00:00:00",
          "2020-07-16T00:00:00",
          "2020-07-17T00:00:00",
          "2020-07-18T00:00:00",
          "2020-07-19T00:00:00",
          "2020-07-20T00:00:00",
          "2020-07-21T00:00:00",
          "2020-07-22T00:00:00",
          "2020-07-23T00:00:00",
          "2020-07-24T00:00:00",
          "2020-07-25T00:00:00",
          "2020-07-26T00:00:00",
          "2020-07-27T00:00:00",
          "2020-07-28T00:00:00",
          "2020-07-29T00:00:00",
          "2020-07-30T00:00:00",
          "2020-07-31T00:00:00",
          "2020-08-01T00:00:00",
          "2020-08-02T00:00:00",
          "2020-08-03T00:00:00",
          "2020-08-04T00:00:00",
          "2020-08-05T00:00:00",
          "2020-08-06T00:00:00",
          "2020-08-07T00:00:00",
          "2020-08-08T00:00:00",
          "2020-08-09T00:00:00",
          "2020-08-10T00:00:00",
          "2020-08-11T00:00:00",
          "2020-08-12T00:00:00",
          "2020-08-13T00:00:00",
          "2020-08-14T00:00:00",
          "2020-08-15T00:00:00",
          "2020-08-16T00:00:00",
          "2020-08-17T00:00:00",
          "2020-08-18T00:00:00",
          "2020-08-19T00:00:00",
          "2020-08-20T00:00:00",
          "2020-08-21T00:00:00",
          "2020-08-22T00:00:00",
          "2020-08-23T00:00:00",
          "2020-08-24T00:00:00",
          "2020-08-25T00:00:00",
          "2020-08-26T00:00:00",
          "2020-08-27T00:00:00",
          "2020-08-28T00:00:00",
          "2020-08-29T00:00:00",
          "2020-08-30T00:00:00",
          "2020-08-31T00:00:00",
          "2020-09-01T00:00:00",
          "2020-09-02T00:00:00",
          "2020-09-03T00:00:00",
          "2020-09-04T00:00:00",
          "2020-09-05T00:00:00",
          "2020-09-06T00:00:00",
          "2020-09-07T00:00:00",
          "2020-09-08T00:00:00",
          "2020-09-09T00:00:00",
          "2020-09-10T00:00:00",
          "2020-09-11T00:00:00",
          "2020-09-12T00:00:00",
          "2020-09-13T00:00:00",
          "2020-09-14T00:00:00",
          "2020-09-15T00:00:00",
          "2020-09-16T00:00:00",
          "2020-09-17T00:00:00",
          "2020-09-18T00:00:00",
          "2020-09-19T00:00:00",
          "2020-09-20T00:00:00",
          "2020-09-21T00:00:00",
          "2020-09-22T00:00:00",
          "2020-09-23T00:00:00",
          "2020-09-24T00:00:00",
          "2020-09-25T00:00:00",
          "2020-09-26T00:00:00",
          "2020-09-27T00:00:00",
          "2020-09-28T00:00:00",
          "2020-09-29T00:00:00",
          "2020-09-30T00:00:00",
          "2020-10-01T00:00:00",
          "2020-10-02T00:00:00",
          "2020-10-03T00:00:00",
          "2020-10-04T00:00:00",
          "2020-10-05T00:00:00",
          "2020-10-06T00:00:00",
          "2020-10-07T00:00:00",
          "2020-10-08T00:00:00",
          "2020-10-09T00:00:00",
          "2020-10-10T00:00:00",
          "2020-10-11T00:00:00",
          "2020-10-12T00:00:00",
          "2020-10-13T00:00:00",
          "2020-10-14T00:00:00",
          "2020-10-15T00:00:00",
          "2020-10-16T00:00:00",
          "2020-10-17T00:00:00",
          "2020-10-18T00:00:00",
          "2020-10-19T00:00:00",
          "2020-10-20T00:00:00",
          "2020-10-21T00:00:00",
          "2020-10-22T00:00:00",
          "2020-10-23T00:00:00",
          "2020-10-24T00:00:00",
          "2020-10-25T00:00:00",
          "2020-10-26T00:00:00",
          "2020-10-27T00:00:00",
          "2020-10-28T00:00:00",
          "2020-10-29T00:00:00",
          "2020-10-30T00:00:00",
          "2020-10-31T00:00:00",
          "2020-11-01T00:00:00",
          "2020-11-02T00:00:00",
          "2020-11-03T00:00:00",
          "2020-11-04T00:00:00",
          "2020-11-05T00:00:00",
          "2020-11-06T00:00:00",
          "2020-11-07T00:00:00",
          "2020-11-08T00:00:00",
          "2020-11-09T00:00:00",
          "2020-11-10T00:00:00",
          "2020-11-11T00:00:00",
          "2020-11-12T00:00:00",
          "2020-11-13T00:00:00",
          "2020-11-14T00:00:00",
          "2020-11-15T00:00:00",
          "2020-11-16T00:00:00",
          "2020-11-17T00:00:00",
          "2020-11-18T00:00:00",
          "2020-11-19T00:00:00",
          "2020-11-20T00:00:00",
          "2020-11-21T00:00:00",
          "2020-11-22T00:00:00",
          "2020-11-23T00:00:00",
          "2020-11-24T00:00:00",
          "2020-11-25T00:00:00",
          "2020-11-26T00:00:00",
          "2020-11-27T00:00:00",
          "2020-11-28T00:00:00",
          "2020-11-29T00:00:00",
          "2020-11-30T00:00:00",
          "2020-12-01T00:00:00",
          "2020-12-02T00:00:00",
          "2020-12-03T00:00:00",
          "2020-12-04T00:00:00",
          "2020-12-05T00:00:00",
          "2020-12-06T00:00:00",
          "2020-12-07T00:00:00",
          "2020-12-08T00:00:00",
          "2020-12-09T00:00:00",
          "2020-12-10T00:00:00",
          "2020-12-11T00:00:00",
          "2020-12-12T00:00:00",
          "2020-12-13T00:00:00",
          "2020-12-14T00:00:00",
          "2020-12-15T00:00:00",
          "2020-12-16T00:00:00",
          "2020-12-17T00:00:00",
          "2020-12-18T00:00:00",
          "2020-12-19T00:00:00",
          "2020-12-20T00:00:00",
          "2020-12-21T00:00:00",
          "2020-12-22T00:00:00",
          "2020-12-23T00:00:00",
          "2020-12-24T00:00:00",
          "2020-12-25T00:00:00",
          "2020-12-26T00:00:00",
          "2020-12-27T00:00:00",
          "2020-12-28T00:00:00",
          "2020-12-29T00:00:00",
          "2020-12-30T00:00:00",
          "2020-12-31T00:00:00",
          "2021-01-01T00:00:00",
          "2021-01-02T00:00:00",
          "2021-01-03T00:00:00",
          "2021-01-04T00:00:00",
          "2021-01-05T00:00:00",
          "2021-01-06T00:00:00",
          "2021-01-07T00:00:00",
          "2021-01-08T00:00:00",
          "2021-01-09T00:00:00",
          "2021-01-10T00:00:00",
          "2021-01-11T00:00:00",
          "2021-01-12T00:00:00",
          "2021-01-13T00:00:00",
          "2021-01-14T00:00:00",
          "2021-01-15T00:00:00",
          "2021-01-16T00:00:00",
          "2021-01-17T00:00:00",
          "2021-01-18T00:00:00",
          "2021-01-19T00:00:00",
          "2021-01-20T00:00:00",
          "2021-01-21T00:00:00",
          "2021-01-22T00:00:00",
          "2021-01-23T00:00:00",
          "2021-01-24T00:00:00",
          "2021-01-25T00:00:00",
          "2021-01-26T00:00:00",
          "2021-01-27T00:00:00",
          "2021-01-28T00:00:00",
          "2021-01-29T00:00:00",
          "2021-01-30T00:00:00",
          "2021-01-31T00:00:00",
          "2021-02-01T00:00:00",
          "2021-02-02T00:00:00",
          "2021-02-03T00:00:00",
          "2021-02-04T00:00:00",
          "2021-02-05T00:00:00",
          "2021-02-06T00:00:00",
          "2021-02-07T00:00:00",
          "2021-02-08T00:00:00",
          "2021-02-09T00:00:00",
          "2021-02-10T00:00:00",
          "2021-02-11T00:00:00",
          "2021-02-12T00:00:00",
          "2021-02-13T00:00:00",
          "2021-02-14T00:00:00",
          "2021-02-15T00:00:00",
          "2021-02-16T00:00:00",
          "2021-02-17T00:00:00",
          "2021-02-18T00:00:00",
          "2021-02-19T00:00:00",
          "2021-02-20T00:00:00",
          "2021-02-21T00:00:00",
          "2021-02-22T00:00:00",
          "2021-02-23T00:00:00",
          "2021-02-24T00:00:00",
          "2021-02-25T00:00:00",
          "2021-02-26T00:00:00",
          "2021-02-27T00:00:00",
          "2021-02-28T00:00:00",
          "2021-03-01T00:00:00",
          "2021-03-02T00:00:00",
          "2021-03-03T00:00:00",
          "2021-03-04T00:00:00",
          "2021-03-05T00:00:00",
          "2021-03-06T00:00:00",
          "2021-03-07T00:00:00",
          "2021-03-08T00:00:00",
          "2021-03-09T00:00:00",
          "2021-03-10T00:00:00",
          "2021-03-11T00:00:00",
          "2021-03-12T00:00:00",
          "2021-03-13T00:00:00",
          "2021-03-14T00:00:00",
          "2021-03-15T00:00:00",
          "2021-03-16T00:00:00",
          "2021-03-17T00:00:00",
          "2021-03-18T00:00:00",
          "2021-03-19T00:00:00",
          "2021-03-20T00:00:00",
          "2021-03-21T00:00:00",
          "2021-03-22T00:00:00",
          "2021-03-23T00:00:00",
          "2021-03-24T00:00:00",
          "2021-03-25T00:00:00",
          "2021-03-26T00:00:00",
          "2021-03-27T00:00:00",
          "2021-03-28T00:00:00",
          "2021-03-29T00:00:00",
          "2021-03-30T00:00:00",
          "2021-03-31T00:00:00",
          "2021-04-01T00:00:00",
          "2021-04-02T00:00:00",
          "2021-04-03T00:00:00",
          "2021-04-04T00:00:00",
          "2021-04-05T00:00:00",
          "2021-04-06T00:00:00",
          "2021-04-07T00:00:00",
          "2021-04-08T00:00:00",
          "2021-04-09T00:00:00",
          "2021-04-10T00:00:00",
          "2021-04-11T00:00:00",
          "2021-04-12T00:00:00",
          "2021-04-13T00:00:00",
          "2021-04-14T00:00:00",
          "2021-04-15T00:00:00",
          "2021-04-16T00:00:00",
          "2021-04-17T00:00:00",
          "2021-04-18T00:00:00",
          "2021-04-19T00:00:00",
          "2021-04-20T00:00:00",
          "2021-04-21T00:00:00",
          "2021-04-22T00:00:00",
          "2021-04-23T00:00:00",
          "2021-04-24T00:00:00",
          "2021-04-25T00:00:00",
          "2021-04-26T00:00:00",
          "2021-04-27T00:00:00",
          "2021-04-28T00:00:00",
          "2021-04-29T00:00:00",
          "2021-04-30T00:00:00",
          "2021-05-01T00:00:00",
          "2021-05-02T00:00:00",
          "2021-05-03T00:00:00",
          "2021-05-04T00:00:00",
          "2021-05-05T00:00:00",
          "2021-05-06T00:00:00",
          "2021-05-07T00:00:00",
          "2021-05-08T00:00:00",
          "2021-05-09T00:00:00",
          "2021-05-10T00:00:00",
          "2021-05-11T00:00:00",
          "2021-05-12T00:00:00",
          "2021-05-13T00:00:00",
          "2021-05-14T00:00:00",
          "2021-05-15T00:00:00",
          "2021-05-16T00:00:00",
          "2021-05-17T00:00:00",
          "2021-05-18T00:00:00",
          "2021-05-19T00:00:00",
          "2021-05-20T00:00:00",
          "2021-05-21T00:00:00",
          "2021-05-22T00:00:00",
          "2021-05-23T00:00:00",
          "2021-05-24T00:00:00",
          "2021-05-25T00:00:00",
          "2021-05-26T00:00:00",
          "2021-05-27T00:00:00",
          "2021-05-28T00:00:00",
          "2021-05-29T00:00:00",
          "2021-05-30T00:00:00",
          "2021-05-31T00:00:00",
          "2021-06-01T00:00:00",
          "2021-06-02T00:00:00",
          "2021-06-03T00:00:00",
          "2021-06-04T00:00:00",
          "2021-06-05T00:00:00",
          "2021-06-06T00:00:00",
          "2021-06-07T00:00:00",
          "2021-06-08T00:00:00",
          "2021-06-09T00:00:00",
          "2021-06-10T00:00:00",
          "2021-06-11T00:00:00",
          "2021-06-12T00:00:00",
          "2021-06-13T00:00:00",
          "2021-06-14T00:00:00",
          "2021-06-15T00:00:00",
          "2021-06-16T00:00:00",
          "2021-06-17T00:00:00",
          "2021-06-18T00:00:00",
          "2021-06-19T00:00:00",
          "2021-06-20T00:00:00",
          "2021-06-21T00:00:00",
          "2021-06-22T00:00:00",
          "2021-06-23T00:00:00",
          "2021-06-24T00:00:00",
          "2021-06-25T00:00:00",
          "2021-06-26T00:00:00",
          "2021-06-27T00:00:00",
          "2021-06-28T00:00:00",
          "2021-06-29T00:00:00",
          "2021-06-30T00:00:00",
          "2021-07-01T00:00:00",
          "2021-07-02T00:00:00",
          "2021-07-03T00:00:00",
          "2021-07-04T00:00:00",
          "2021-07-05T00:00:00",
          "2021-07-06T00:00:00",
          "2021-07-07T00:00:00",
          "2021-07-08T00:00:00",
          "2021-07-09T00:00:00",
          "2021-07-10T00:00:00",
          "2021-07-11T00:00:00",
          "2021-07-12T00:00:00",
          "2021-07-13T00:00:00",
          "2021-07-14T00:00:00",
          "2021-07-15T00:00:00",
          "2021-07-16T00:00:00",
          "2021-07-17T00:00:00",
          "2021-07-18T00:00:00",
          "2021-07-19T00:00:00",
          "2021-07-20T00:00:00",
          "2021-07-21T00:00:00",
          "2021-07-22T00:00:00",
          "2021-07-23T00:00:00",
          "2021-07-24T00:00:00",
          "2021-07-25T00:00:00",
          "2021-07-26T00:00:00",
          "2021-07-27T00:00:00",
          "2021-07-28T00:00:00",
          "2021-07-29T00:00:00",
          "2021-07-30T00:00:00",
          "2021-07-31T00:00:00",
          "2021-08-01T00:00:00",
          "2021-08-02T00:00:00",
          "2021-08-03T00:00:00",
          "2021-08-04T00:00:00",
          "2021-08-05T00:00:00",
          "2021-08-06T00:00:00",
          "2021-08-07T00:00:00",
          "2021-08-08T00:00:00",
          "2021-08-09T00:00:00",
          "2021-08-10T00:00:00",
          "2021-08-11T00:00:00",
          "2021-08-12T00:00:00",
          "2021-08-13T00:00:00",
          "2021-08-14T00:00:00",
          "2021-08-15T00:00:00"
         ],
         "xaxis": "x",
         "y": [
          8928,
          9362,
          9784,
          10092,
          10426,
          10848,
          11409,
          11863,
          12163,
          12639,
          13011,
          13356,
          13686,
          14049,
          14363,
          14738,
          14965,
          15104,
          15251,
          15446,
          15610,
          15832,
          15977,
          16188,
          16289,
          16469,
          16529,
          16620,
          16721,
          16816,
          16941,
          17045,
          17110,
          17171,
          17103,
          17221,
          17272,
          17387,
          17487,
          17553,
          17553,
          17621,
          17698,
          17714,
          17851,
          17949,
          18013,
          18076,
          18217,
          18284,
          18273,
          18334,
          18367,
          18406,
          18451,
          18485,
          18541,
          18573,
          18593,
          18625,
          18662,
          18761,
          18814,
          18840,
          18903,
          18919,
          18949,
          19006,
          19034,
          19059,
          19080,
          19112,
          19126,
          19158,
          19200,
          19232,
          19307,
          19408,
          19422,
          19501,
          19525,
          19579,
          19603,
          19639,
          19702,
          19732,
          19796,
          19828,
          19854,
          19913,
          19955,
          20017,
          20041,
          20067,
          20094,
          20113,
          20140,
          20168,
          20191,
          20206,
          20209,
          20271,
          20296,
          20350,
          20391,
          20421,
          20454,
          20495,
          20554,
          20619,
          20675,
          20700,
          20769,
          20793,
          20821,
          20857,
          20918,
          20950,
          20985,
          21014,
          21075,
          21120,
          21159,
          21202,
          21241,
          21285,
          21406,
          21471,
          21548,
          21635,
          21664,
          21671,
          21631,
          21652,
          21687,
          21697,
          21732,
          21782,
          21827,
          21849,
          21872,
          21920,
          21957,
          22004,
          22074,
          22104,
          22141,
          22174,
          22178,
          22211,
          22243,
          22278,
          22308,
          22332,
          22369,
          22385,
          22424,
          22457,
          22467,
          22501,
          22564,
          22598,
          22624,
          22648,
          22686,
          22748,
          22780,
          22818,
          22847,
          22883,
          22931,
          22975,
          23014,
          23061,
          23133,
          23191,
          23256,
          23300,
          23345,
          23408,
          23469,
          23561,
          23640,
          23721,
          23791,
          23852,
          23964,
          24048,
          24177,
          24269,
          24359,
          24476,
          24609,
          24741,
          24883,
          25013,
          25123,
          25307,
          25447,
          25602,
          25776,
          25907,
          26072,
          26307,
          26467,
          26660,
          26851,
          27075,
          27325,
          27479,
          27743,
          28113,
          28366,
          28565,
          28931,
          29295,
          29747,
          30140,
          30566,
          31013,
          31273,
          31751,
          32223,
          32722,
          33120,
          33599,
          34049,
          34496,
          34913,
          35313,
          35769,
          36374,
          36626,
          37190,
          37566,
          38119,
          38589,
          39176,
          39855,
          40454,
          41057,
          41488,
          41936,
          42304,
          42830,
          43183,
          43756,
          44174,
          44644,
          45042,
          45542,
          45945,
          46404,
          46822,
          47246,
          47572,
          47998,
          48530,
          49033,
          49507,
          49861,
          50131,
          50477,
          50873,
          51370,
          51958,
          52473,
          52958,
          53316,
          53605,
          54137,
          54754,
          55352,
          55861,
          56390,
          56890,
          57259,
          57609,
          58354,
          59102,
          59684,
          60224,
          60704,
          60985,
          61469,
          62042,
          62551,
          62908,
          63563,
          64044,
          64390,
          64848,
          65338,
          65850,
          66318,
          66836,
          67253,
          67609,
          67912,
          68134,
          68542,
          69047,
          69523,
          69951,
          70209,
          70526,
          70978,
          71373,
          71752,
          72165,
          72420,
          72567,
          73077,
          73454,
          73819,
          74126,
          74471,
          74689,
          75062,
          75478,
          75860,
          76339,
          76862,
          77290,
          77537,
          78040,
          78445,
          78951,
          79332,
          79796,
          80008,
          80339,
          80605,
          81125,
          81535,
          82037,
          82488,
          82880,
          83263,
          83594,
          84076,
          84573,
          85044,
          85586,
          86106,
          86467,
          86830,
          87348,
          87799,
          88162,
          88904,
          89471,
          90006,
          90376,
          90918,
          91488,
          92021,
          92547,
          93058,
          93426,
          93767,
          94130,
          94657,
          95067,
          95466,
          95842,
          96164,
          96411,
          96748,
          97118,
          97483,
          97885,
          98258,
          98483,
          98660,
          98913,
          99235,
          99542,
          99780,
          100060,
          100210,
          100215,
          100407,
          100594,
          100826,
          100988,
          101120,
          101198,
          101287,
          101383,
          102678,
          103082,
          103164,
          103253,
          103314,
          103352,
          103408,
          103494,
          103542,
          103613,
          103703,
          103752,
          103797,
          103831,
          103872,
          103898,
          103965,
          103993,
          104022,
          104054,
          104101,
          104142,
          104177,
          104206,
          104225,
          104237,
          104255,
          104270,
          104287,
          104301,
          104315,
          104369,
          104391,
          104409,
          104427,
          104449,
          104476,
          104508,
          104508,
          104553,
          104574,
          104610,
          104634,
          104653,
          104680,
          104694,
          104711,
          104720,
          104751,
          104791,
          104835,
          104860,
          104885,
          104908,
          104921,
          104955,
          104996,
          105028,
          105056,
          105080,
          105086,
          105095,
          105108,
          105129,
          105159,
          105181,
          105203,
          105235,
          105249,
          105290,
          105338,
          105384,
          105434,
          105485,
          105517,
          105547,
          105595,
          105647,
          105735,
          105835,
          105922,
          105987,
          106059,
          106138,
          106239,
          106361,
          106473,
          106588,
          106692,
          106777,
          106906,
          107009,
          107133,
          107269,
          107380,
          107471,
          107533,
          107723,
          107878,
          108073,
          108214,
          108434,
          108442
         ],
         "yaxis": "y"
        }
       ],
       "layout": {
        "coloraxis": {
         "colorbar": {
          "title": {
           "text": "rate"
          }
         },
         "colorscale": [
          [
           0,
           "#0d0887"
          ],
          [
           0.1111111111111111,
           "#46039f"
          ],
          [
           0.2222222222222222,
           "#7201a8"
          ],
          [
           0.3333333333333333,
           "#9c179e"
          ],
          [
           0.4444444444444444,
           "#bd3786"
          ],
          [
           0.5555555555555556,
           "#d8576b"
          ],
          [
           0.6666666666666666,
           "#ed7953"
          ],
          [
           0.7777777777777778,
           "#fb9f3a"
          ],
          [
           0.8888888888888888,
           "#fdca26"
          ],
          [
           1,
           "#f0f921"
          ]
         ]
        },
        "legend": {
         "tracegroupgap": 0
        },
        "template": {
         "data": {
          "bar": [
           {
            "error_x": {
             "color": "#2a3f5f"
            },
            "error_y": {
             "color": "#2a3f5f"
            },
            "marker": {
             "line": {
              "color": "#E5ECF6",
              "width": 0.5
             },
             "pattern": {
              "fillmode": "overlay",
              "size": 10,
              "solidity": 0.2
             }
            },
            "type": "bar"
           }
          ],
          "barpolar": [
           {
            "marker": {
             "line": {
              "color": "#E5ECF6",
              "width": 0.5
             },
             "pattern": {
              "fillmode": "overlay",
              "size": 10,
              "solidity": 0.2
             }
            },
            "type": "barpolar"
           }
          ],
          "carpet": [
           {
            "aaxis": {
             "endlinecolor": "#2a3f5f",
             "gridcolor": "white",
             "linecolor": "white",
             "minorgridcolor": "white",
             "startlinecolor": "#2a3f5f"
            },
            "baxis": {
             "endlinecolor": "#2a3f5f",
             "gridcolor": "white",
             "linecolor": "white",
             "minorgridcolor": "white",
             "startlinecolor": "#2a3f5f"
            },
            "type": "carpet"
           }
          ],
          "choropleth": [
           {
            "colorbar": {
             "outlinewidth": 0,
             "ticks": ""
            },
            "type": "choropleth"
           }
          ],
          "contour": [
           {
            "colorbar": {
             "outlinewidth": 0,
             "ticks": ""
            },
            "colorscale": [
             [
              0,
              "#0d0887"
             ],
             [
              0.1111111111111111,
              "#46039f"
             ],
             [
              0.2222222222222222,
              "#7201a8"
             ],
             [
              0.3333333333333333,
              "#9c179e"
             ],
             [
              0.4444444444444444,
              "#bd3786"
             ],
             [
              0.5555555555555556,
              "#d8576b"
             ],
             [
              0.6666666666666666,
              "#ed7953"
             ],
             [
              0.7777777777777778,
              "#fb9f3a"
             ],
             [
              0.8888888888888888,
              "#fdca26"
             ],
             [
              1,
              "#f0f921"
             ]
            ],
            "type": "contour"
           }
          ],
          "contourcarpet": [
           {
            "colorbar": {
             "outlinewidth": 0,
             "ticks": ""
            },
            "type": "contourcarpet"
           }
          ],
          "heatmap": [
           {
            "colorbar": {
             "outlinewidth": 0,
             "ticks": ""
            },
            "colorscale": [
             [
              0,
              "#0d0887"
             ],
             [
              0.1111111111111111,
              "#46039f"
             ],
             [
              0.2222222222222222,
              "#7201a8"
             ],
             [
              0.3333333333333333,
              "#9c179e"
             ],
             [
              0.4444444444444444,
              "#bd3786"
             ],
             [
              0.5555555555555556,
              "#d8576b"
             ],
             [
              0.6666666666666666,
              "#ed7953"
             ],
             [
              0.7777777777777778,
              "#fb9f3a"
             ],
             [
              0.8888888888888888,
              "#fdca26"
             ],
             [
              1,
              "#f0f921"
             ]
            ],
            "type": "heatmap"
           }
          ],
          "heatmapgl": [
           {
            "colorbar": {
             "outlinewidth": 0,
             "ticks": ""
            },
            "colorscale": [
             [
              0,
              "#0d0887"
             ],
             [
              0.1111111111111111,
              "#46039f"
             ],
             [
              0.2222222222222222,
              "#7201a8"
             ],
             [
              0.3333333333333333,
              "#9c179e"
             ],
             [
              0.4444444444444444,
              "#bd3786"
             ],
             [
              0.5555555555555556,
              "#d8576b"
             ],
             [
              0.6666666666666666,
              "#ed7953"
             ],
             [
              0.7777777777777778,
              "#fb9f3a"
             ],
             [
              0.8888888888888888,
              "#fdca26"
             ],
             [
              1,
              "#f0f921"
             ]
            ],
            "type": "heatmapgl"
           }
          ],
          "histogram": [
           {
            "marker": {
             "pattern": {
              "fillmode": "overlay",
              "size": 10,
              "solidity": 0.2
             }
            },
            "type": "histogram"
           }
          ],
          "histogram2d": [
           {
            "colorbar": {
             "outlinewidth": 0,
             "ticks": ""
            },
            "colorscale": [
             [
              0,
              "#0d0887"
             ],
             [
              0.1111111111111111,
              "#46039f"
             ],
             [
              0.2222222222222222,
              "#7201a8"
             ],
             [
              0.3333333333333333,
              "#9c179e"
             ],
             [
              0.4444444444444444,
              "#bd3786"
             ],
             [
              0.5555555555555556,
              "#d8576b"
             ],
             [
              0.6666666666666666,
              "#ed7953"
             ],
             [
              0.7777777777777778,
              "#fb9f3a"
             ],
             [
              0.8888888888888888,
              "#fdca26"
             ],
             [
              1,
              "#f0f921"
             ]
            ],
            "type": "histogram2d"
           }
          ],
          "histogram2dcontour": [
           {
            "colorbar": {
             "outlinewidth": 0,
             "ticks": ""
            },
            "colorscale": [
             [
              0,
              "#0d0887"
             ],
             [
              0.1111111111111111,
              "#46039f"
             ],
             [
              0.2222222222222222,
              "#7201a8"
             ],
             [
              0.3333333333333333,
              "#9c179e"
             ],
             [
              0.4444444444444444,
              "#bd3786"
             ],
             [
              0.5555555555555556,
              "#d8576b"
             ],
             [
              0.6666666666666666,
              "#ed7953"
             ],
             [
              0.7777777777777778,
              "#fb9f3a"
             ],
             [
              0.8888888888888888,
              "#fdca26"
             ],
             [
              1,
              "#f0f921"
             ]
            ],
            "type": "histogram2dcontour"
           }
          ],
          "mesh3d": [
           {
            "colorbar": {
             "outlinewidth": 0,
             "ticks": ""
            },
            "type": "mesh3d"
           }
          ],
          "parcoords": [
           {
            "line": {
             "colorbar": {
              "outlinewidth": 0,
              "ticks": ""
             }
            },
            "type": "parcoords"
           }
          ],
          "pie": [
           {
            "automargin": true,
            "type": "pie"
           }
          ],
          "scatter": [
           {
            "marker": {
             "colorbar": {
              "outlinewidth": 0,
              "ticks": ""
             }
            },
            "type": "scatter"
           }
          ],
          "scatter3d": [
           {
            "line": {
             "colorbar": {
              "outlinewidth": 0,
              "ticks": ""
             }
            },
            "marker": {
             "colorbar": {
              "outlinewidth": 0,
              "ticks": ""
             }
            },
            "type": "scatter3d"
           }
          ],
          "scattercarpet": [
           {
            "marker": {
             "colorbar": {
              "outlinewidth": 0,
              "ticks": ""
             }
            },
            "type": "scattercarpet"
           }
          ],
          "scattergeo": [
           {
            "marker": {
             "colorbar": {
              "outlinewidth": 0,
              "ticks": ""
             }
            },
            "type": "scattergeo"
           }
          ],
          "scattergl": [
           {
            "marker": {
             "colorbar": {
              "outlinewidth": 0,
              "ticks": ""
             }
            },
            "type": "scattergl"
           }
          ],
          "scattermapbox": [
           {
            "marker": {
             "colorbar": {
              "outlinewidth": 0,
              "ticks": ""
             }
            },
            "type": "scattermapbox"
           }
          ],
          "scatterpolar": [
           {
            "marker": {
             "colorbar": {
              "outlinewidth": 0,
              "ticks": ""
             }
            },
            "type": "scatterpolar"
           }
          ],
          "scatterpolargl": [
           {
            "marker": {
             "colorbar": {
              "outlinewidth": 0,
              "ticks": ""
             }
            },
            "type": "scatterpolargl"
           }
          ],
          "scatterternary": [
           {
            "marker": {
             "colorbar": {
              "outlinewidth": 0,
              "ticks": ""
             }
            },
            "type": "scatterternary"
           }
          ],
          "surface": [
           {
            "colorbar": {
             "outlinewidth": 0,
             "ticks": ""
            },
            "colorscale": [
             [
              0,
              "#0d0887"
             ],
             [
              0.1111111111111111,
              "#46039f"
             ],
             [
              0.2222222222222222,
              "#7201a8"
             ],
             [
              0.3333333333333333,
              "#9c179e"
             ],
             [
              0.4444444444444444,
              "#bd3786"
             ],
             [
              0.5555555555555556,
              "#d8576b"
             ],
             [
              0.6666666666666666,
              "#ed7953"
             ],
             [
              0.7777777777777778,
              "#fb9f3a"
             ],
             [
              0.8888888888888888,
              "#fdca26"
             ],
             [
              1,
              "#f0f921"
             ]
            ],
            "type": "surface"
           }
          ],
          "table": [
           {
            "cells": {
             "fill": {
              "color": "#EBF0F8"
             },
             "line": {
              "color": "white"
             }
            },
            "header": {
             "fill": {
              "color": "#C8D4E3"
             },
             "line": {
              "color": "white"
             }
            },
            "type": "table"
           }
          ]
         },
         "layout": {
          "annotationdefaults": {
           "arrowcolor": "#2a3f5f",
           "arrowhead": 0,
           "arrowwidth": 1
          },
          "autotypenumbers": "strict",
          "coloraxis": {
           "colorbar": {
            "outlinewidth": 0,
            "ticks": ""
           }
          },
          "colorscale": {
           "diverging": [
            [
             0,
             "#8e0152"
            ],
            [
             0.1,
             "#c51b7d"
            ],
            [
             0.2,
             "#de77ae"
            ],
            [
             0.3,
             "#f1b6da"
            ],
            [
             0.4,
             "#fde0ef"
            ],
            [
             0.5,
             "#f7f7f7"
            ],
            [
             0.6,
             "#e6f5d0"
            ],
            [
             0.7,
             "#b8e186"
            ],
            [
             0.8,
             "#7fbc41"
            ],
            [
             0.9,
             "#4d9221"
            ],
            [
             1,
             "#276419"
            ]
           ],
           "sequential": [
            [
             0,
             "#0d0887"
            ],
            [
             0.1111111111111111,
             "#46039f"
            ],
            [
             0.2222222222222222,
             "#7201a8"
            ],
            [
             0.3333333333333333,
             "#9c179e"
            ],
            [
             0.4444444444444444,
             "#bd3786"
            ],
            [
             0.5555555555555556,
             "#d8576b"
            ],
            [
             0.6666666666666666,
             "#ed7953"
            ],
            [
             0.7777777777777778,
             "#fb9f3a"
            ],
            [
             0.8888888888888888,
             "#fdca26"
            ],
            [
             1,
             "#f0f921"
            ]
           ],
           "sequentialminus": [
            [
             0,
             "#0d0887"
            ],
            [
             0.1111111111111111,
             "#46039f"
            ],
            [
             0.2222222222222222,
             "#7201a8"
            ],
            [
             0.3333333333333333,
             "#9c179e"
            ],
            [
             0.4444444444444444,
             "#bd3786"
            ],
            [
             0.5555555555555556,
             "#d8576b"
            ],
            [
             0.6666666666666666,
             "#ed7953"
            ],
            [
             0.7777777777777778,
             "#fb9f3a"
            ],
            [
             0.8888888888888888,
             "#fdca26"
            ],
            [
             1,
             "#f0f921"
            ]
           ]
          },
          "colorway": [
           "#636efa",
           "#EF553B",
           "#00cc96",
           "#ab63fa",
           "#FFA15A",
           "#19d3f3",
           "#FF6692",
           "#B6E880",
           "#FF97FF",
           "#FECB52"
          ],
          "font": {
           "color": "#2a3f5f"
          },
          "geo": {
           "bgcolor": "white",
           "lakecolor": "white",
           "landcolor": "#E5ECF6",
           "showlakes": true,
           "showland": true,
           "subunitcolor": "white"
          },
          "hoverlabel": {
           "align": "left"
          },
          "hovermode": "closest",
          "mapbox": {
           "style": "light"
          },
          "paper_bgcolor": "white",
          "plot_bgcolor": "#E5ECF6",
          "polar": {
           "angularaxis": {
            "gridcolor": "white",
            "linecolor": "white",
            "ticks": ""
           },
           "bgcolor": "#E5ECF6",
           "radialaxis": {
            "gridcolor": "white",
            "linecolor": "white",
            "ticks": ""
           }
          },
          "scene": {
           "xaxis": {
            "backgroundcolor": "#E5ECF6",
            "gridcolor": "white",
            "gridwidth": 2,
            "linecolor": "white",
            "showbackground": true,
            "ticks": "",
            "zerolinecolor": "white"
           },
           "yaxis": {
            "backgroundcolor": "#E5ECF6",
            "gridcolor": "white",
            "gridwidth": 2,
            "linecolor": "white",
            "showbackground": true,
            "ticks": "",
            "zerolinecolor": "white"
           },
           "zaxis": {
            "backgroundcolor": "#E5ECF6",
            "gridcolor": "white",
            "gridwidth": 2,
            "linecolor": "white",
            "showbackground": true,
            "ticks": "",
            "zerolinecolor": "white"
           }
          },
          "shapedefaults": {
           "line": {
            "color": "#2a3f5f"
           }
          },
          "ternary": {
           "aaxis": {
            "gridcolor": "white",
            "linecolor": "white",
            "ticks": ""
           },
           "baxis": {
            "gridcolor": "white",
            "linecolor": "white",
            "ticks": ""
           },
           "bgcolor": "#E5ECF6",
           "caxis": {
            "gridcolor": "white",
            "linecolor": "white",
            "ticks": ""
           }
          },
          "title": {
           "x": 0.05
          },
          "xaxis": {
           "automargin": true,
           "gridcolor": "white",
           "linecolor": "white",
           "ticks": "",
           "title": {
            "standoff": 15
           },
           "zerolinecolor": "white",
           "zerolinewidth": 2
          },
          "yaxis": {
           "automargin": true,
           "gridcolor": "white",
           "linecolor": "white",
           "ticks": "",
           "title": {
            "standoff": 15
           },
           "zerolinecolor": "white",
           "zerolinewidth": 2
          }
         }
        },
        "title": {
         "text": "Date vs. Confirmed Cases"
        },
        "xaxis": {
         "anchor": "y",
         "domain": [
          0,
          1
         ],
         "title": {
          "text": "date"
         }
        },
        "yaxis": {
         "anchor": "x",
         "domain": [
          0,
          1
         ],
         "title": {
          "text": "confirmed_cases"
         }
        }
       }
      },
      "text/html": [
       "<div>                            <div id=\"c0115d8c-cd7d-40c4-b5f5-f0b91dd6d82e\" class=\"plotly-graph-div\" style=\"height:525px; width:100%;\"></div>            <script type=\"text/javascript\">                require([\"plotly\"], function(Plotly) {                    window.PLOTLYENV=window.PLOTLYENV || {};                                    if (document.getElementById(\"c0115d8c-cd7d-40c4-b5f5-f0b91dd6d82e\")) {                    Plotly.newPlot(                        \"c0115d8c-cd7d-40c4-b5f5-f0b91dd6d82e\",                        [{\"customdata\":[[0.0],[0.0],[0.0],[0.0],[0.0],[0.0],[0.0],[0.0],[0.0],[1263.9],[408.3],[399.4],[390.2],[395.7],[393.7],[389.0],[355.6],[324.1],[308.8],[280.7],[259.9],[247.6],[229.1],[213.9],[192.6],[173.1],[156.4],[151.6],[147.0],[137.0],[133.1],[121.3],[113.3],[98.3],[81.4],[75.2],[74.3],[76.7],[76.6],[73.7],[61.2],[57.6],[58.8],[54.3],[74.8],[72.8],[74.1],[68.9],[73.0],[73.1],[72.0],[71.3],[66.9],[69.2],[60.0],[53.6],[52.8],[49.7],[37.6],[34.1],[38.9],[42.7],[44.7],[43.4],[45.2],[43.4],[40.8],[43.3],[44.1],[43.4],[41.8],[35.1],[31.2],[31.8],[29.7],[31.3],[35.8],[40.2],[38.8],[44.2],[44.5],[46.7],[47.7],[48.1],[50.2],[50.0],[48.9],[42.0],[43.2],[41.2],[43.0],[43.8],[43.8],[42.8],[39.2],[38.1],[34.4],[34.0],[33.7],[29.3],[25.4],[25.4],[25.5],[28.3],[29.7],[30.8],[31.4],[32.7],[36.3],[41.3],[46.6],[42.9],[47.3],[44.3],[43.0],[43.6],[46.4],[45.5],[43.1],[39.5],[40.0],[42.0],[39.0],[40.9],[42.0],[42.8],[48.8],[52.1],[56.3],[62.1],[58.9],[55.1],[47.2],[45.0],[44.6],[41.2],[32.6],[31.1],[27.9],[21.4],[20.8],[24.9],[32.6],[35.2],[38.7],[40.7],[40.9],[39.2],[35.1],[36.2],[37.1],[35.8],[35.1],[32.8],[29.5],[28.1],[28.3],[28.3],[28.9],[29.0],[32.1],[32.0],[31.6],[31.6],[31.7],[36.3],[35.6],[36.1],[38.0],[38.2],[36.7],[37.7],[39.0],[41.3],[44.7],[44.3],[47.6],[48.2],[49.8],[52.5],[53.8],[58.6],[62.6],[66.0],[65.8],[66.1],[70.8],[74.8],[83.2],[86.1],[89.0],[91.5],[96.9],[102.0],[109.2],[116.1],[115.9],[125.9],[127.0],[133.3],[141.7],[143.1],[146.3],[156.6],[158.4],[164.7],[172.8],[176.8],[187.8],[187.7],[196.7],[220.6],[229.4],[225.8],[246.4],[263.5],[289.6],[306.5],[324.1],[353.4],[353.0],[363.8],[385.7],[415.7],[418.9],[430.4],[430.2],[435.6],[434.7],[430.0],[449.6],[462.3],[440.3],[446.8],[444.6],[452.0],[454.0],[468.0],[494.2],[514.1],[528.8],[511.4],[531.0],[511.4],[526.4],[506.4],[516.7],[499.8],[478.9],[458.8],[448.5],[445.7],[446.8],[451.8],[441.6],[438.9],[424.2],[435.6],[438.9],[446.5],[431.9],[418.6],[407.3],[405.1],[412.4],[438.6],[447.5],[442.8],[428.3],[409.8],[427.6],[462.3],[487.5],[498.8],[502.0],[493.2],[478.6],[465.1],[503.8],[549.7],[554.7],[547.0],[535.2],[512.4],[507.9],[515.2],[529.2],[529.9],[520.9],[494.2],[470.6],[462.4],[463.4],[486.5],[484.9],[479.4],[470.2],[470.1],[434.9],[409.0],[415.2],[419.9],[418.5],[410.1],[389.1],[369.0],[372.5],[376.4],[384.0],[403.1],[387.8],[352.0],[355.4],[350.3],[361.0],[360.0],[349.3],[331.6],[331.0],[331.3],[344.0],[377.2],[378.5],[383.6],[371.8],[391.4],[397.4],[426.2],[427.0],[431.8],[414.8],[400.0],[374.3],[383.5],[399.8],[399.7],[404.3],[392.9],[393.1],[379.8],[406.8],[423.4],[443.9],[446.1],[457.1],[443.0],[434.2],[446.8],[453.6],[456.8],[482.8],[489.8],[496.2],[479.0],[481.2],[502.1],[519.1],[519.9],[525.9],[526.4],[486.3],[465.9],[465.1],[469.1],[454.8],[435.4],[414.3],[386.4],[369.0],[369.2],[371.6],[375.5],[360.1],[341.6],[319.4],[307.1],[307.1],[313.1],[303.2],[294.2],[272.7],[233.0],[214.9],[211.1],[216.6],[207.5],[188.5],[165.6],[150.7],[132.3],[246.8],[286.7],[275.7],[265.9],[248.8],[236.4],[228.8],[229.6],[225.5],[223.0],[102.5],[67.0],[63.3],[57.8],[55.8],[54.6],[55.7],[49.9],[48.0],[44.1],[39.8],[39.0],[38.0],[37.5],[35.3],[33.9],[29.0],[27.7],[26.5],[24.7],[21.4],[22.7],[21.4],[20.3],[20.2],[21.2],[22.1],[23.8],[22.1],[25.2],[25.9],[24.1],[24.3],[24.4],[25.3],[24.5],[23.5],[21.2],[24.3],[23.8],[26.1],[25.0],[25.1],[25.5],[24.1],[26.1],[28.5],[30.8],[30.5],[28.9],[25.1],[23.5],[22.3],[22.1],[23.8],[22.6],[20.7],[20.7],[19.3],[21.0],[25.2],[28.9],[32.6],[35.6],[35.8],[36.6],[39.2],[41.2],[48.6],[54.5],[58.4],[60.3],[62.5],[65.3],[72.2],[81.4],[87.8],[94.1],[95.7],[94.2],[98.4],[102.2],[107.4],[113.1],[114.1],[111.0],[106.0],[113.5],[118.6],[129.6],[130.8],[142.5],[130.9]],\"hovertemplate\":\"date: %{x}<br>confirmed cases: %{y}<br>average increase/decrease: %{customdata[0]}\",\"legendgroup\":\"\",\"marker\":{\"color\":[0.0,0.0,0.0,0.0,0.0,0.0,0.0,0.0,0.0,1263.9,408.3,399.4,390.2,395.7,393.7,389.0,355.6,324.1,308.8,280.7,259.9,247.6,229.1,213.9,192.6,173.1,156.4,151.6,147.0,137.0,133.1,121.3,113.3,98.3,81.4,75.2,74.3,76.7,76.6,73.7,61.2,57.6,58.8,54.3,74.8,72.8,74.1,68.9,73.0,73.1,72.0,71.3,66.9,69.2,60.0,53.6,52.8,49.7,37.6,34.1,38.9,42.7,44.7,43.4,45.2,43.4,40.8,43.3,44.1,43.4,41.8,35.1,31.2,31.8,29.7,31.3,35.8,40.2,38.8,44.2,44.5,46.7,47.7,48.1,50.2,50.0,48.9,42.0,43.2,41.2,43.0,43.8,43.8,42.8,39.2,38.1,34.4,34.0,33.7,29.3,25.4,25.4,25.5,28.3,29.7,30.8,31.4,32.7,36.3,41.3,46.6,42.9,47.3,44.3,43.0,43.6,46.4,45.5,43.1,39.5,40.0,42.0,39.0,40.9,42.0,42.8,48.8,52.1,56.3,62.1,58.9,55.1,47.2,45.0,44.6,41.2,32.6,31.1,27.9,21.4,20.8,24.9,32.6,35.2,38.7,40.7,40.9,39.2,35.1,36.2,37.1,35.8,35.1,32.8,29.5,28.1,28.3,28.3,28.9,29.0,32.1,32.0,31.6,31.6,31.7,36.3,35.6,36.1,38.0,38.2,36.7,37.7,39.0,41.3,44.7,44.3,47.6,48.2,49.8,52.5,53.8,58.6,62.6,66.0,65.8,66.1,70.8,74.8,83.2,86.1,89.0,91.5,96.9,102.0,109.2,116.1,115.9,125.9,127.0,133.3,141.7,143.1,146.3,156.6,158.4,164.7,172.8,176.8,187.8,187.7,196.7,220.6,229.4,225.8,246.4,263.5,289.6,306.5,324.1,353.4,353.0,363.8,385.7,415.7,418.9,430.4,430.2,435.6,434.7,430.0,449.6,462.3,440.3,446.8,444.6,452.0,454.0,468.0,494.2,514.1,528.8,511.4,531.0,511.4,526.4,506.4,516.7,499.8,478.9,458.8,448.5,445.7,446.8,451.8,441.6,438.9,424.2,435.6,438.9,446.5,431.9,418.6,407.3,405.1,412.4,438.6,447.5,442.8,428.3,409.8,427.6,462.3,487.5,498.8,502.0,493.2,478.6,465.1,503.8,549.7,554.7,547.0,535.2,512.4,507.9,515.2,529.2,529.9,520.9,494.2,470.6,462.4,463.4,486.5,484.9,479.4,470.2,470.1,434.9,409.0,415.2,419.9,418.5,410.1,389.1,369.0,372.5,376.4,384.0,403.1,387.8,352.0,355.4,350.3,361.0,360.0,349.3,331.6,331.0,331.3,344.0,377.2,378.5,383.6,371.8,391.4,397.4,426.2,427.0,431.8,414.8,400.0,374.3,383.5,399.8,399.7,404.3,392.9,393.1,379.8,406.8,423.4,443.9,446.1,457.1,443.0,434.2,446.8,453.6,456.8,482.8,489.8,496.2,479.0,481.2,502.1,519.1,519.9,525.9,526.4,486.3,465.9,465.1,469.1,454.8,435.4,414.3,386.4,369.0,369.2,371.6,375.5,360.1,341.6,319.4,307.1,307.1,313.1,303.2,294.2,272.7,233.0,214.9,211.1,216.6,207.5,188.5,165.6,150.7,132.3,246.8,286.7,275.7,265.9,248.8,236.4,228.8,229.6,225.5,223.0,102.5,67.0,63.3,57.8,55.8,54.6,55.7,49.9,48.0,44.1,39.8,39.0,38.0,37.5,35.3,33.9,29.0,27.7,26.5,24.7,21.4,22.7,21.4,20.3,20.2,21.2,22.1,23.8,22.1,25.2,25.9,24.1,24.3,24.4,25.3,24.5,23.5,21.2,24.3,23.8,26.1,25.0,25.1,25.5,24.1,26.1,28.5,30.8,30.5,28.9,25.1,23.5,22.3,22.1,23.8,22.6,20.7,20.7,19.3,21.0,25.2,28.9,32.6,35.6,35.8,36.6,39.2,41.2,48.6,54.5,58.4,60.3,62.5,65.3,72.2,81.4,87.8,94.1,95.7,94.2,98.4,102.2,107.4,113.1,114.1,111.0,106.0,113.5,118.6,129.6,130.8,142.5,130.9],\"coloraxis\":\"coloraxis\",\"symbol\":\"circle\"},\"mode\":\"markers\",\"name\":\"\",\"orientation\":\"v\",\"showlegend\":false,\"x\":[\"2020-04-10T00:00:00\",\"2020-04-11T00:00:00\",\"2020-04-12T00:00:00\",\"2020-04-13T00:00:00\",\"2020-04-14T00:00:00\",\"2020-04-15T00:00:00\",\"2020-04-16T00:00:00\",\"2020-04-17T00:00:00\",\"2020-04-18T00:00:00\",\"2020-04-19T00:00:00\",\"2020-04-20T00:00:00\",\"2020-04-21T00:00:00\",\"2020-04-22T00:00:00\",\"2020-04-23T00:00:00\",\"2020-04-24T00:00:00\",\"2020-04-25T00:00:00\",\"2020-04-26T00:00:00\",\"2020-04-27T00:00:00\",\"2020-04-28T00:00:00\",\"2020-04-29T00:00:00\",\"2020-04-30T00:00:00\",\"2020-05-01T00:00:00\",\"2020-05-02T00:00:00\",\"2020-05-03T00:00:00\",\"2020-05-04T00:00:00\",\"2020-05-05T00:00:00\",\"2020-05-06T00:00:00\",\"2020-05-07T00:00:00\",\"2020-05-08T00:00:00\",\"2020-05-09T00:00:00\",\"2020-05-10T00:00:00\",\"2020-05-11T00:00:00\",\"2020-05-12T00:00:00\",\"2020-05-13T00:00:00\",\"2020-05-14T00:00:00\",\"2020-05-15T00:00:00\",\"2020-05-16T00:00:00\",\"2020-05-17T00:00:00\",\"2020-05-18T00:00:00\",\"2020-05-19T00:00:00\",\"2020-05-20T00:00:00\",\"2020-05-21T00:00:00\",\"2020-05-22T00:00:00\",\"2020-05-23T00:00:00\",\"2020-05-24T00:00:00\",\"2020-05-25T00:00:00\",\"2020-05-26T00:00:00\",\"2020-05-27T00:00:00\",\"2020-05-28T00:00:00\",\"2020-05-29T00:00:00\",\"2020-05-30T00:00:00\",\"2020-05-31T00:00:00\",\"2020-06-01T00:00:00\",\"2020-06-02T00:00:00\",\"2020-06-03T00:00:00\",\"2020-06-04T00:00:00\",\"2020-06-05T00:00:00\",\"2020-06-06T00:00:00\",\"2020-06-07T00:00:00\",\"2020-06-08T00:00:00\",\"2020-06-09T00:00:00\",\"2020-06-10T00:00:00\",\"2020-06-11T00:00:00\",\"2020-06-12T00:00:00\",\"2020-06-13T00:00:00\",\"2020-06-14T00:00:00\",\"2020-06-15T00:00:00\",\"2020-06-16T00:00:00\",\"2020-06-17T00:00:00\",\"2020-06-18T00:00:00\",\"2020-06-19T00:00:00\",\"2020-06-20T00:00:00\",\"2020-06-21T00:00:00\",\"2020-06-22T00:00:00\",\"2020-06-23T00:00:00\",\"2020-06-24T00:00:00\",\"2020-06-25T00:00:00\",\"2020-06-26T00:00:00\",\"2020-06-27T00:00:00\",\"2020-06-28T00:00:00\",\"2020-06-29T00:00:00\",\"2020-06-30T00:00:00\",\"2020-07-01T00:00:00\",\"2020-07-02T00:00:00\",\"2020-07-03T00:00:00\",\"2020-07-04T00:00:00\",\"2020-07-05T00:00:00\",\"2020-07-06T00:00:00\",\"2020-07-07T00:00:00\",\"2020-07-08T00:00:00\",\"2020-07-09T00:00:00\",\"2020-07-10T00:00:00\",\"2020-07-11T00:00:00\",\"2020-07-12T00:00:00\",\"2020-07-13T00:00:00\",\"2020-07-14T00:00:00\",\"2020-07-15T00:00:00\",\"2020-07-16T00:00:00\",\"2020-07-17T00:00:00\",\"2020-07-18T00:00:00\",\"2020-07-19T00:00:00\",\"2020-07-20T00:00:00\",\"2020-07-21T00:00:00\",\"2020-07-22T00:00:00\",\"2020-07-23T00:00:00\",\"2020-07-24T00:00:00\",\"2020-07-25T00:00:00\",\"2020-07-26T00:00:00\",\"2020-07-27T00:00:00\",\"2020-07-28T00:00:00\",\"2020-07-29T00:00:00\",\"2020-07-30T00:00:00\",\"2020-07-31T00:00:00\",\"2020-08-01T00:00:00\",\"2020-08-02T00:00:00\",\"2020-08-03T00:00:00\",\"2020-08-04T00:00:00\",\"2020-08-05T00:00:00\",\"2020-08-06T00:00:00\",\"2020-08-07T00:00:00\",\"2020-08-08T00:00:00\",\"2020-08-09T00:00:00\",\"2020-08-10T00:00:00\",\"2020-08-11T00:00:00\",\"2020-08-12T00:00:00\",\"2020-08-13T00:00:00\",\"2020-08-14T00:00:00\",\"2020-08-15T00:00:00\",\"2020-08-16T00:00:00\",\"2020-08-17T00:00:00\",\"2020-08-18T00:00:00\",\"2020-08-19T00:00:00\",\"2020-08-20T00:00:00\",\"2020-08-21T00:00:00\",\"2020-08-22T00:00:00\",\"2020-08-23T00:00:00\",\"2020-08-24T00:00:00\",\"2020-08-25T00:00:00\",\"2020-08-26T00:00:00\",\"2020-08-27T00:00:00\",\"2020-08-28T00:00:00\",\"2020-08-29T00:00:00\",\"2020-08-30T00:00:00\",\"2020-08-31T00:00:00\",\"2020-09-01T00:00:00\",\"2020-09-02T00:00:00\",\"2020-09-03T00:00:00\",\"2020-09-04T00:00:00\",\"2020-09-05T00:00:00\",\"2020-09-06T00:00:00\",\"2020-09-07T00:00:00\",\"2020-09-08T00:00:00\",\"2020-09-09T00:00:00\",\"2020-09-10T00:00:00\",\"2020-09-11T00:00:00\",\"2020-09-12T00:00:00\",\"2020-09-13T00:00:00\",\"2020-09-14T00:00:00\",\"2020-09-15T00:00:00\",\"2020-09-16T00:00:00\",\"2020-09-17T00:00:00\",\"2020-09-18T00:00:00\",\"2020-09-19T00:00:00\",\"2020-09-20T00:00:00\",\"2020-09-21T00:00:00\",\"2020-09-22T00:00:00\",\"2020-09-23T00:00:00\",\"2020-09-24T00:00:00\",\"2020-09-25T00:00:00\",\"2020-09-26T00:00:00\",\"2020-09-27T00:00:00\",\"2020-09-28T00:00:00\",\"2020-09-29T00:00:00\",\"2020-09-30T00:00:00\",\"2020-10-01T00:00:00\",\"2020-10-02T00:00:00\",\"2020-10-03T00:00:00\",\"2020-10-04T00:00:00\",\"2020-10-05T00:00:00\",\"2020-10-06T00:00:00\",\"2020-10-07T00:00:00\",\"2020-10-08T00:00:00\",\"2020-10-09T00:00:00\",\"2020-10-10T00:00:00\",\"2020-10-11T00:00:00\",\"2020-10-12T00:00:00\",\"2020-10-13T00:00:00\",\"2020-10-14T00:00:00\",\"2020-10-15T00:00:00\",\"2020-10-16T00:00:00\",\"2020-10-17T00:00:00\",\"2020-10-18T00:00:00\",\"2020-10-19T00:00:00\",\"2020-10-20T00:00:00\",\"2020-10-21T00:00:00\",\"2020-10-22T00:00:00\",\"2020-10-23T00:00:00\",\"2020-10-24T00:00:00\",\"2020-10-25T00:00:00\",\"2020-10-26T00:00:00\",\"2020-10-27T00:00:00\",\"2020-10-28T00:00:00\",\"2020-10-29T00:00:00\",\"2020-10-30T00:00:00\",\"2020-10-31T00:00:00\",\"2020-11-01T00:00:00\",\"2020-11-02T00:00:00\",\"2020-11-03T00:00:00\",\"2020-11-04T00:00:00\",\"2020-11-05T00:00:00\",\"2020-11-06T00:00:00\",\"2020-11-07T00:00:00\",\"2020-11-08T00:00:00\",\"2020-11-09T00:00:00\",\"2020-11-10T00:00:00\",\"2020-11-11T00:00:00\",\"2020-11-12T00:00:00\",\"2020-11-13T00:00:00\",\"2020-11-14T00:00:00\",\"2020-11-15T00:00:00\",\"2020-11-16T00:00:00\",\"2020-11-17T00:00:00\",\"2020-11-18T00:00:00\",\"2020-11-19T00:00:00\",\"2020-11-20T00:00:00\",\"2020-11-21T00:00:00\",\"2020-11-22T00:00:00\",\"2020-11-23T00:00:00\",\"2020-11-24T00:00:00\",\"2020-11-25T00:00:00\",\"2020-11-26T00:00:00\",\"2020-11-27T00:00:00\",\"2020-11-28T00:00:00\",\"2020-11-29T00:00:00\",\"2020-11-30T00:00:00\",\"2020-12-01T00:00:00\",\"2020-12-02T00:00:00\",\"2020-12-03T00:00:00\",\"2020-12-04T00:00:00\",\"2020-12-05T00:00:00\",\"2020-12-06T00:00:00\",\"2020-12-07T00:00:00\",\"2020-12-08T00:00:00\",\"2020-12-09T00:00:00\",\"2020-12-10T00:00:00\",\"2020-12-11T00:00:00\",\"2020-12-12T00:00:00\",\"2020-12-13T00:00:00\",\"2020-12-14T00:00:00\",\"2020-12-15T00:00:00\",\"2020-12-16T00:00:00\",\"2020-12-17T00:00:00\",\"2020-12-18T00:00:00\",\"2020-12-19T00:00:00\",\"2020-12-20T00:00:00\",\"2020-12-21T00:00:00\",\"2020-12-22T00:00:00\",\"2020-12-23T00:00:00\",\"2020-12-24T00:00:00\",\"2020-12-25T00:00:00\",\"2020-12-26T00:00:00\",\"2020-12-27T00:00:00\",\"2020-12-28T00:00:00\",\"2020-12-29T00:00:00\",\"2020-12-30T00:00:00\",\"2020-12-31T00:00:00\",\"2021-01-01T00:00:00\",\"2021-01-02T00:00:00\",\"2021-01-03T00:00:00\",\"2021-01-04T00:00:00\",\"2021-01-05T00:00:00\",\"2021-01-06T00:00:00\",\"2021-01-07T00:00:00\",\"2021-01-08T00:00:00\",\"2021-01-09T00:00:00\",\"2021-01-10T00:00:00\",\"2021-01-11T00:00:00\",\"2021-01-12T00:00:00\",\"2021-01-13T00:00:00\",\"2021-01-14T00:00:00\",\"2021-01-15T00:00:00\",\"2021-01-16T00:00:00\",\"2021-01-17T00:00:00\",\"2021-01-18T00:00:00\",\"2021-01-19T00:00:00\",\"2021-01-20T00:00:00\",\"2021-01-21T00:00:00\",\"2021-01-22T00:00:00\",\"2021-01-23T00:00:00\",\"2021-01-24T00:00:00\",\"2021-01-25T00:00:00\",\"2021-01-26T00:00:00\",\"2021-01-27T00:00:00\",\"2021-01-28T00:00:00\",\"2021-01-29T00:00:00\",\"2021-01-30T00:00:00\",\"2021-01-31T00:00:00\",\"2021-02-01T00:00:00\",\"2021-02-02T00:00:00\",\"2021-02-03T00:00:00\",\"2021-02-04T00:00:00\",\"2021-02-05T00:00:00\",\"2021-02-06T00:00:00\",\"2021-02-07T00:00:00\",\"2021-02-08T00:00:00\",\"2021-02-09T00:00:00\",\"2021-02-10T00:00:00\",\"2021-02-11T00:00:00\",\"2021-02-12T00:00:00\",\"2021-02-13T00:00:00\",\"2021-02-14T00:00:00\",\"2021-02-15T00:00:00\",\"2021-02-16T00:00:00\",\"2021-02-17T00:00:00\",\"2021-02-18T00:00:00\",\"2021-02-19T00:00:00\",\"2021-02-20T00:00:00\",\"2021-02-21T00:00:00\",\"2021-02-22T00:00:00\",\"2021-02-23T00:00:00\",\"2021-02-24T00:00:00\",\"2021-02-25T00:00:00\",\"2021-02-26T00:00:00\",\"2021-02-27T00:00:00\",\"2021-02-28T00:00:00\",\"2021-03-01T00:00:00\",\"2021-03-02T00:00:00\",\"2021-03-03T00:00:00\",\"2021-03-04T00:00:00\",\"2021-03-05T00:00:00\",\"2021-03-06T00:00:00\",\"2021-03-07T00:00:00\",\"2021-03-08T00:00:00\",\"2021-03-09T00:00:00\",\"2021-03-10T00:00:00\",\"2021-03-11T00:00:00\",\"2021-03-12T00:00:00\",\"2021-03-13T00:00:00\",\"2021-03-14T00:00:00\",\"2021-03-15T00:00:00\",\"2021-03-16T00:00:00\",\"2021-03-17T00:00:00\",\"2021-03-18T00:00:00\",\"2021-03-19T00:00:00\",\"2021-03-20T00:00:00\",\"2021-03-21T00:00:00\",\"2021-03-22T00:00:00\",\"2021-03-23T00:00:00\",\"2021-03-24T00:00:00\",\"2021-03-25T00:00:00\",\"2021-03-26T00:00:00\",\"2021-03-27T00:00:00\",\"2021-03-28T00:00:00\",\"2021-03-29T00:00:00\",\"2021-03-30T00:00:00\",\"2021-03-31T00:00:00\",\"2021-04-01T00:00:00\",\"2021-04-02T00:00:00\",\"2021-04-03T00:00:00\",\"2021-04-04T00:00:00\",\"2021-04-05T00:00:00\",\"2021-04-06T00:00:00\",\"2021-04-07T00:00:00\",\"2021-04-08T00:00:00\",\"2021-04-09T00:00:00\",\"2021-04-10T00:00:00\",\"2021-04-11T00:00:00\",\"2021-04-12T00:00:00\",\"2021-04-13T00:00:00\",\"2021-04-14T00:00:00\",\"2021-04-15T00:00:00\",\"2021-04-16T00:00:00\",\"2021-04-17T00:00:00\",\"2021-04-18T00:00:00\",\"2021-04-19T00:00:00\",\"2021-04-20T00:00:00\",\"2021-04-21T00:00:00\",\"2021-04-22T00:00:00\",\"2021-04-23T00:00:00\",\"2021-04-24T00:00:00\",\"2021-04-25T00:00:00\",\"2021-04-26T00:00:00\",\"2021-04-27T00:00:00\",\"2021-04-28T00:00:00\",\"2021-04-29T00:00:00\",\"2021-04-30T00:00:00\",\"2021-05-01T00:00:00\",\"2021-05-02T00:00:00\",\"2021-05-03T00:00:00\",\"2021-05-04T00:00:00\",\"2021-05-05T00:00:00\",\"2021-05-06T00:00:00\",\"2021-05-07T00:00:00\",\"2021-05-08T00:00:00\",\"2021-05-09T00:00:00\",\"2021-05-10T00:00:00\",\"2021-05-11T00:00:00\",\"2021-05-12T00:00:00\",\"2021-05-13T00:00:00\",\"2021-05-14T00:00:00\",\"2021-05-15T00:00:00\",\"2021-05-16T00:00:00\",\"2021-05-17T00:00:00\",\"2021-05-18T00:00:00\",\"2021-05-19T00:00:00\",\"2021-05-20T00:00:00\",\"2021-05-21T00:00:00\",\"2021-05-22T00:00:00\",\"2021-05-23T00:00:00\",\"2021-05-24T00:00:00\",\"2021-05-25T00:00:00\",\"2021-05-26T00:00:00\",\"2021-05-27T00:00:00\",\"2021-05-28T00:00:00\",\"2021-05-29T00:00:00\",\"2021-05-30T00:00:00\",\"2021-05-31T00:00:00\",\"2021-06-01T00:00:00\",\"2021-06-02T00:00:00\",\"2021-06-03T00:00:00\",\"2021-06-04T00:00:00\",\"2021-06-05T00:00:00\",\"2021-06-06T00:00:00\",\"2021-06-07T00:00:00\",\"2021-06-08T00:00:00\",\"2021-06-09T00:00:00\",\"2021-06-10T00:00:00\",\"2021-06-11T00:00:00\",\"2021-06-12T00:00:00\",\"2021-06-13T00:00:00\",\"2021-06-14T00:00:00\",\"2021-06-15T00:00:00\",\"2021-06-16T00:00:00\",\"2021-06-17T00:00:00\",\"2021-06-18T00:00:00\",\"2021-06-19T00:00:00\",\"2021-06-20T00:00:00\",\"2021-06-21T00:00:00\",\"2021-06-22T00:00:00\",\"2021-06-23T00:00:00\",\"2021-06-24T00:00:00\",\"2021-06-25T00:00:00\",\"2021-06-26T00:00:00\",\"2021-06-27T00:00:00\",\"2021-06-28T00:00:00\",\"2021-06-29T00:00:00\",\"2021-06-30T00:00:00\",\"2021-07-01T00:00:00\",\"2021-07-02T00:00:00\",\"2021-07-03T00:00:00\",\"2021-07-04T00:00:00\",\"2021-07-05T00:00:00\",\"2021-07-06T00:00:00\",\"2021-07-07T00:00:00\",\"2021-07-08T00:00:00\",\"2021-07-09T00:00:00\",\"2021-07-10T00:00:00\",\"2021-07-11T00:00:00\",\"2021-07-12T00:00:00\",\"2021-07-13T00:00:00\",\"2021-07-14T00:00:00\",\"2021-07-15T00:00:00\",\"2021-07-16T00:00:00\",\"2021-07-17T00:00:00\",\"2021-07-18T00:00:00\",\"2021-07-19T00:00:00\",\"2021-07-20T00:00:00\",\"2021-07-21T00:00:00\",\"2021-07-22T00:00:00\",\"2021-07-23T00:00:00\",\"2021-07-24T00:00:00\",\"2021-07-25T00:00:00\",\"2021-07-26T00:00:00\",\"2021-07-27T00:00:00\",\"2021-07-28T00:00:00\",\"2021-07-29T00:00:00\",\"2021-07-30T00:00:00\",\"2021-07-31T00:00:00\",\"2021-08-01T00:00:00\",\"2021-08-02T00:00:00\",\"2021-08-03T00:00:00\",\"2021-08-04T00:00:00\",\"2021-08-05T00:00:00\",\"2021-08-06T00:00:00\",\"2021-08-07T00:00:00\",\"2021-08-08T00:00:00\",\"2021-08-09T00:00:00\",\"2021-08-10T00:00:00\",\"2021-08-11T00:00:00\",\"2021-08-12T00:00:00\",\"2021-08-13T00:00:00\",\"2021-08-14T00:00:00\",\"2021-08-15T00:00:00\"],\"xaxis\":\"x\",\"y\":[8928,9362,9784,10092,10426,10848,11409,11863,12163,12639,13011,13356,13686,14049,14363,14738,14965,15104,15251,15446,15610,15832,15977,16188,16289,16469,16529,16620,16721,16816,16941,17045,17110,17171,17103,17221,17272,17387,17487,17553,17553,17621,17698,17714,17851,17949,18013,18076,18217,18284,18273,18334,18367,18406,18451,18485,18541,18573,18593,18625,18662,18761,18814,18840,18903,18919,18949,19006,19034,19059,19080,19112,19126,19158,19200,19232,19307,19408,19422,19501,19525,19579,19603,19639,19702,19732,19796,19828,19854,19913,19955,20017,20041,20067,20094,20113,20140,20168,20191,20206,20209,20271,20296,20350,20391,20421,20454,20495,20554,20619,20675,20700,20769,20793,20821,20857,20918,20950,20985,21014,21075,21120,21159,21202,21241,21285,21406,21471,21548,21635,21664,21671,21631,21652,21687,21697,21732,21782,21827,21849,21872,21920,21957,22004,22074,22104,22141,22174,22178,22211,22243,22278,22308,22332,22369,22385,22424,22457,22467,22501,22564,22598,22624,22648,22686,22748,22780,22818,22847,22883,22931,22975,23014,23061,23133,23191,23256,23300,23345,23408,23469,23561,23640,23721,23791,23852,23964,24048,24177,24269,24359,24476,24609,24741,24883,25013,25123,25307,25447,25602,25776,25907,26072,26307,26467,26660,26851,27075,27325,27479,27743,28113,28366,28565,28931,29295,29747,30140,30566,31013,31273,31751,32223,32722,33120,33599,34049,34496,34913,35313,35769,36374,36626,37190,37566,38119,38589,39176,39855,40454,41057,41488,41936,42304,42830,43183,43756,44174,44644,45042,45542,45945,46404,46822,47246,47572,47998,48530,49033,49507,49861,50131,50477,50873,51370,51958,52473,52958,53316,53605,54137,54754,55352,55861,56390,56890,57259,57609,58354,59102,59684,60224,60704,60985,61469,62042,62551,62908,63563,64044,64390,64848,65338,65850,66318,66836,67253,67609,67912,68134,68542,69047,69523,69951,70209,70526,70978,71373,71752,72165,72420,72567,73077,73454,73819,74126,74471,74689,75062,75478,75860,76339,76862,77290,77537,78040,78445,78951,79332,79796,80008,80339,80605,81125,81535,82037,82488,82880,83263,83594,84076,84573,85044,85586,86106,86467,86830,87348,87799,88162,88904,89471,90006,90376,90918,91488,92021,92547,93058,93426,93767,94130,94657,95067,95466,95842,96164,96411,96748,97118,97483,97885,98258,98483,98660,98913,99235,99542,99780,100060,100210,100215,100407,100594,100826,100988,101120,101198,101287,101383,102678,103082,103164,103253,103314,103352,103408,103494,103542,103613,103703,103752,103797,103831,103872,103898,103965,103993,104022,104054,104101,104142,104177,104206,104225,104237,104255,104270,104287,104301,104315,104369,104391,104409,104427,104449,104476,104508,104508,104553,104574,104610,104634,104653,104680,104694,104711,104720,104751,104791,104835,104860,104885,104908,104921,104955,104996,105028,105056,105080,105086,105095,105108,105129,105159,105181,105203,105235,105249,105290,105338,105384,105434,105485,105517,105547,105595,105647,105735,105835,105922,105987,106059,106138,106239,106361,106473,106588,106692,106777,106906,107009,107133,107269,107380,107471,107533,107723,107878,108073,108214,108434,108442],\"yaxis\":\"y\",\"type\":\"scatter\"}],                        {\"template\":{\"data\":{\"bar\":[{\"error_x\":{\"color\":\"#2a3f5f\"},\"error_y\":{\"color\":\"#2a3f5f\"},\"marker\":{\"line\":{\"color\":\"#E5ECF6\",\"width\":0.5},\"pattern\":{\"fillmode\":\"overlay\",\"size\":10,\"solidity\":0.2}},\"type\":\"bar\"}],\"barpolar\":[{\"marker\":{\"line\":{\"color\":\"#E5ECF6\",\"width\":0.5},\"pattern\":{\"fillmode\":\"overlay\",\"size\":10,\"solidity\":0.2}},\"type\":\"barpolar\"}],\"carpet\":[{\"aaxis\":{\"endlinecolor\":\"#2a3f5f\",\"gridcolor\":\"white\",\"linecolor\":\"white\",\"minorgridcolor\":\"white\",\"startlinecolor\":\"#2a3f5f\"},\"baxis\":{\"endlinecolor\":\"#2a3f5f\",\"gridcolor\":\"white\",\"linecolor\":\"white\",\"minorgridcolor\":\"white\",\"startlinecolor\":\"#2a3f5f\"},\"type\":\"carpet\"}],\"choropleth\":[{\"colorbar\":{\"outlinewidth\":0,\"ticks\":\"\"},\"type\":\"choropleth\"}],\"contour\":[{\"colorbar\":{\"outlinewidth\":0,\"ticks\":\"\"},\"colorscale\":[[0.0,\"#0d0887\"],[0.1111111111111111,\"#46039f\"],[0.2222222222222222,\"#7201a8\"],[0.3333333333333333,\"#9c179e\"],[0.4444444444444444,\"#bd3786\"],[0.5555555555555556,\"#d8576b\"],[0.6666666666666666,\"#ed7953\"],[0.7777777777777778,\"#fb9f3a\"],[0.8888888888888888,\"#fdca26\"],[1.0,\"#f0f921\"]],\"type\":\"contour\"}],\"contourcarpet\":[{\"colorbar\":{\"outlinewidth\":0,\"ticks\":\"\"},\"type\":\"contourcarpet\"}],\"heatmap\":[{\"colorbar\":{\"outlinewidth\":0,\"ticks\":\"\"},\"colorscale\":[[0.0,\"#0d0887\"],[0.1111111111111111,\"#46039f\"],[0.2222222222222222,\"#7201a8\"],[0.3333333333333333,\"#9c179e\"],[0.4444444444444444,\"#bd3786\"],[0.5555555555555556,\"#d8576b\"],[0.6666666666666666,\"#ed7953\"],[0.7777777777777778,\"#fb9f3a\"],[0.8888888888888888,\"#fdca26\"],[1.0,\"#f0f921\"]],\"type\":\"heatmap\"}],\"heatmapgl\":[{\"colorbar\":{\"outlinewidth\":0,\"ticks\":\"\"},\"colorscale\":[[0.0,\"#0d0887\"],[0.1111111111111111,\"#46039f\"],[0.2222222222222222,\"#7201a8\"],[0.3333333333333333,\"#9c179e\"],[0.4444444444444444,\"#bd3786\"],[0.5555555555555556,\"#d8576b\"],[0.6666666666666666,\"#ed7953\"],[0.7777777777777778,\"#fb9f3a\"],[0.8888888888888888,\"#fdca26\"],[1.0,\"#f0f921\"]],\"type\":\"heatmapgl\"}],\"histogram\":[{\"marker\":{\"pattern\":{\"fillmode\":\"overlay\",\"size\":10,\"solidity\":0.2}},\"type\":\"histogram\"}],\"histogram2d\":[{\"colorbar\":{\"outlinewidth\":0,\"ticks\":\"\"},\"colorscale\":[[0.0,\"#0d0887\"],[0.1111111111111111,\"#46039f\"],[0.2222222222222222,\"#7201a8\"],[0.3333333333333333,\"#9c179e\"],[0.4444444444444444,\"#bd3786\"],[0.5555555555555556,\"#d8576b\"],[0.6666666666666666,\"#ed7953\"],[0.7777777777777778,\"#fb9f3a\"],[0.8888888888888888,\"#fdca26\"],[1.0,\"#f0f921\"]],\"type\":\"histogram2d\"}],\"histogram2dcontour\":[{\"colorbar\":{\"outlinewidth\":0,\"ticks\":\"\"},\"colorscale\":[[0.0,\"#0d0887\"],[0.1111111111111111,\"#46039f\"],[0.2222222222222222,\"#7201a8\"],[0.3333333333333333,\"#9c179e\"],[0.4444444444444444,\"#bd3786\"],[0.5555555555555556,\"#d8576b\"],[0.6666666666666666,\"#ed7953\"],[0.7777777777777778,\"#fb9f3a\"],[0.8888888888888888,\"#fdca26\"],[1.0,\"#f0f921\"]],\"type\":\"histogram2dcontour\"}],\"mesh3d\":[{\"colorbar\":{\"outlinewidth\":0,\"ticks\":\"\"},\"type\":\"mesh3d\"}],\"parcoords\":[{\"line\":{\"colorbar\":{\"outlinewidth\":0,\"ticks\":\"\"}},\"type\":\"parcoords\"}],\"pie\":[{\"automargin\":true,\"type\":\"pie\"}],\"scatter\":[{\"marker\":{\"colorbar\":{\"outlinewidth\":0,\"ticks\":\"\"}},\"type\":\"scatter\"}],\"scatter3d\":[{\"line\":{\"colorbar\":{\"outlinewidth\":0,\"ticks\":\"\"}},\"marker\":{\"colorbar\":{\"outlinewidth\":0,\"ticks\":\"\"}},\"type\":\"scatter3d\"}],\"scattercarpet\":[{\"marker\":{\"colorbar\":{\"outlinewidth\":0,\"ticks\":\"\"}},\"type\":\"scattercarpet\"}],\"scattergeo\":[{\"marker\":{\"colorbar\":{\"outlinewidth\":0,\"ticks\":\"\"}},\"type\":\"scattergeo\"}],\"scattergl\":[{\"marker\":{\"colorbar\":{\"outlinewidth\":0,\"ticks\":\"\"}},\"type\":\"scattergl\"}],\"scattermapbox\":[{\"marker\":{\"colorbar\":{\"outlinewidth\":0,\"ticks\":\"\"}},\"type\":\"scattermapbox\"}],\"scatterpolar\":[{\"marker\":{\"colorbar\":{\"outlinewidth\":0,\"ticks\":\"\"}},\"type\":\"scatterpolar\"}],\"scatterpolargl\":[{\"marker\":{\"colorbar\":{\"outlinewidth\":0,\"ticks\":\"\"}},\"type\":\"scatterpolargl\"}],\"scatterternary\":[{\"marker\":{\"colorbar\":{\"outlinewidth\":0,\"ticks\":\"\"}},\"type\":\"scatterternary\"}],\"surface\":[{\"colorbar\":{\"outlinewidth\":0,\"ticks\":\"\"},\"colorscale\":[[0.0,\"#0d0887\"],[0.1111111111111111,\"#46039f\"],[0.2222222222222222,\"#7201a8\"],[0.3333333333333333,\"#9c179e\"],[0.4444444444444444,\"#bd3786\"],[0.5555555555555556,\"#d8576b\"],[0.6666666666666666,\"#ed7953\"],[0.7777777777777778,\"#fb9f3a\"],[0.8888888888888888,\"#fdca26\"],[1.0,\"#f0f921\"]],\"type\":\"surface\"}],\"table\":[{\"cells\":{\"fill\":{\"color\":\"#EBF0F8\"},\"line\":{\"color\":\"white\"}},\"header\":{\"fill\":{\"color\":\"#C8D4E3\"},\"line\":{\"color\":\"white\"}},\"type\":\"table\"}]},\"layout\":{\"annotationdefaults\":{\"arrowcolor\":\"#2a3f5f\",\"arrowhead\":0,\"arrowwidth\":1},\"autotypenumbers\":\"strict\",\"coloraxis\":{\"colorbar\":{\"outlinewidth\":0,\"ticks\":\"\"}},\"colorscale\":{\"diverging\":[[0,\"#8e0152\"],[0.1,\"#c51b7d\"],[0.2,\"#de77ae\"],[0.3,\"#f1b6da\"],[0.4,\"#fde0ef\"],[0.5,\"#f7f7f7\"],[0.6,\"#e6f5d0\"],[0.7,\"#b8e186\"],[0.8,\"#7fbc41\"],[0.9,\"#4d9221\"],[1,\"#276419\"]],\"sequential\":[[0.0,\"#0d0887\"],[0.1111111111111111,\"#46039f\"],[0.2222222222222222,\"#7201a8\"],[0.3333333333333333,\"#9c179e\"],[0.4444444444444444,\"#bd3786\"],[0.5555555555555556,\"#d8576b\"],[0.6666666666666666,\"#ed7953\"],[0.7777777777777778,\"#fb9f3a\"],[0.8888888888888888,\"#fdca26\"],[1.0,\"#f0f921\"]],\"sequentialminus\":[[0.0,\"#0d0887\"],[0.1111111111111111,\"#46039f\"],[0.2222222222222222,\"#7201a8\"],[0.3333333333333333,\"#9c179e\"],[0.4444444444444444,\"#bd3786\"],[0.5555555555555556,\"#d8576b\"],[0.6666666666666666,\"#ed7953\"],[0.7777777777777778,\"#fb9f3a\"],[0.8888888888888888,\"#fdca26\"],[1.0,\"#f0f921\"]]},\"colorway\":[\"#636efa\",\"#EF553B\",\"#00cc96\",\"#ab63fa\",\"#FFA15A\",\"#19d3f3\",\"#FF6692\",\"#B6E880\",\"#FF97FF\",\"#FECB52\"],\"font\":{\"color\":\"#2a3f5f\"},\"geo\":{\"bgcolor\":\"white\",\"lakecolor\":\"white\",\"landcolor\":\"#E5ECF6\",\"showlakes\":true,\"showland\":true,\"subunitcolor\":\"white\"},\"hoverlabel\":{\"align\":\"left\"},\"hovermode\":\"closest\",\"mapbox\":{\"style\":\"light\"},\"paper_bgcolor\":\"white\",\"plot_bgcolor\":\"#E5ECF6\",\"polar\":{\"angularaxis\":{\"gridcolor\":\"white\",\"linecolor\":\"white\",\"ticks\":\"\"},\"bgcolor\":\"#E5ECF6\",\"radialaxis\":{\"gridcolor\":\"white\",\"linecolor\":\"white\",\"ticks\":\"\"}},\"scene\":{\"xaxis\":{\"backgroundcolor\":\"#E5ECF6\",\"gridcolor\":\"white\",\"gridwidth\":2,\"linecolor\":\"white\",\"showbackground\":true,\"ticks\":\"\",\"zerolinecolor\":\"white\"},\"yaxis\":{\"backgroundcolor\":\"#E5ECF6\",\"gridcolor\":\"white\",\"gridwidth\":2,\"linecolor\":\"white\",\"showbackground\":true,\"ticks\":\"\",\"zerolinecolor\":\"white\"},\"zaxis\":{\"backgroundcolor\":\"#E5ECF6\",\"gridcolor\":\"white\",\"gridwidth\":2,\"linecolor\":\"white\",\"showbackground\":true,\"ticks\":\"\",\"zerolinecolor\":\"white\"}},\"shapedefaults\":{\"line\":{\"color\":\"#2a3f5f\"}},\"ternary\":{\"aaxis\":{\"gridcolor\":\"white\",\"linecolor\":\"white\",\"ticks\":\"\"},\"baxis\":{\"gridcolor\":\"white\",\"linecolor\":\"white\",\"ticks\":\"\"},\"bgcolor\":\"#E5ECF6\",\"caxis\":{\"gridcolor\":\"white\",\"linecolor\":\"white\",\"ticks\":\"\"}},\"title\":{\"x\":0.05},\"xaxis\":{\"automargin\":true,\"gridcolor\":\"white\",\"linecolor\":\"white\",\"ticks\":\"\",\"title\":{\"standoff\":15},\"zerolinecolor\":\"white\",\"zerolinewidth\":2},\"yaxis\":{\"automargin\":true,\"gridcolor\":\"white\",\"linecolor\":\"white\",\"ticks\":\"\",\"title\":{\"standoff\":15},\"zerolinecolor\":\"white\",\"zerolinewidth\":2}}},\"xaxis\":{\"anchor\":\"y\",\"domain\":[0.0,1.0],\"title\":{\"text\":\"date\"}},\"yaxis\":{\"anchor\":\"x\",\"domain\":[0.0,1.0],\"title\":{\"text\":\"confirmed_cases\"}},\"coloraxis\":{\"colorbar\":{\"title\":{\"text\":\"rate\"}},\"colorscale\":[[0.0,\"#0d0887\"],[0.1111111111111111,\"#46039f\"],[0.2222222222222222,\"#7201a8\"],[0.3333333333333333,\"#9c179e\"],[0.4444444444444444,\"#bd3786\"],[0.5555555555555556,\"#d8576b\"],[0.6666666666666666,\"#ed7953\"],[0.7777777777777778,\"#fb9f3a\"],[0.8888888888888888,\"#fdca26\"],[1.0,\"#f0f921\"]]},\"legend\":{\"tracegroupgap\":0},\"title\":{\"text\":\"Date vs. Confirmed Cases\"}},                        {\"responsive\": true}                    ).then(function(){\n",
       "                            \n",
       "var gd = document.getElementById('c0115d8c-cd7d-40c4-b5f5-f0b91dd6d82e');\n",
       "var x = new MutationObserver(function (mutations, observer) {{\n",
       "        var display = window.getComputedStyle(gd).display;\n",
       "        if (!display || display === 'none') {{\n",
       "            console.log([gd, 'removed!']);\n",
       "            Plotly.purge(gd);\n",
       "            observer.disconnect();\n",
       "        }}\n",
       "}});\n",
       "\n",
       "// Listen for the removal of the full notebook cells\n",
       "var notebookContainer = gd.closest('#notebook-container');\n",
       "if (notebookContainer) {{\n",
       "    x.observe(notebookContainer, {childList: true});\n",
       "}}\n",
       "\n",
       "// Listen for the clearing of the current output cell\n",
       "var outputEl = gd.closest('.output');\n",
       "if (outputEl) {{\n",
       "    x.observe(outputEl, {childList: true});\n",
       "}}\n",
       "\n",
       "                        })                };                });            </script>        </div>"
      ]
     },
     "metadata": {},
     "output_type": "display_data"
    }
   ],
   "source": [
    "import plotly.express as px\n",
    "\n",
    "fig = px.scatter(df, x = 'date', y= 'confirmed_cases', color = 'rate', title = 'Date vs. Confirmed Cases', custom_data = ['rate'])\n",
    "fig.update_traces(hovertemplate = \"<br>\".join([\n",
    "    \"date: %{x}\",\n",
    "    \"confirmed cases: %{y}\", \n",
    "    \"average increase/decrease: %{customdata[0]}\"\n",
    "    ])\n",
    ")\n",
    "fig.show()"
   ]
  },
  {
   "cell_type": "markdown",
   "id": "1e767b78",
   "metadata": {},
   "source": [
    "# Save the image above by clicking download as a png!"
   ]
  },
  {
   "cell_type": "code",
   "execution_count": null,
   "id": "70bf5727",
   "metadata": {},
   "outputs": [],
   "source": []
  },
  {
   "cell_type": "code",
   "execution_count": null,
   "id": "46a6a227",
   "metadata": {},
   "outputs": [],
   "source": []
  }
 ],
 "metadata": {
  "kernelspec": {
   "display_name": "Python 3 (ipykernel)",
   "language": "python",
   "name": "python3"
  },
  "language_info": {
   "codemirror_mode": {
    "name": "ipython",
    "version": 3
   },
   "file_extension": ".py",
   "mimetype": "text/x-python",
   "name": "python",
   "nbconvert_exporter": "python",
   "pygments_lexer": "ipython3",
   "version": "3.9.12"
  }
 },
 "nbformat": 4,
 "nbformat_minor": 5
}
